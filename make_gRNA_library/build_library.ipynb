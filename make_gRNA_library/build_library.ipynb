{
 "cells": [
  {
   "cell_type": "code",
   "execution_count": 1,
   "metadata": {},
   "outputs": [],
   "source": [
    "%matplotlib inline\n",
    "from Bio import SeqIO\n",
    "import os\n",
    "import subprocess\n",
    "import random\n",
    "from itertools import islice\n",
    "from collections import Counter\n",
    "from datetime import datetime as time\n",
    "import numpy as np\n",
    "import pandas as pd\n",
    "import matplotlib.pyplot as plt\n",
    "from scipy.stats import gaussian_kde\n",
    "import math\n",
    "\n",
    "original_targets = \"./no_nag_targets.fasta\"\n",
    "# targets based of genome-wide mapping of potential off-target effects. List taken from DiCarlo et al, only unique \n",
    "# seed sequences and no NAG alternative PAMs\n",
    "\n",
    "yeast_CDS_fasta = './orf_coding_all_R64-1-1_20110203.fasta'\n",
    "# yeast orfs\n"
   ]
  },
  {
   "cell_type": "markdown",
   "metadata": {},
   "source": [
    "## Aligning guides with unique seeds on BY4741 CDS"
   ]
  },
  {
   "cell_type": "code",
   "execution_count": 2,
   "metadata": {},
   "outputs": [
    {
     "name": "stdout",
     "output_type": "stream",
     "text": [
      "starting Bowtie with specified parameters 2017-12-20 10:07:46.976600\n",
      "bowtie -v 0 -t -f -p 6 -m 1 --best BY4741 /home/phdes74/Dropbox/Crispr_PCA_PI_Regulator_Screen/refs/DiCarlo_et_al/no_nag_targets.fasta /home/phdes74/Dropbox/Crispr_PCA_PI_Regulator_Screen/yeast_genome/targets_align.txt\n",
      "finished Bowtie with specified parameters 2017-12-20 10:07:48.556166\n"
     ]
    }
   ],
   "source": [
    "print 'starting Bowtie with specified parameters', time.now()\n",
    "\n",
    "\n",
    "########## Bowtie parameters #############\n",
    "base_command = 'bowtie '\n",
    "\n",
    "align_parameters = '-v 0 -t -f -p 6 '\n",
    "# -q: input is fastq\n",
    "# -v 1: allow at most 1 mismatch in read\n",
    "# -y: tryhard for the best alignment\n",
    "# -t: show time for steps\n",
    "# -p 6: multithread\n",
    "\n",
    "output_parameters = '-m 1 --best '\n",
    "#-k 1: only one alignement reported for each read\n",
    "#-m : suppress reads with more than one alignments\n",
    "#-S : SAM format output\n",
    "#--no-unal: suppress reads that did not align\n",
    "\n",
    "\n",
    "in_fasta = original_targets + ' ' \n",
    "\n",
    "index = 'BY4741 '\n",
    "\n",
    "cds_alignment_output = './targets_align.txt'\n",
    "\n",
    "bowtie_command = base_command+align_parameters+output_parameters+index+in_fasta+cds_alignment_output\n",
    "\n",
    "print bowtie_command\n",
    "\n",
    "subprocess.check_output(bowtie_command, stdin=None, stderr=subprocess.STDOUT, shell=True, universal_newlines=True)\n",
    "\n",
    "print 'finished Bowtie with specified parameters', time.now()\n",
    "\n"
   ]
  },
  {
   "cell_type": "markdown",
   "metadata": {},
   "source": [
    "## Building a dictionnary of gRNA seqs"
   ]
  },
  {
   "cell_type": "code",
   "execution_count": 3,
   "metadata": {},
   "outputs": [
    {
     "name": "stdout",
     "output_type": "stream",
     "text": [
      "['chrIV_1338684', 'chrXVI_924519r', 'chrXI_38769r', 'chrXV_364911r', 'chrXII_577638', 'chrX_391358r', 'chrXIV_273271r', 'chrVII_987863r', 'chrXII_577633', 'chrIV_564773r']\n",
      "645392\n",
      "GGAGGGTAACGGTGGGTGAG\n",
      "GTGGATGATCATGAATGTTA\n",
      "TGG\n"
     ]
    }
   ],
   "source": [
    "guide_dict = {}\n",
    "\n",
    "\n",
    "with open(original_targets, 'r') as source:\n",
    "    \n",
    "    for line in source:\n",
    "        \n",
    "        if line.startswith('>'):\n",
    "            \n",
    "            guide_name = line.strip('>').strip('\\n').strip('_NoNAG')\n",
    "            \n",
    "        else:\n",
    "            \n",
    "            guide_seq = line.strip('\\n')\n",
    "            \n",
    "            guide_dict[guide_name] = guide_seq\n",
    "\n",
    "print list(islice(guide_dict, 10))\n",
    "\n",
    "print len(guide_dict)\n",
    "            \n",
    "print guide_dict['chrI_205r']\n",
    "\n",
    "print guide_dict['chrXVI_942301']\n",
    "\n",
    "print guide_dict['chrXVI_942301'][1:4]\n",
    "\n",
    " "
   ]
  },
  {
   "cell_type": "code",
   "execution_count": 4,
   "metadata": {},
   "outputs": [
    {
     "name": "stdout",
     "output_type": "stream",
     "text": [
      "306110\n"
     ]
    }
   ],
   "source": [
    "AID_targets = 0\n",
    "\n",
    "for seq in guide_dict.values():\n",
    "    if 'C' in seq[1:4]:\n",
    "        AID_targets += 1\n",
    "        \n",
    "print AID_targets\n",
    "\n",
    "\n",
    "\n",
    "    "
   ]
  },
  {
   "cell_type": "markdown",
   "metadata": {},
   "source": [
    "## Gathering info on yeast orfs"
   ]
  },
  {
   "cell_type": "code",
   "execution_count": 5,
   "metadata": {},
   "outputs": [
    {
     "name": "stdout",
     "output_type": "stream",
     "text": [
      "ID: YAL008W\n",
      "Name: YAL008W\n",
      "Description: YAL008W FUN14 SGDID:S000000006, Chr I from 136914-137510, Verified ORF, \"Mitochondrial protein of unknown function\"\n",
      "Number of features: 0\n",
      "Seq('ATGACTTTGGCTTTTAATATGCAACGGTTGGTGTTTCGTAATTTGAATGTTGGG...TGA', SingleLetterAlphabet())\n",
      "597\n",
      "1351.93121929\n",
      "number of annotated orfs in file 6717\n",
      "number of annotated proteins in file 6685\n"
     ]
    }
   ],
   "source": [
    "orf_dict = {}\n",
    "\n",
    "orf_len_dict = {}\n",
    "\n",
    "\n",
    "input_file = open(yeast_CDS_fasta)\n",
    "orf_dict = SeqIO.to_dict(SeqIO.parse(input_file, \"fasta\"))\n",
    "\n",
    "for orf, seq in orf_dict.iteritems():\n",
    "    \n",
    "    orf_len = len(seq.seq)\n",
    "    \n",
    "    orf_len_dict[(orf.upper())] = orf_len\n",
    "    \n",
    "print orf_dict['YAL008W']\n",
    "print orf_len_dict['YAL008W']\n",
    "\n",
    "print np.mean(orf_len_dict.values())\n",
    "# mean length in pb of orfs in annotation file.\n",
    "\n",
    "print 'number of annotated orfs in file ' + str(len(orf_dict.keys()))\n",
    "\n",
    "\n",
    "prot_cds_nb = 0\n",
    "\n",
    "for orf in orf_dict.keys():\n",
    "    if orf.startswith('Y'):\n",
    "        prot_cds_nb += 1\n",
    "        \n",
    "print 'number of annotated proteins in file ' + str(prot_cds_nb)\n",
    "        "
   ]
  },
  {
   "cell_type": "markdown",
   "metadata": {},
   "source": [
    "## High fitness effects non lethal genes"
   ]
  },
  {
   "cell_type": "code",
   "execution_count": 7,
   "metadata": {},
   "outputs": [
    {
     "name": "stdout",
     "output_type": "stream",
     "text": [
      "3183\n",
      "1444\n",
      "175\n",
      "178\n",
      "38\n",
      "['YAL002W', 'YAL021C', 'YAL035W', 'YAL047C', 'YAR015W', 'YBL006C', 'YBL007C', 'YBL038W', 'YBL058W', 'YBL093C', 'YBR036C', 'YBR126C', 'YBR127C', 'YBR200W', 'YBR268W', 'YBR279W', 'YBR282W', 'YBR289W', 'YCL007C', 'YCL016C', 'YCR009C', 'YCR020W-B', 'YCR028C-A', 'YCR044C', 'YCR047C', 'YDL006W', 'YDL041W', 'YDL075W', 'YDL090C', 'YDL115C', 'YDL160C', 'YDL185W', 'YDL191W', 'YDR017C', 'YDR027C', 'YDR065W', 'YDR069C', 'YDR129C', 'YDR138W', 'YDR173C', 'YDR175C', 'YDR176W', 'YDR195W', 'YDR207C', 'YDR226W', 'YDR245W', 'YDR264C', 'YDR323C', 'YDR359C', 'YDR388W', 'YDR432W', 'YDR433W', 'YDR448W', 'YDR477W', 'YDR484W', 'YDR495C', 'YDR532C', 'YEL027W', 'YEL029C', 'YEL036C', 'YEL044W', 'YEL051W', 'YER014C-A', 'YER019W', 'YER044C', 'YER068W', 'YER083C', 'YER155C', 'YFR019W', 'YGL058W', 'YGL070C', 'YGL071W', 'YGL076C', 'YGL095C', 'YGL115W', 'YGL135W', 'YGL167C', 'YGL240W', 'YGL246C', 'YGR020C', 'YGR078C', 'YGR104C', 'YGR105W', 'YGR155W', 'YGR160W', 'YGR165W', 'YGR167W', 'YGR180C', 'YGR229C', 'YGR240C', 'YGR252W', 'YGR262C', 'YGR272C', 'YHL025W', 'YHR010W', 'YHR026W', 'YHR039C-B', 'YHR060W', 'YJL075C', 'YJL140W', 'YJL175W', 'YJL176C', 'YJL183W', 'YJR090C', 'YKL002W', 'YKL054C', 'YKL080W', 'YKL114C', 'YKL118W', 'YKL119C', 'YKL126W', 'YKL139W', 'YKL169C', 'YKL170W', 'YKL212W', 'YKR024C', 'YKR082W', 'YLL006W', 'YLR025W', 'YLR056W', 'YLR148W', 'YLR226W', 'YLR235C', 'YLR242C', 'YLR244C', 'YLR304C', 'YLR322W', 'YLR337C', 'YLR338W', 'YLR369W', 'YLR372W', 'YLR399C', 'YLR403W', 'YLR435W', 'YLR447C', 'YML008C', 'YML032C', 'YML094W', 'YML112W', 'YMR060C', 'YMR078C', 'YMR116C', 'YMR202W', 'YMR205C', 'YMR293C', 'YNL059C', 'YNL064C', 'YNL080C', 'YNL139C', 'YNL225C', 'YNL280C', 'YNL296W', 'YNL297C', 'YOL023W', 'YOL051W', 'YOL076W', 'YOL148C', 'YOR008C', 'YOR036W', 'YOR065W', 'YOR080W', 'YOR198C', 'YOR290C', 'YOR331C', 'YOR332W', 'YPL031C', 'YPL045W', 'YPL129W', 'YPL234C', 'YPL254W', 'YPL268W', 'YPL271W', 'YPR036W', 'YPR072W', 'YPR135W']\n",
      "['YGL002W', 'YDR263C', 'YHR061C', 'YEL041W', 'YDR133C', 'YPL249C', 'YOL098C', 'YLR437C', 'YLR271W', 'YFL052W', 'YJL082W', 'YGL176C', 'YEL067C', 'YDR259C', 'YFL046W', 'YNL212W', 'YLR400W', 'YLR269C', 'YLR219W', 'YER071C', 'YGL221C', 'YJL200C', 'YKR075C', 'YLR390W', 'YLR434C', 'YDR153C', 'YJL106W', 'YJR008W', 'YIL013C', 'YEL016C', 'YHR087W', 'YNL219C', 'YPL091W', 'YLR118C', 'YIL054W', 'YPR028W', 'YOR022C', 'YIL140W']\n"
     ]
    }
   ],
   "source": [
    "fit_effects = './fitness_effects.csv'\n",
    "ftab = pd.read_csv(fit_effects)\n",
    "\n",
    "ftab['YPD_1'] = ftab['YPD rep1 fitness']\n",
    "ftab['YPD_2'] = ftab['YPD rep2 fitness']\n",
    "ftab['YPG'] = ftab['YPG fitness']\n",
    "ftab['ETH'] = ftab['ETH fitness']\n",
    "ftab['OAK'] = ftab['OAK fitness']\n",
    "ftab['SC'] = ftab['SC fitness']\n",
    "\n",
    "ftab['mean_effect'] = (ftab['YPD_1']+ftab['YPD_2']+ftab['YPG']+ftab['ETH']+ftab['OAK']+ftab['SC'])/6\n",
    "\n",
    "high_effect = ftab.loc[lambda df: df['mean_effect'] < .75, :]\n",
    "\n",
    "no_gain = ftab.loc[lambda df: df['mean_effect'] < 1.001, :]\n",
    "print len(no_gain)\n",
    "no_loss = ftab.loc[lambda df: df['mean_effect'] > 0.999, :]\n",
    "print len(no_loss)\n",
    "\n",
    "\n",
    "high_effect_list = [x for x in high_effect['ORF']]\n",
    "\n",
    "no_gain_list = [x for x in no_gain['ORF']]\n",
    "\n",
    "no_effect_list = [x for x in no_loss['ORF']if x in no_gain_list]\n",
    "\n",
    "print len(high_effect_list)\n",
    "print len(no_effect_list)\n",
    "\n",
    "random.seed(4)\n",
    "\n",
    "non_essential_no_effect = random.sample(no_effect_list, 38)\n",
    "print len(non_essential_no_effect)\n",
    "\n",
    "print high_effect_list\n",
    "\n",
    "print non_essential_no_effect\n"
   ]
  },
  {
   "cell_type": "markdown",
   "metadata": {},
   "source": [
    "## Controls: essential genes"
   ]
  },
  {
   "cell_type": "code",
   "execution_count": 8,
   "metadata": {},
   "outputs": [
    {
     "name": "stdout",
     "output_type": "stream",
     "text": [
      "YAL001C\n",
      "1156\n",
      "1156\n",
      "True\n",
      "False\n"
     ]
    }
   ],
   "source": [
    "essential_orfs= './Essential_ORFs.txt'\n",
    "# The list of esentials orf according to the yeast KO collection website: \n",
    "# http://www-sequence.stanford.edu/group/yeast_deletion_project/Essential_ORFs.txt\n",
    "# The header was removed from the file\n",
    "\n",
    "essential_orf_list = []\n",
    "\n",
    "with open(essential_orfs, 'r') as source:\n",
    "    \n",
    "    for line in source:\n",
    "        \n",
    "        if line.startswith('2') == True:\n",
    "            line = line.split('\\t')\n",
    "\n",
    "            orf = line[1].replace(' ','')\n",
    "            orf = orf.upper()\n",
    "\n",
    "\n",
    "            essential_orf_list.append(orf)\n",
    "        \n",
    "print essential_orf_list[0]\n",
    "print len(essential_orf_list)\n",
    "\n",
    "\n",
    "#random.seed(3)\n",
    "#essential_controls = random.sample(essential_orf_list, 300)\n",
    "\n",
    "\n",
    "#for control in essential_controls:\n",
    "#    essential_orf_list.remove(control)\n",
    "    \n",
    "print len(essential_orf_list)\n",
    "\n",
    "\n",
    "def check_if_essential(orf):\n",
    "    if orf in essential_orf_list:\n",
    "        return True\n",
    "        \n",
    "    else:\n",
    "        return False\n",
    "\n",
    "\n",
    "print check_if_essential('YAL001C')\n",
    "print check_if_essential('YJL154C')\n"
   ]
  },
  {
   "cell_type": "markdown",
   "metadata": {},
   "source": [
    "## Controls: introns"
   ]
  },
  {
   "cell_type": "markdown",
   "metadata": {},
   "source": [
    "### A database of yeast introns"
   ]
  },
  {
   "cell_type": "code",
   "execution_count": 9,
   "metadata": {},
   "outputs": [
    {
     "name": "stdout",
     "output_type": "stream",
     "text": [
      "GTATGTGTTATTCTCCTTTCTTCTCTGGTTAGCTGTAGTGGAACCTATAACGGCCATTGCGCCACAACTTCCTTTAACATTAATACTAACATATTGATAACGACTTCAATTGCAAGTAG\n",
      "bowtie-build -r --ntoa -o 2 /home/phdes74/Dropbox/Crispr_PCA_PI_Regulator_Screen/yeast_genome/yeast_introns.fasta yeastintrons\n"
     ]
    }
   ],
   "source": [
    "intron_db = './yeast_introns.txt'\n",
    "# copy_paste from http://intron.ucsc.edu/yeast4.3/ with last empty line removed\n",
    "\n",
    "intron_fasta_file = './yeast_introns.fasta'\n",
    "\n",
    "\n",
    "intron_dict = {}\n",
    "\n",
    "with open(intron_db, 'r') as source:\n",
    "    \n",
    "    for line in source:\n",
    "        \n",
    "        line= line.split('\\t')\n",
    "    \n",
    "        \n",
    "        orf_name = line[1].upper()\n",
    "        \n",
    "        intron_seq = line[5].strip('\\n')\n",
    "        \n",
    "        intron_dict[orf_name] = intron_seq\n",
    "        \n",
    "        \n",
    "print intron_dict['YHR012W']\n",
    "\n",
    "\n",
    "with open(intron_fasta_file, 'w') as write_out:\n",
    "    \n",
    "    nb_introns = 0\n",
    "    \n",
    "    for orf, intron in intron_dict.iteritems():\n",
    "\n",
    "        fasta_header = '>' + orf + '\\n'\n",
    "        intron_seq = intron + '\\n'\n",
    "        \n",
    "        write_out.write(fasta_header)\n",
    "        write_out.write(intron_seq)\n",
    "        \n",
    "        nb_introns += 1\n",
    "    \n",
    "\n",
    "########## Build index ##########\n",
    "\n",
    "index_command = 'bowtie-build -r --ntoa -o 2 '\n",
    "\n",
    "# -r: no index for pairend end (useless in this case!)\n",
    "# -ntoa: converts Ns to As so they are indexed\n",
    "# -o 3: marks every 8th row (vs 32nd as default)\n",
    "\n",
    "\n",
    "source = './yeast_introns.fasta '\n",
    "\n",
    "index_name = 'yeastintrons'\n",
    "\n",
    "index_build = index_command+source+index_name\n",
    "\n",
    "print index_build\n",
    "\n",
    "subprocess.check_output(index_build, stdin=None, stderr=None, shell=True, universal_newlines=False)\n",
    "\n",
    "\n"
   ]
  },
  {
   "cell_type": "markdown",
   "metadata": {},
   "source": [
    "### Finding high quality guides that target introns"
   ]
  },
  {
   "cell_type": "code",
   "execution_count": 10,
   "metadata": {},
   "outputs": [
    {
     "name": "stdout",
     "output_type": "stream",
     "text": [
      "starting Bowtie with specified parameters 2017-12-20 10:07:50.895936\n",
      "bowtie -v 0 -t -f -p 6 -m 1 --best yeastintrons /home/phdes74/Dropbox/Crispr_PCA_PI_Regulator_Screen/refs/DiCarlo_et_al/no_nag_targets.fasta /home/phdes74/Dropbox/Crispr_PCA_PI_Regulator_Screen/yeast_genome/yeast_introns_align.txt\n",
      "finished Bowtie with specified parameters 2017-12-20 10:07:51.362122\n"
     ]
    }
   ],
   "source": [
    "print 'starting Bowtie with specified parameters', time.now()\n",
    "\n",
    "\n",
    "########## Bowtie parameters #############\n",
    "base_command = 'bowtie '\n",
    "\n",
    "align_parameters = '-v 0 -t -f -p 6 '\n",
    "# -q: input is fastq\n",
    "# -v 1: allow at most 1 mismatch in read\n",
    "# -y: tryhard for the best alignment\n",
    "# -t: show time for steps\n",
    "# -p 6: multithread\n",
    "\n",
    "output_parameters = '-m 1 --best '\n",
    "#-k 1: only one alignement reported for each read\n",
    "#-m : suppress reads with more than one alignments\n",
    "#-S : SAM format output\n",
    "#--no-unal: suppress reads that did not align\n",
    "\n",
    "\n",
    "in_fasta = './no_nag_targets.fasta ' \n",
    "\n",
    "index = 'yeastintrons '\n",
    "\n",
    "intron_alignment_output = './yeast_introns_align.txt'\n",
    "\n",
    "bowtie_command = base_command+align_parameters+output_parameters+index+in_fasta+intron_alignment_output\n",
    "\n",
    "print bowtie_command\n",
    "\n",
    "subprocess.check_output(bowtie_command, stdin=None, stderr=subprocess.STDOUT, shell=True, universal_newlines=True)\n",
    "\n",
    "print 'finished Bowtie with specified parameters', time.now()\n",
    "\n"
   ]
  },
  {
   "cell_type": "markdown",
   "metadata": {},
   "source": [
    "### Building the set of introns targeting guides"
   ]
  },
  {
   "cell_type": "code",
   "execution_count": 11,
   "metadata": {},
   "outputs": [
    {
     "name": "stdout",
     "output_type": "stream",
     "text": [
      "281\n",
      "998\n",
      "3.55160142349\n",
      "994\n",
      "chrI_142417r\tintron\tYAL003W_intron\t166\t-\tTCTTTTGTCACTCATATCGG\n"
     ]
    }
   ],
   "source": [
    "intron_guides_align = './yeast_introns_align.txt'\n",
    "\n",
    "intron_guides_dict = {}\n",
    "\n",
    "intron_writ_list = []\n",
    "\n",
    "intron_anomaly = ['chrII_691982', 'chrII_691983', 'chrII_692006', 'chrXII_40226']\n",
    "\n",
    "with open(intron_guides_align) as source:\n",
    "    \n",
    "    for line in source:\n",
    "        \n",
    "        line = line.split('\\t')\n",
    "        \n",
    "        guide_name = line[0].strip('_NoNAG')\n",
    "        \n",
    "        target_orf = (line[2].upper()) +'_intron'\n",
    "        \n",
    "        pos = line[3]\n",
    "        \n",
    "        target_strand = line[1]\n",
    "        \n",
    "        \n",
    "        \n",
    "        if 'C' in guide_dict[guide_name][1:4] and 'CCC' != guide_dict[guide_name][1:4] and 'CC' != guide_dict[guide_name][2:4]:\n",
    "            \n",
    "        \n",
    "            intron_dna_seq = guide_dict[guide_name]\n",
    "            \n",
    "            intron_guides_dict[guide_name] = target_orf\n",
    "            \n",
    "            \n",
    "            intron_writ_line = guide_name+'\\t'+'intron'+'\\t'+target_orf+'\\t'+pos+'\\t'+target_strand+'\\t'+intron_dna_seq\n",
    "            \n",
    "            if guide_name not in intron_anomaly:\n",
    "                \n",
    "            \n",
    "                intron_writ_list.append(intron_writ_line)\n",
    "         \n",
    "        \n",
    "print nb_introns\n",
    "# number of introns in database       \n",
    "print len(intron_guides_dict)\n",
    "# number of ok guides targeting introns\n",
    "print float(len(intron_guides_dict))/nb_introns\n",
    "# average number of guides/intron\n",
    "\n",
    "\n",
    "print len(intron_writ_list)\n",
    "print intron_writ_list[2]\n",
    "\n"
   ]
  },
  {
   "cell_type": "markdown",
   "metadata": {},
   "source": [
    "## Controls: putative non functional peptides"
   ]
  },
  {
   "cell_type": "markdown",
   "metadata": {},
   "source": [
    "### A set of putative non-functionnal peptides and their bowtie index"
   ]
  },
  {
   "cell_type": "code",
   "execution_count": 12,
   "metadata": {},
   "outputs": [
    {
     "name": "stdout",
     "output_type": "stream",
     "text": [
      "bowtie-build -r --ntoa -o 2 /home/phdes74/Dropbox/Crispr_PCA_PI_Regulator_Screen/yeast_genome/R64-2-1_unannot_translated_ORFs_over_80nt.fasta yeastputnonfun80nt \n"
     ]
    }
   ],
   "source": [
    "put_non_fun = './R64-2-1_unannot_translated_ORFs_over_80nt.fasta'\n",
    "# set of 304 putative non-functionnal expressed peptides from Nielly-Thibault et al 2017, all over 80nts long\n",
    "\n",
    "\n",
    "########## Build index ##########\n",
    "\n",
    "index_command = 'bowtie-build -r --ntoa -o 2 '\n",
    "\n",
    "# -r: no index for pairend end (useless in this case!)\n",
    "# -ntoa: converts Ns to As so they are indexed\n",
    "# -o 3: marks every 8th row (vs 32nd as default)\n",
    "\n",
    "\n",
    "source = './R64-2-1_unannot_translated_ORFs_over_80nt.fasta '\n",
    "\n",
    "index_name = 'yeastputnonfun80nt '\n",
    "\n",
    "index_build = index_command+source+index_name\n",
    "\n",
    "print index_build\n",
    "\n",
    "subprocess.check_output(index_build, stdin=None, stderr=None, shell=True, universal_newlines=False)\n",
    "\n"
   ]
  },
  {
   "cell_type": "markdown",
   "metadata": {},
   "source": [
    "### Finding high quality guides that target the NFs"
   ]
  },
  {
   "cell_type": "code",
   "execution_count": 13,
   "metadata": {},
   "outputs": [
    {
     "name": "stdout",
     "output_type": "stream",
     "text": [
      "starting Bowtie with specified parameters 2017-12-20 10:07:52.149376\n",
      "bowtie -v 0 -t -f -p 6 -m 1 --best yeastputnonfun80nt /home/phdes74/Dropbox/Crispr_PCA_PI_Regulator_Screen/refs/DiCarlo_et_al/no_nag_targets.fasta /home/phdes74/Dropbox/Crispr_PCA_PI_Regulator_Screen/yeast_genome/yeast_putnonfun80nts_align.txt\n",
      "finished Bowtie with specified parameters 2017-12-20 10:07:52.579516\n"
     ]
    }
   ],
   "source": [
    "print 'starting Bowtie with specified parameters', time.now()\n",
    "\n",
    "\n",
    "########## Bowtie parameters #############\n",
    "base_command = 'bowtie '\n",
    "\n",
    "align_parameters = '-v 0 -t -f -p 6 '\n",
    "# -q: input is fastq\n",
    "# -v 1: allow at most 1 mismatch in read\n",
    "# -y: tryhard for the best alignment\n",
    "# -t: show time for steps\n",
    "# -p 6: multithread\n",
    "\n",
    "output_parameters = '-m 1 --best '\n",
    "#-k 1: only one alignement reported for each read\n",
    "#-m : suppress reads with more than one alignments\n",
    "#-S : SAM format output\n",
    "#--no-unal: suppress reads that did not align\n",
    "\n",
    "\n",
    "in_fasta = './no_nag_targets.fasta ' \n",
    "\n",
    "index = 'yeastputnonfun80nt '\n",
    "\n",
    "nf_alignment_output = './yeast_putnonfun80nts_align.txt'\n",
    "\n",
    "bowtie_command = base_command+align_parameters+output_parameters+index+in_fasta+nf_alignment_output\n",
    "\n",
    "print bowtie_command\n",
    "\n",
    "subprocess.check_output(bowtie_command, stdin=None, stderr=subprocess.STDOUT, shell=True, universal_newlines=True)\n",
    "\n",
    "print 'finished Bowtie with specified parameters', time.now()\n",
    "\n"
   ]
  },
  {
   "cell_type": "markdown",
   "metadata": {},
   "source": [
    "### Building the set of NFs targeting guides"
   ]
  },
  {
   "cell_type": "code",
   "execution_count": 14,
   "metadata": {},
   "outputs": [
    {
     "name": "stdout",
     "output_type": "stream",
     "text": [
      "304\n",
      "621\n",
      "chrI_175513r\tputative_NF\tCHRI_+_175429_175561_nf\t86\t-\tGCTCTAATACGGCTTTTCTG\n"
     ]
    }
   ],
   "source": [
    "nf_guides_align = './yeast_putnonfun80nts_align.txt'\n",
    "\n",
    "nf_guides_dict = {}\n",
    "\n",
    "nf_writ_list = []\n",
    "\n",
    "with open(nf_guides_align) as source:\n",
    "    \n",
    "    for line in source:\n",
    "        \n",
    "        line = line.split('\\t')\n",
    "        \n",
    "        guide_name = line[0].strip('_NoNAG')\n",
    "        \n",
    "        target_orf = (line[2].upper())+'_nf'\n",
    "        \n",
    "        pos = line[3]\n",
    "        \n",
    "        target_strand = line[1]\n",
    "        \n",
    "        if 'C' in guide_dict[guide_name][1:4] and 'CCC' != guide_dict[guide_name][1:4] and 'CC' != guide_dict[guide_name][2:4]:\n",
    "            \n",
    "            nf_dna_seq = guide_dict[guide_name]\n",
    "            \n",
    "            nf_guides_dict[guide_name] = target_orf\n",
    "            \n",
    "            nf_writ_line = guide_name+'\\t'+'putative_NF'+'\\t'+target_orf+'\\t'+pos+'\\t'+target_strand+'\\t'+nf_dna_seq\n",
    "            \n",
    "            nf_writ_list.append(nf_writ_line)\n",
    "            \n",
    "\n",
    "            \n",
    "        \n",
    "print 304\n",
    "# number of NFs in database       \n",
    "print len(nf_writ_list)\n",
    "# number of ok guides targeting NFs\n",
    "print nf_writ_list[2]"
   ]
  },
  {
   "cell_type": "markdown",
   "metadata": {},
   "source": [
    "## Exceptions"
   ]
  },
  {
   "cell_type": "markdown",
   "metadata": {},
   "source": [
    "### ORFs That should not be targeted"
   ]
  },
  {
   "cell_type": "code",
   "execution_count": 15,
   "metadata": {
    "collapsed": true
   },
   "outputs": [],
   "source": [
    "auxotrophy_markers = ['YOR202W', 'YCL018W', 'YLR303W', 'YEL021W', 'YBR115C', 'YEL063C', 'YNL268W', 'YPR062W']\n",
    "\n",
    "# YOR202W is HIS3\n",
    "# YCL018W is LEU2\n",
    "# YLR303W is MET15 or MET17\n",
    "# YEL021W is URA3\n",
    "# YBR115C is LYS2\n",
    "\n",
    "# YEL063C is CAN1\n",
    "# YNL268W is LYP1\n",
    "# YPR062W is FCY1\n",
    "\n",
    "def check_if_marker(orf):\n",
    "    if orf in auxotrophy_markers:\n",
    "        return True\n",
    "    else:\n",
    "        return False\n",
    "    \n",
    "exception_orfs = ['YAR015W', 'YOR128C', 'YNL220W', 'YDL227C', 'YOR069W', 'YJL154C', 'YOR132W', 'YHR012W', 'YJL053W']\n",
    "\n",
    "\n",
    "def check_if_exception(orf):\n",
    "    if orf in exception_orfs or orf in high_effect_list or orf in non_essential_no_effect:\n",
    "        return True\n",
    "    else:\n",
    "        return False\n"
   ]
  },
  {
   "cell_type": "markdown",
   "metadata": {},
   "source": [
    "### Sequences that should not be in guides"
   ]
  },
  {
   "cell_type": "code",
   "execution_count": 16,
   "metadata": {
    "collapsed": true
   },
   "outputs": [],
   "source": [
    "BsaI_cut_site_for = 'GGTCTC'\n",
    "BsaI_cut_site_rev = 'GAGACC'\n",
    "\n",
    "def check_if_restriction_site_ok(guide_seq):\n",
    "    if BsaI_cut_site_for in guide_seq or BsaI_cut_site_rev in guide_seq:\n",
    "        return False\n",
    "    else:\n",
    "        return True"
   ]
  },
  {
   "cell_type": "code",
   "execution_count": 17,
   "metadata": {
    "collapsed": true
   },
   "outputs": [],
   "source": [
    "# check for deaminase compatible codon. mut freq is assumed to be 60% C>T and 40% C>G\n",
    "\n",
    "convert_to_stop_for = ['TCA','CAA']\n",
    "\n",
    "convert_to_stop_rev = ['CCA']"
   ]
  },
  {
   "cell_type": "markdown",
   "metadata": {},
   "source": [
    "## Cycling through the high quality guides"
   ]
  },
  {
   "cell_type": "code",
   "execution_count": 26,
   "metadata": {},
   "outputs": [
    {
     "name": "stdout",
     "output_type": "stream",
     "text": [
      "2017-12-20 13:22:01.267551\n",
      "38363\n",
      "38363\n",
      "1181\n",
      "2017-12-20 13:23:11.185795\n",
      "chrI_55655\thigh_effect\tYAL047C\t1183.0\t-\tGGTCTGAGTTTCCAGTTCTT\n"
     ]
    }
   ],
   "source": [
    "print time.now()\n",
    "\n",
    "\n",
    "\n",
    "orf_good_guides = []\n",
    "# list of orf names, where they have one mention added every time a good guide aligning to them is found. To be used\n",
    "# with the counter functio\n",
    "\n",
    "orf_guides_dict = {}\n",
    "# format is orf_guides_dict[orf] = [guide_1, guide_2, guide_3, ...]\n",
    "\n",
    "guide_position_dict = {}\n",
    "# format is guide_position_dict[guide_name] = guide position in gene (in % of orf)\n",
    "\n",
    "writ_line_list = []\n",
    "\n",
    "\n",
    "x =0\n",
    "\n",
    "with open(cds_alignment_output) as source:\n",
    "    \n",
    "    for line in source:\n",
    "        \n",
    "        line = line.split('\\t')\n",
    "        guide_name = line[0].strip('_NoNAG')\n",
    "        \n",
    "        target_orf = line[2].replace('_BY4741','')\n",
    "        \n",
    "        target_pos = float(line[3])\n",
    "        \n",
    "        target_strand = line[1]\n",
    "        \n",
    "        if target_orf.startswith('Y') == True and target_orf.upper() in orf_dict.keys():\n",
    "            # checks if the gene is nuclear and in the assembly used for the alignment\n",
    "            \n",
    "            if check_if_essential(target_orf) == True or check_if_exception(target_orf) == True:\n",
    "                # selects guides targeting essential genes\n",
    "                \n",
    "                if check_if_essential(target_orf) == True:\n",
    "                    \n",
    "                    orf_type = 'essential'\n",
    "                    \n",
    "                elif target_orf in high_effect_list:\n",
    "                    \n",
    "                    orf_type = 'high_effect'\n",
    "                    \n",
    "                elif target_orf in no_effect_list:\n",
    "                    \n",
    "                    orf_type = 'no_effect'\n",
    "                    \n",
    "                elif target_orf in exception_orfs:\n",
    "                    \n",
    "                    orf_type = 'exception'\n",
    "                \n",
    "                dna_seq = guide_dict[guide_name]\n",
    "                \n",
    "                if check_if_marker(target_orf) == False and check_if_restriction_site_ok(dna_seq):\n",
    "                    \n",
    "                    \n",
    "                    \n",
    "                                        \n",
    "                    if 'C' in guide_dict[guide_name][1:4] and 'CCC' != guide_dict[guide_name][1:4] and 'CC' != guide_dict[guide_name][2:4]:\n",
    "                        \n",
    "                        target_len = orf_len_dict[target_orf]\n",
    "\n",
    "                        target_pos_in_orf = (target_pos/target_len)*100\n",
    "                        \n",
    "                        if 75 >= target_pos_in_orf >= 0.5:\n",
    "                            \n",
    "                            pos = str(target_pos)\n",
    "\n",
    "                            orf_good_guides.append(target_orf)\n",
    "                        \n",
    "                            guide_position_dict[guide_name] = target_pos_in_orf\n",
    "                        \n",
    "                        \n",
    "                        \n",
    "                            if target_orf not in orf_guides_dict.keys():\n",
    "\n",
    "                                orf_guides_dict[target_orf] = [guide_name]\n",
    "\n",
    "                            else:\n",
    "                                orf_guides_dict[target_orf] += [guide_name]\n",
    "\n",
    "                            \n",
    "                            guide_line = guide_name+'\\t'+orf_type+'\\t'+target_orf+'\\t'+pos+'\\t'+target_strand+'\\t'+dna_seq\n",
    "                            \n",
    "                            writ_line_list.append(guide_line)\n",
    "                            \n",
    "                            x +=1\n",
    "\n",
    "                     \n",
    "                    \n",
    "\n",
    "                    \n",
    "print x                  \n",
    "           \n",
    "orf_guide_nb = Counter(orf_good_guides)\n",
    "\n",
    "print len(guide_position_dict.keys())\n",
    "\n",
    "print len(orf_guides_dict.keys())\n",
    "\n",
    "\n",
    "\n",
    "print time.now()\n",
    "\n",
    "print writ_line_list[2]\n",
    "          "
   ]
  },
  {
   "cell_type": "code",
   "execution_count": 27,
   "metadata": {},
   "outputs": [
    {
     "name": "stdout",
     "output_type": "stream",
     "text": [
      "39978\n"
     ]
    }
   ],
   "source": [
    "all_writ_lines = writ_line_list + nf_writ_list + intron_writ_list\n",
    "print len(all_writ_lines)"
   ]
  },
  {
   "cell_type": "markdown",
   "metadata": {},
   "source": [
    "## Write the chip to file"
   ]
  },
  {
   "cell_type": "code",
   "execution_count": 20,
   "metadata": {
    "collapsed": true
   },
   "outputs": [],
   "source": [
    "guide_table_output = './yeast_essential_gene_chip_LandryLAB.tsv'\n",
    "\n",
    "with open(guide_table_output, 'w') as dest:\n",
    "    header = 'guide_name'+'\\t'+'orf_type'+'\\t'+'target'+'\\t'+'position'+'\\t'+'strand'+'\\t'+'sequence'+'\\n'\n",
    "    dest.write(header)\n",
    "    for line in all_writ_lines:\n",
    "        dest.write((line+'\\n'))\n",
    "              \n",
    "        \n",
    "        "
   ]
  },
  {
   "cell_type": "markdown",
   "metadata": {},
   "source": [
    "## Data on the chip!"
   ]
  },
  {
   "cell_type": "code",
   "execution_count": 21,
   "metadata": {},
   "outputs": [
    {
     "name": "stdout",
     "output_type": "stream",
     "text": [
      "32324 4821 960 258 994 621\n",
      "1\n",
      "252\n",
      "Empty DataFrame\n",
      "Columns: [guide_name, orf_type, target, position, strand, sequence]\n",
      "Index: []\n"
     ]
    }
   ],
   "source": [
    "chip_data_frame = pd.read_csv(guide_table_output, sep='\\t')\n",
    "\n",
    "occurence_list = [x for x in chip_data_frame['target']]\n",
    "\n",
    "#per type\n",
    "essential_nb = len([x for x in chip_data_frame['orf_type'] if x == 'essential'])\n",
    "high_effect_nb = len([x for x in chip_data_frame['orf_type'] if x == 'high_effect'])\n",
    "no_effect_nb = len([x for x in chip_data_frame['orf_type'] if x == 'no_effect'])\n",
    "exception_nb = len([x for x in chip_data_frame['orf_type'] if x == 'exception'])\n",
    "intron_nb = len([x for x in chip_data_frame['orf_type'] if x == 'intron'])\n",
    "put_nf_nb = len([x for x in chip_data_frame['orf_type'] if x == 'putative_NF'])\n",
    "\n",
    "print essential_nb, high_effect_nb, no_effect_nb, exception_nb, intron_nb, put_nf_nb\n",
    "\n",
    "chip_stat = [essential_nb, high_effect_nb, no_effect_nb, exception_nb, intron_nb, put_nf_nb]\n",
    "\n",
    "occurences_count = Counter(occurence_list)\n",
    "\n",
    "duplicated = chip_data_frame.loc[lambda df: df.duplicated('guide_name', False) == True, :]\n",
    "\n",
    "\n",
    "print min(occurences_count.values())\n",
    "print max(occurences_count.values())\n",
    "\n",
    "\n",
    "\n",
    "print duplicated"
   ]
  },
  {
   "cell_type": "code",
   "execution_count": 16,
   "metadata": {
    "collapsed": true
   },
   "outputs": [],
   "source": [
    "import editdistance\n",
    "import seaborn as sns"
   ]
  },
  {
   "cell_type": "code",
   "execution_count": 33,
   "metadata": {},
   "outputs": [
    {
     "name": "stdout",
     "output_type": "stream",
     "text": [
      "39978\n"
     ]
    }
   ],
   "source": [
    "guide_table = pd.read_csv('./chip_table_with_muts.tsv', sep ='\\t', index_col=0)\n",
    "\n",
    "guide_table.head(10)\n",
    "\n",
    "all_guides_ref = list(guide_table.sequence)\n",
    "\n",
    "all_guides = list(guide_table.sequence)\n",
    "\n",
    "print len(all_guides)\n",
    "\n",
    "test = all_guides[0]\n",
    "\n",
    "\n",
    "leveshtein_min_dict = {}\n",
    "levestein_median_dict = {}\n",
    "\n",
    "for guide in all_guides_ref:\n",
    "    \n",
    "        \n",
    "    all_guides.remove(guide)\n",
    "    \n",
    "    \n",
    "    leveshtein_list = []\n",
    "      \n",
    "    \n",
    "    for other_guide in all_guides:\n",
    "        \n",
    "        leveshtein_list.append(editdistance.eval(guide, other_guide))\n",
    "        \n",
    "        \n",
    "    leveshtein_min_dict[guide] = min(leveshtein_list)\n",
    "    levestein_median_dict[guide] = np.median(leveshtein_list)\n",
    "        \n",
    "    all_guides = list(guide_table.sequence)\n",
    "        \n",
    "        \n"
   ]
  },
  {
   "cell_type": "code",
   "execution_count": 52,
   "metadata": {},
   "outputs": [
    {
     "name": "stdout",
     "output_type": "stream",
     "text": [
      "39978\n",
      "1\n",
      "7\n",
      "11.0\n",
      "14.0\n"
     ]
    }
   ],
   "source": [
    "print len(leveshtein_min_dict)\n",
    "\n",
    "print min(leveshtein_min_dict.values())\n",
    "print max(leveshtein_min_dict.values())\n",
    "\n",
    "print min(levestein_median_dict.values())\n",
    "print max(levestein_median_dict.values())\n",
    "\n",
    "bins = [x-0.5 for x in range(0,15)]"
   ]
  },
  {
   "cell_type": "code",
   "execution_count": 67,
   "metadata": {},
   "outputs": [
    {
     "data": {
      "text/plain": [
       "Text(0,0.5,'Density')"
      ]
     },
     "execution_count": 67,
     "metadata": {},
     "output_type": "execute_result"
    },
    {
     "data": {
      "image/png": "[encoded data removed]",
      "text/plain": [
       "<Figure size 600x400 with 1 Axes>"
      ]
     },
     "metadata": {},
     "output_type": "display_data"
    }
   ],
   "source": [
    "bins = [x-0.5 for x in range(0,15)]\n",
    "\n",
    "plt.hist(leveshtein_min_dict.values(), density =True, bins = bins, color = 'orange', alpha = 0.9)\n",
    "plt.hist(levestein_median_dict.values(), density =True, bins= bins, color = 'blue', alpha = 0.5)\n",
    "\n",
    "plt.axvline(np.median(leveshtein_min_dict.values()), color = 'k', ls = '--')\n",
    "plt.axvline(np.median(levestein_median_dict.values()), color = 'k', ls = '--')\n",
    "\n",
    "plt.xlim(0,15)\n",
    "\n",
    "plt.xlabel('Leveshtein distance (L)', fontsize = 14)\n",
    "plt.ylabel('Density', fontsize = 14)"
   ]
  },
  {
   "cell_type": "code",
   "execution_count": 69,
   "metadata": {},
   "outputs": [
    {
     "data": {
      "text/plain": [
       "(array([991., 419., 138.,  29.,  13.,   6.,   2.,   0.,   0.,   1.]),\n",
       " array([  1. ,  26.1,  51.2,  76.3, 101.4, 126.5, 151.6, 176.7, 201.8,\n",
       "        226.9, 252. ]),\n",
       " <a list of 10 Patch objects>)"
      ]
     },
     "execution_count": 69,
     "metadata": {},
     "output_type": "execute_result"
    },
    {
     "data": {
      "image/png": "[encoded data removed]",
      "text/plain": [
       "<Figure size 600x400 with 1 Axes>"
      ]
     },
     "metadata": {},
     "output_type": "display_data"
    }
   ],
   "source": [
    "plt.hist(guide_table.groupby('target').count().strand)"
   ]
  },
  {
   "cell_type": "code",
   "execution_count": 87,
   "metadata": {},
   "outputs": [],
   "source": [
    "target_labels = ['Essential', 'High effect', 'No effect', 'Putative NF', 'Introns']\n",
    "\n",
    "target_nb = [len(guide_table[guide_table['orf_type'] == 'essential'].target.unique()),\n",
    "             len(guide_table[guide_table['orf_type'] == 'high_effect'].target.unique()),\n",
    "             len(guide_table[guide_table['orf_type'] == 'no_effect'].target.unique()),\n",
    "             len(guide_table[guide_table['orf_type'] == 'putative_NF'].target.unique()),\n",
    "             len(guide_table[guide_table['orf_type'] == 'intron'].target.unique()),]\n",
    "\n",
    "guide_nb = [list(guide_table.orf_type).count('essential'), \n",
    "            list(guide_table.orf_type).count('high_effect'), \n",
    "            list(guide_table.orf_type).count('no_effect'),\n",
    "            list(guide_table.orf_type).count('putative_NF'),\n",
    "            list(guide_table.orf_type).count('intron')]\n",
    "\n"
   ]
  },
  {
   "cell_type": "code",
   "execution_count": 105,
   "metadata": {},
   "outputs": [
    {
     "data": {
      "text/plain": [
       "(array([   0.,  200.,  400.,  600.,  800., 1000., 1200.]),\n",
       " <a list of 7 Text yticklabel objects>)"
      ]
     },
     "execution_count": 105,
     "metadata": {},
     "output_type": "execute_result"
    },
    {
     "data": {
      "image/png": "[encoded data removed]",
      "text/plain": [
       "<Figure size 600x400 with 1 Axes>"
      ]
     },
     "metadata": {},
     "output_type": "display_data"
    }
   ],
   "source": [
    "for x in range(0,5):\n",
    "    \n",
    "    plt.bar(x, target_nb[x], color = 'dimgrey')\n",
    "\n",
    "plt.xticks([0,1,2,3,4], target_labels, rotation = 25, fontsize = 14)\n",
    "\n",
    "plt.ylabel('Number of targets', fontsize = 14)\n",
    "plt.yticks(fontsize = 14)"
   ]
  },
  {
   "cell_type": "code",
   "execution_count": 106,
   "metadata": {},
   "outputs": [
    {
     "data": {
      "text/plain": [
       "(array([    0.,  5000., 10000., 15000., 20000., 25000., 30000., 35000.]),\n",
       " <a list of 8 Text yticklabel objects>)"
      ]
     },
     "execution_count": 106,
     "metadata": {},
     "output_type": "execute_result"
    },
    {
     "data": {
      "image/png": "[encoded data removed]",
      "text/plain": [
       "<Figure size 600x400 with 1 Axes>"
      ]
     },
     "metadata": {},
     "output_type": "display_data"
    }
   ],
   "source": [
    "for x in range(0,5):\n",
    "    \n",
    "    plt.bar(x, guide_nb[x], color = 'dimgrey')\n",
    "\n",
    "plt.xticks([0,1,2,3,4], target_labels, rotation = 25, fontsize = 14)\n",
    "\n",
    "plt.ylabel('Number of guides', fontsize = 14)\n",
    "plt.yticks(fontsize = 14)"
   ]
  },
  {
   "cell_type": "code",
   "execution_count": 129,
   "metadata": {},
   "outputs": [
    {
     "data": {
      "text/plain": [
       "Text(0,0.5,'Number of guides')"
      ]
     },
     "execution_count": 129,
     "metadata": {},
     "output_type": "execute_result"
    },
    {
     "data": {
      "image/png": "[encoded data removed]",
      "text/plain": [
       "<Figure size 600x400 with 1 Axes>"
      ]
     },
     "metadata": {},
     "output_type": "display_data"
    }
   ],
   "source": [
    "colors = ['k', 'r', 'g', 'b', 'm']\n",
    "\n",
    "types = ['essential', 'high_effect', 'no_effect', 'putative_NF', 'intron']\n",
    "\n",
    "bins = [x for x in np.arange(0,125,5)]\n",
    "\n",
    "list_of_list = []\n",
    "\n",
    "for category in types:\n",
    "    \n",
    "    subtable = guide_table[guide_table['orf_type'] == category]\n",
    "    \n",
    "    guide_per_gene_list = []\n",
    "    \n",
    "    for target in subtable.target.unique():\n",
    "        \n",
    "        guide_per_gene_list.append(list(subtable.target).count(target))\n",
    "    \n",
    "    list_of_list += [guide_per_gene_list]\n",
    "    \n",
    "violin_parts = plt.violinplot(list_of_list, showmedians=True)\n",
    "\n",
    "# Make all the violin statistics marks black:\n",
    "for partname in ('cbars','cmins','cmaxes','cmedians'):\n",
    "    vp = violin_parts[partname]\n",
    "    vp.set_edgecolor('k')\n",
    "    vp.set_linewidth(1)\n",
    "\n",
    "# Make the violin body grey:\n",
    "for vp in violin_parts['bodies']:\n",
    "    vp.set_facecolor('grey')\n",
    "\n",
    "\n",
    "\n",
    "\n",
    "plt.xticks([1,2,3,4,5], target_labels, rotation = 25, fontsize = 14)\n",
    "plt.yticks(fontsize=14)\n",
    "\n",
    "plt.ylabel('Number of guides', fontsize=14)"
   ]
  },
  {
   "cell_type": "markdown",
   "metadata": {},
   "source": [
    "## Four panel fig"
   ]
  },
  {
   "cell_type": "code",
   "execution_count": 214,
   "metadata": {},
   "outputs": [
    {
     "name": "stdout",
     "output_type": "stream",
     "text": [
      "[-0.5, 0.5, 1.5, 2.5, 3.5, 4.5, 5.5, 6.5, 7.5, 8.5, 9.5, 10.5, 11.5, 12.5, 13.5]\n"
     ]
    },
    {
     "data": {
      "image/png": "[encoded data removed]",
      "text/plain": [
       "<Figure size 4200x3600 with 4 Axes>"
      ]
     },
     "metadata": {},
     "output_type": "display_data"
    }
   ],
   "source": [
    "\n",
    "\n",
    "plt.figure(figsize = (14,12), dpi = 300)\n",
    "\n",
    "ax = plt.subplot(221)\n",
    "\n",
    "for x in range(0,5):\n",
    "    \n",
    "    plt.bar(x, target_nb[x], color = 'dimgrey')\n",
    "\n",
    "plt.xticks([0,1,2,3,4], target_labels, rotation = 25, fontsize = 15)\n",
    "\n",
    "plt.ylabel('Number of targets', fontsize = 15)\n",
    "plt.yticks(fontsize = 15)\n",
    "\n",
    "ax.text(-0.175, 1.01,'A',transform=ax.transAxes, fontsize = 24)\n",
    "\n",
    "\n",
    "\n",
    "##########################################\n",
    "ax = plt.subplot(222)\n",
    "\n",
    "for x in range(0,5):\n",
    "    \n",
    "    plt.bar(x, guide_nb[x], color = 'dimgrey')\n",
    "\n",
    "plt.xticks([0,1,2,3,4], target_labels, rotation = 25, fontsize = 15)\n",
    "\n",
    "plt.ylabel('Number of guides', fontsize = 15)\n",
    "plt.yticks(fontsize = 12)\n",
    "\n",
    "ax.text(-0.175, 1.01,'B',transform=ax.transAxes, fontsize = 24)\n",
    "\n",
    "\n",
    "\n",
    "######################################\n",
    "ax = plt.subplot(223)\n",
    "\n",
    "colors = ['k', 'r', 'g', 'b', 'm']\n",
    "\n",
    "types = ['essential', 'high_effect', 'no_effect', 'putative_NF', 'intron']\n",
    "\n",
    "bins = [x for x in np.arange(0,125,5)]\n",
    "\n",
    "list_of_list = []\n",
    "\n",
    "for category in types:\n",
    "    \n",
    "    subtable = guide_table[guide_table['orf_type'] == category]\n",
    "    \n",
    "    guide_per_gene_list = []\n",
    "    \n",
    "    for target in subtable.target.unique():\n",
    "        \n",
    "        guide_per_gene_list.append(np.float64(list(subtable.target).count(target)))\n",
    "    \n",
    "    list_of_list += [guide_per_gene_list]\n",
    "    \n",
    "violin_parts = plt.violinplot(list_of_list, showmedians=True, showextrema=False)\n",
    "\n",
    "plt.boxplot(list_of_list, widths = 0.25, medianprops={'color':'k'})\n",
    "\n",
    "\n",
    "\n",
    "# Make all the violin statistics marks black:\n",
    "for partname in (['cmedians']): #'cbars', cmins, cmaxes\n",
    "    vp = violin_parts[partname]\n",
    "    vp.set_edgecolor('k')\n",
    "    vp.set_linewidth(1)\n",
    "\n",
    "# Make the violin body grey:\n",
    "for vp in violin_parts['bodies']:\n",
    "    vp.set_facecolor('k')\n",
    "    vp.set_alpha(0.20)\n",
    "    \n",
    "\n",
    "\n",
    "\n",
    "\n",
    "plt.xticks([1,2,3,4,5], target_labels, rotation = 25, fontsize = 15)\n",
    "plt.yscale('log')\n",
    "\n",
    "plt.yticks([1,10,100], ['1', '10', '100'],fontsize=15)\n",
    "\n",
    "plt.ylabel('Number of guides per gene', fontsize=15, labelpad = 13)\n",
    "\n",
    "ax.text(-0.175, 1.01,'C',transform=ax.transAxes, fontsize = 24)\n",
    "\n",
    "\n",
    "########################################\n",
    "ax = plt.subplot(224)\n",
    "\n",
    "bins = [x-0.5 for x in range(0,15)]\n",
    "\n",
    "print bins\n",
    "\n",
    "plt.hist(leveshtein_min_dict.values(), density =True, bins = bins, color = 'lightgrey', alpha = 0.7)\n",
    "plt.hist(levestein_median_dict.values(), density =True, bins= bins, color = 'dimgrey', alpha = 0.8)\n",
    "\n",
    "plt.axvline(np.median(leveshtein_min_dict.values()), color = 'k', ls = '--')\n",
    "plt.axvline(np.median(levestein_median_dict.values()), color = 'k', ls = '--')\n",
    "\n",
    "plt.xlim(0,15)\n",
    "\n",
    "plt.xlabel('Leveshtein distance (L)', fontsize = 15)\n",
    "plt.ylabel('Density', fontsize = 15)\n",
    "plt.yticks(fontsize = 15)\n",
    "plt.xticks(fontsize = 15)\n",
    "\n",
    "plt.text(2.2,0.6, 'Minimal',fontsize = 15)\n",
    "plt.text(9,0.6, 'Median',fontsize = 15)\n",
    "\n",
    "ax.text(-0.175, 1.01,'D',transform=ax.transAxes, fontsize = 24)\n",
    "\n",
    "\n",
    "plt.savefig('./chip_properties.svg', format = 'svg', dpi = 300)"
   ]
  },
  {
   "cell_type": "code",
   "execution_count": 37,
   "metadata": {},
   "outputs": [
    {
     "name": "stdout",
     "output_type": "stream",
     "text": [
      "Counter({60: 39978})\n"
     ]
    }
   ],
   "source": [
    "chip_essential_tsv = './yEssential_chip.tsv'\n",
    "\n",
    "\n",
    "def convert_to_order(data_frame):\n",
    "    snr52_end = 'CATAAGGAGGGTCTCCTGATC'\n",
    "    scaffold_end = 'GTTTAGAGACCATGAGCGA'\n",
    "    \n",
    "    return snr52_end+data_frame['sequence']+scaffold_end\n",
    "    \n",
    "chip_data_frame['order_seq'] = chip_data_frame.apply(lambda df: convert_to_order (df),axis=1)\n",
    "\n",
    "chip_data_frame.to_csv(chip_essential_tsv, sep='\\t', columns = ['guide_name', 'order_seq'], index = False, header=False)\n",
    "\n",
    "print Counter([len(x) for x in chip_data_frame['order_seq']])"
   ]
  }
 ],
 "metadata": {
  "kernelspec": {
   "display_name": "Python 2",
   "language": "python",
   "name": "python2"
  },
  "language_info": {
   "codemirror_mode": {
    "name": "ipython",
    "version": 2
   },
   "file_extension": ".py",
   "mimetype": "text/x-python",
   "name": "python",
   "nbconvert_exporter": "python",
   "pygments_lexer": "ipython2",
   "version": "2.7.6"
  }
 },
 "nbformat": 4,
 "nbformat_minor": 2
}
