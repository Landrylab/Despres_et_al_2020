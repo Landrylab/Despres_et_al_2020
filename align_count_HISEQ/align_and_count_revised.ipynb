{
 "cells": [
  {
   "cell_type": "code",
   "execution_count": 1,
   "metadata": {},
   "outputs": [
    {
     "name": "stdout",
     "output_type": "stream",
     "text": [
      "importing modules  \n",
      "0.23.4\n",
      "2.2.3\n",
      "1.15.4\n",
      "0.9.0\n",
      "1.1.0\n"
     ]
    }
   ],
   "source": [
    "print 'importing modules  '\n",
    "import os\n",
    "\n",
    "import subprocess\n",
    "\n",
    "import datetime\n",
    "from datetime import datetime as time\n",
    "\n",
    "import pandas as pd\n",
    "print pd.__version__\n",
    "\n",
    "\n",
    "import matplotlib\n",
    "import matplotlib.pyplot as plt\n",
    "print matplotlib.__version__\n",
    "\n",
    "from collections import Counter\n",
    "\n",
    "import numpy as np\n",
    "print np.__version__\n",
    "\n",
    "import seaborn as sns\n",
    "print sns.__version__\n",
    "\n",
    "import scipy\n",
    "import scipy.stats as stats\n",
    "print scipy.__version__\n",
    "\n",
    "\n",
    "%matplotlib inline\n",
    "# magic command for matplotlib figures in the jupyter notebook"
   ]
  },
  {
   "cell_type": "markdown",
   "metadata": {},
   "source": [
    "## Library indexes"
   ]
  },
  {
   "cell_type": "code",
   "execution_count": 2,
   "metadata": {
    "collapsed": true
   },
   "outputs": [],
   "source": [
    "yachie_lib_indexes = './yachie_lab_indexes.csv'\n",
    "# csv file with the illumina primer indexes\n",
    "\n",
    "index_seq_dict = {}\n",
    "# dict with format    index_no : DNA_sequence \n",
    "\n",
    "with open(yachie_lib_indexes, 'r') as source:\n",
    "    for line in source:\n",
    "        # open file and loop through the lines\n",
    "        \n",
    "        line = line.strip('\\n').strip('Index_')\n",
    "        line = line.split(',')\n",
    "        # format line and split data for dict entry\n",
    "        \n",
    "        index_number = line[0]\n",
    "        # stores index number\n",
    "        index_seq = line[1]\n",
    "        # stores index DNA sequence\n",
    "        \n",
    "        index_seq_dict[index_number] = index_seq\n",
    "        # adds index entry to the dict\n",
    "       "
   ]
  },
  {
   "cell_type": "markdown",
   "metadata": {},
   "source": [
    "## library:index mappers"
   ]
  },
  {
   "cell_type": "code",
   "execution_count": 3,
   "metadata": {
    "collapsed": true
   },
   "outputs": [],
   "source": [
    "index_to_library_mapping = './run_library_indexes_revised.csv'\n",
    "\n",
    "\n",
    "lib_index_tuble_dict = {}\n",
    "# dict with the sample name as a key to recover the index pair associated with it\n",
    "lib_index_by_tuple = {}\n",
    "# dict with the index pair as a key to recover the sample associated with it\n",
    "\n",
    "\n",
    "with open(index_to_library_mapping, 'r') as source:\n",
    "    next(source)\n",
    "    for line in source:\n",
    "        # opens file, skips header, and then cycle through the file\n",
    "        \n",
    "        line = line.strip('\\n')\n",
    "        line = line.split(',')\n",
    "        # format line and split it to recover data\n",
    "        \n",
    "        lib_name = line[0]\n",
    "        # sample name\n",
    "        \n",
    "        P1 = line[1]\n",
    "        # forward index id (P1 index)\n",
    "        P2 = line[2]\n",
    "        # reverse index id (P2 index)\n",
    "\n",
    "        \n",
    "        lib_tuple = tuple((P1,P2))\n",
    "        # a tuple made by combining the two ids (so it can be used as a key in dict)\n",
    "        \n",
    "        lib_index_tuble_dict[lib_name] = lib_tuple\n",
    "        # enters sample:index_tuple info in the dict\n",
    "        lib_index_by_tuple[lib_tuple] = lib_name\n",
    "        # enters index_tuple:sample info in the dict\n",
    "\n",
    "    "
   ]
  },
  {
   "cell_type": "markdown",
   "metadata": {},
   "source": [
    "See the R&D notebook in the folder to see how the bowtie indexes were generated"
   ]
  },
  {
   "cell_type": "markdown",
   "metadata": {},
   "source": [
    "## Getting a list of all the guides"
   ]
  },
  {
   "cell_type": "code",
   "execution_count": 4,
   "metadata": {},
   "outputs": [
    {
     "name": "stdout",
     "output_type": "stream",
     "text": [
      "39978\n"
     ]
    }
   ],
   "source": [
    "guide_list = []\n",
    "\n",
    "guide_table = './chip_table_with_muts.tsv'\n",
    "\n",
    "with open(guide_table, 'r') as source:\n",
    "\n",
    "    next(source)\n",
    "\n",
    "    for line in source:\n",
    "\n",
    "        line_data = line.split('\\t')\n",
    "\n",
    "        guide_name = line_data[1]\n",
    "        \n",
    "        guide_list.append(guide_name)\n",
    "        \n",
    "print len(guide_list)"
   ]
  },
  {
   "cell_type": "code",
   "execution_count": 148,
   "metadata": {},
   "outputs": [
    {
     "name": "stdout",
     "output_type": "stream",
     "text": [
      "2018-08-13 14:31:48.483903\n"
     ]
    },
    {
     "data": {
      "text/plain": [
       "{'both_index': 3365544,\n",
       " 'cleanup': datetime.datetime(2018, 8, 13, 14, 35, 2, 883078),\n",
       " 'for_index_pos': 3403899,\n",
       " 'full_hits_v0': 1622015,\n",
       " 'full_hits_v1': 2030864,\n",
       " 'perfect_matches': 1642039,\n",
       " 'read_match_time': datetime.datetime(2018, 8, 13, 14, 35, 2, 92265),\n",
       " 'rev_index_pos': 3420892,\n",
       " 'time_align': datetime.datetime(2018, 8, 13, 14, 33, 35, 244071),\n",
       " 'time_parsing': datetime.datetime(2018, 8, 13, 14, 34, 44, 248350),\n",
       " 'time_start': datetime.datetime(2018, 8, 13, 14, 31, 48, 483954),\n",
       " 'v1_matches': 2056690}"
      ]
     },
     "execution_count": 148,
     "metadata": {},
     "output_type": "execute_result"
    }
   ],
   "source": [
    "file_list = ['01','02','03','04','05','06','07','08','09'] + [str(x) for x in range(10,42)]\n",
    "# list of sub sequencing files ouputted by the Hiseq\n",
    "\n",
    "gz_suffix = '.fastq.gz'\n",
    "# suffix for fastq files compressed with gzip\n",
    "\n",
    "fastq_suffix = '.fastq'\n",
    "# suffix for fastq sequence files (the ouput of the illumina HiSEQ)\n",
    "\n",
    "compressed_file_name_for = './Sample_Yachielab_2_Philippe/Yachielab_2_Philippe_NoIndex_L002_R1_0'\n",
    "compressed_file_name_rev = './Sample_Yachielab_2_Philippe/Yachielab_2_Philippe_NoIndex_L002_R2_0'\n",
    "# Universal filename for the forward (R1) and reverse (R2) fastq files\n",
    "\n",
    "\n",
    "guide_counts_counter_dict = {}\n",
    "# a dict that will hold one instance of a Counter() object for each library in the experiment (20 total). Each of\n",
    "# those Counter objects will be used the count the number of reads for each guide in each library based the bowtie\n",
    "# alignment data\n",
    "\n",
    "guide_counts_counter_dict_v1 = {}\n",
    "# a dict that will hold one instance of a Counter() object for each library in the experiment (20 total). Each of\n",
    "# those Counter objects will be used the count the number of reads for each guide in each library based the bowtie\n",
    "# alignment data. This one is for the alignment with one mismatch allowed\n",
    "\n",
    "guide_mismatch_dict = {}\n",
    "\n",
    "\n",
    "\n",
    "for lib in lib_index_tuble_dict.keys():\n",
    "    # loops through the samples in the experiment\n",
    "    \n",
    "    guide_counts_counter_dict[lib] = Counter()\n",
    "    guide_counts_counter_dict_v1[lib] = Counter()\n",
    "    # creates an empty Counter() for guide count\n",
    "    \n",
    "    guide_mismatch_dict[lib] = {}\n",
    "    \n",
    "    for guide in guide_list:\n",
    "    \n",
    "        guide_mismatch_dict[lib][guide] = []\n",
    "    \n",
    "    \n",
    "    \n",
    "# MUST be reset everytime the analysis script is run\n",
    "\n",
    "\n",
    "def unpack_and_count(pack_number):\n",
    "    # This function takes in a subpack number and then performs the following operations:\n",
    "    #\n",
    "    #     - Extracts the forward (R1) and reverse (R2) fastq files to a temporary directory\n",
    "    #     - Aligns part of the forward reads to the forward barcode Bowtie index\n",
    "    #     - Aligns part of the reverse reads to the reverse barcode Bowtie index\n",
    "    #     - Aligns part of the read to the gRNA Bowtie index\n",
    "    #     - Then, using the alignment results, reads with valid P1 and P2 indexes and correct gRNA sequence are used \n",
    "    #       to assign gRNA read events to the appropriate sample by inceasing the counter associated with the \n",
    "    #       specific guide by 1. THIS REQUIRES THE guide_counts_counter_dict OBJECT, AND IS WHY IT MUST BE RESET EACH\n",
    "    #       TIME.\n",
    "    #     - Once this is done, the decompressed fastq files and Bowtie alignments files are removed from the\n",
    "    #       temporary directory to save up disk space\n",
    "    #\n",
    "    # Info on the time taken at each steps and performance is kept in the log directory, which is returned after \n",
    "    # function execution.\n",
    "    \n",
    "    \n",
    "    log_entry = {}\n",
    "    # a dict that will store data on the processing of each sub pack of reads\n",
    "    \n",
    "    print time.now()\n",
    "    log_entry['time_start'] = time.now()\n",
    "    # print time at start of each pack and store it in log\n",
    "    \n",
    "    temp_file_for = './temp_files/temp_' + pack_number + '_R1' + fastq_suffix\n",
    "    temp_file_rev = './temp_files/temp_' + pack_number + '_R2' + fastq_suffix\n",
    "    # creates file path for decompressed fastq files\n",
    "   \n",
    "    uncompress_for_call = 'zcat ' + compressed_file_name_for + pack_number + gz_suffix + ' > ' + temp_file_for\n",
    "    uncompress_rev_call = 'zcat ' + compressed_file_name_rev + pack_number + gz_suffix + ' > ' + temp_file_rev\n",
    "    # creates bash calls (as strings) that will decompress the fastq files\n",
    "    \n",
    "    subprocess.check_output(uncompress_for_call, shell=True)\n",
    "    subprocess.check_output(uncompress_rev_call, shell=True)\n",
    "    # decompress the forward ans reverse fastq files\n",
    "    \n",
    "    \n",
    "    index_for_align_param = 'bowtie -t -v 1 -p 6 -k 1 --trim3 135 --trim5 6 --norc hiseq_june2018_for_indexes '\n",
    "    # parameters for forward index alignments. Based on optimization work done in BAR-SEQ notebook\n",
    "    index_for_align_output = './temp_files/index_for_' + pack_number + '.txt'\n",
    "    # alignment output filepath as string\n",
    "    index_for_align_call = index_for_align_param + temp_file_for + ' ' + index_for_align_output\n",
    "    # alignement call as a string\n",
    "    subprocess.check_output(index_for_align_call, shell = True)\n",
    "    # performs the alignment\n",
    "    \n",
    "    \n",
    "    index_rev_align_param = 'bowtie -t -v 1 -p 6 -k 1 --trim3 136 --trim5 6 --nofw hiseq_june2018_rev_indexes '\n",
    "    # parameters for reverse index alignments. Based on optimization work done in BAR-SEQ notebook\n",
    "    index_rev_align_output = './temp_files/index_rev_' + pack_number + '.txt'\n",
    "    # alignment output filepath as string\n",
    "    index_rev_align_call = index_rev_align_param + temp_file_rev + ' ' + index_rev_align_output\n",
    "    # alignement call as a string\n",
    "    subprocess.check_output(index_rev_align_call, shell = True)\n",
    "    # performs the alignment\n",
    "\n",
    "    \n",
    "    guide_align_paramv0 = 'bowtie -t -v 0 -p 6 -k 1 --trim3 47 --trim5 79 --norc -m 1 hiseq_june2018_guides_only '\n",
    "    # parameters for perfect guide alignments. Based on optimization work done in BAR-SEQ notebook\n",
    "    guide_align_outputv0 = './temp_files/guidesv0_' + pack_number + '.txt'\n",
    "    # alignment output filepath as string\n",
    "    guide_align_callv0 = guide_align_paramv0 + temp_file_for + ' ' + guide_align_outputv0\n",
    "    # alignement call as a string\n",
    "    subprocess.check_output(guide_align_callv0, shell = True)\n",
    "    # performs the alignment\n",
    "\n",
    "    \n",
    "    guide_align_paramv1 = 'bowtie -t -v 1 -p 6 -k 1 --trim3 47 --trim5 79 --norc -m 1 hiseq_june2018_guides_only '\n",
    "    # parameters for 1-mismatch guide alignments. Based on optimization work done in BAR-SEQ notebook\n",
    "    guide_align_outputv1 = './temp_files/guidesv1_' + pack_number + '.txt'\n",
    "    # alignment output filepath as string\n",
    "    guide_align_callv1 = guide_align_paramv1 + temp_file_for + ' ' + guide_align_outputv1\n",
    "    # alignement call as a string\n",
    "    subprocess.check_output(guide_align_callv1, shell = True)\n",
    "    # performs the alignment\n",
    "\n",
    "        \n",
    "    log_entry['time_align'] = time.now()\n",
    "    # adds the time spent aligning sequences to the log\n",
    "    \n",
    "    index_found_for = {}\n",
    "    index_found_rev = {}\n",
    "    # empty containers that will hold    read_name: index    data pairs for the forward and reverse reads that\n",
    "    # had valid alignments\n",
    "    \n",
    "\n",
    "    with open(index_for_align_output, 'r') as for_index_positives:\n",
    "        for line in for_index_positives:\n",
    "            # opens P1 index alignment pack file and loops through lines\n",
    "\n",
    "            line = line.split('\\t')\n",
    "            # split line to extract data\n",
    "            read_name = line[0].split(' ')[0]\n",
    "            # Only keep the cluster coordinates and run associated info, not the illumina annotations in the read \n",
    "            # name. See http://support.illumina.com/content/dam/illumina-support/help/BaseSpaceHelp_v2/Content/Vault/\n",
    "            #           Informatics/Sequencing_Analysis/BS/swSEQ_mBS_FASTQFiles.htm\n",
    "            # For info on illumina read name convention\n",
    "            index_found_for[read_name] = line[2]\n",
    "            # add read P1 index to dict\n",
    "            \n",
    "    log_entry['for_index_pos'] = len(index_found_for.keys())\n",
    "    # log entry: number of reads with valid P1 index alignments\n",
    "\n",
    "    with open(index_rev_align_output, 'r') as rev_index_positives:\n",
    "        for line in rev_index_positives:\n",
    "            # opens P2 index alignment pack file and loops through lines\n",
    "\n",
    "            line = line.split('\\t')\n",
    "            # split line to extract data\n",
    "            read_name = line[0].split(' ')[0]\n",
    "            # Only keep the cluster coordinates and run associated info\n",
    "            index_found_rev[read_name] = line[2]\n",
    "            # add read P2 index to dict\n",
    "            \n",
    "    log_entry['rev_index_pos'] = len(index_found_rev.keys())\n",
    "    # log entry: number of reads with valid P2 index alignments\n",
    "\n",
    "\n",
    "    both_indexes = list(set(index_found_for.keys()) & set(index_found_rev.keys()))\n",
    "    log_entry['both_index'] = len(both_indexes)\n",
    "    # Use the set data format to quickly id reads with valid alignments for both P1 and P2 indexes, and stores the\n",
    "    # taht number for the read pack in the log\n",
    "\n",
    "\n",
    "    guide_match_v0 = {}\n",
    "    # empty containers that will hold    read_name: guide    data pairs for the forward reads that had alignments\n",
    "    # with 0 mismatches at the right location in the reference sequence set\n",
    "\n",
    "    with open(guide_align_outputv0, 'r') as perfect_matches:\n",
    "        for line in perfect_matches:\n",
    "            # opens gRNA alignment pack file and loops through lines\n",
    "\n",
    "            line = line.split('\\t')\n",
    "            # split line to extract data\n",
    "            read_name = line[0].split(' ')[0]\n",
    "            # Only keep the cluster coordinates and run associated info\n",
    "            guide = line[2]\n",
    "            # the guide for which a match was found\n",
    "            \n",
    "            if int(line[3]) in range(31, 38):\n",
    "                # the alignment is at the right location in the guide sequence\n",
    "\n",
    "                guide_match_v0[read_name] = guide\n",
    "                # add read:guide to dict\n",
    "            \n",
    "    log_entry['perfect_matches'] = len(guide_match_v0.keys())\n",
    "    # adds the number of perfect matches found in the pack of reads\n",
    "            \n",
    "        \n",
    "    guide_match_v1 = {}\n",
    "    # empty containers that will hold    read_name: guide    data pairs for the forward reads that had alignments\n",
    "    # with 1 mismatches at most at the right location in the reference sequence set\n",
    "    \n",
    "    \n",
    "    #### Still in progresss\n",
    "    read_mismatch_guide = {}\n",
    "    # a dict that will hold the different mismatches found for \n",
    "    \n",
    "    \n",
    "    with open(guide_align_outputv1, 'r') as v1_matches:\n",
    "\n",
    "        for line in v1_matches:\n",
    "\n",
    "            line = line.split('\\t')\n",
    "            read_name = line[0].split(' ')[0]\n",
    "            guide = line[2]\n",
    "            \n",
    "            mismatches = line[7].strip('\\n')\n",
    "            \n",
    "            if int(line[3]) in range(31, 38):\n",
    "            \n",
    "                guide_match_v1[read_name] = guide\n",
    "                \n",
    "                if mismatches != '':\n",
    "                    \n",
    "                    read_mismatch_guide[read_name] = mismatches\n",
    "                    \n",
    "                elif mismatches == '':\n",
    "                    \n",
    "                    read_mismatch_guide[read_name] = []\n",
    "                    \n",
    "    #### Still in progresss              \n",
    "                    \n",
    "\n",
    "    log_entry['v1_matches'] = len(guide_match_v1.keys())\n",
    "    log_entry['time_parsing'] = time.now()\n",
    "    # adds the number of perfect and 1 mismatch matches found in the pack of reads and the time spent parsing to the\n",
    "    # log\n",
    "\n",
    "    \n",
    "\n",
    "    indexes_and_guides_v0 = list(set(index_found_for.keys()) & set(index_found_rev.keys()) & set(guide_match_v0.keys()))\n",
    "    log_entry['full_hits_v0'] = len(indexes_and_guides_v0)\n",
    "    # uses sets in python to find the set of reads for which the P1, P2 and gRNA alignments were good\n",
    "    \n",
    "    indexes_and_guides_v1 = list(set(index_found_for.keys()) & set(index_found_rev.keys()) & set(guide_match_v1.keys()))\n",
    "    log_entry['full_hits_v1'] = len(indexes_and_guides_v1)\n",
    "    # uses sets in python to find the set of reads for which the P1, P2 and gRNA alignments (with up to one mismatch)\n",
    "    # were good\n",
    "\n",
    "    \n",
    "    \n",
    "    for read in indexes_and_guides_v0:\n",
    "        # loops through the reads tht passed the filter\n",
    "    \n",
    "        for_i = index_found_for[read]\n",
    "        # gets the P1 index of the read\n",
    "\n",
    "        rev_i = index_found_rev[read]\n",
    "        # gets the P2 index of the read\n",
    "\n",
    "        lib = lib_index_by_tuple[tuple((for_i, rev_i))]\n",
    "        # gets the sample to which the read should be assigned based on P1, P2 combination\n",
    "        \n",
    "        guide = guide_match_v0[read]\n",
    "        # gets the guide associated with the read\n",
    "        \n",
    "        guide_counts_counter_dict[lib][guide] += 1\n",
    "        # a count for the guide detected in its specific sample\n",
    "        \n",
    "    for read in indexes_and_guides_v1:\n",
    "        # loops through the reads tht passed the filter\n",
    "    \n",
    "        for_i = index_found_for[read]\n",
    "        # gets the P1 index of the read\n",
    "\n",
    "        rev_i = index_found_rev[read]\n",
    "        # gets the P2 index of the read\n",
    "\n",
    "        lib = lib_index_by_tuple[tuple((for_i, rev_i))]\n",
    "        # gets the sample to which the read should be assigned based on P1, P2 combination\n",
    "        \n",
    "        guide = guide_match_v1[read]\n",
    "        # gets the guide associated with the read (one mismatch allowed)\n",
    "        \n",
    "        guide_counts_counter_dict_v1[lib][guide] += 1\n",
    "        # a count for the guide detected in its specific sample\n",
    "        \n",
    "        guide_mismatch_dict[lib][guide] += [read_mismatch_guide[read]]\n",
    "        \n",
    "    log_entry['read_match_time'] = time.now()\n",
    "    # add time spent matching up reads to the log\n",
    "    \n",
    "    \n",
    "    cleanup_command = 'rm ./temp_files/*'\n",
    "    # the cleanup command (empties the temporary directory) in string format\n",
    "    \n",
    "    subprocess.check_output(cleanup_command, shell = True)\n",
    "    # cleans up the temporary directory\n",
    "    \n",
    "    log_entry['cleanup'] = time.now()\n",
    "    # adds time spent cleaning up to the log\n",
    "    \n",
    "    \n",
    "    return log_entry\n",
    "    # returns the info about the run in a dict format\n",
    "        \n",
    "        \n",
    "\n",
    "    \n",
    "    \n",
    "    \n",
    "    \n",
    "    \n",
    "       \n",
    "unpack_and_count(file_list[0])"
   ]
  },
  {
   "cell_type": "code",
   "execution_count": 149,
   "metadata": {},
   "outputs": [
    {
     "data": {
      "text/plain": [
       "['az', 'by']"
      ]
     },
     "execution_count": 149,
     "metadata": {},
     "output_type": "execute_result"
    }
   ],
   "source": [
    "test = {'a':[]}\n",
    "test['a'] += ['az']\n",
    "test['a'] += ['by']\n",
    "test['a']"
   ]
  },
  {
   "cell_type": "code",
   "execution_count": 150,
   "metadata": {},
   "outputs": [
    {
     "name": "stdout",
     "output_type": "stream",
     "text": [
      "22818\n",
      "gal_16_B\n",
      "25009\n",
      "gal_16_B\n",
      "25009\n",
      "        slope          intercept          r_value              p_value                  std_err\n",
      "(1.2559706609644905, -316.9625822158996, 0.9990257558536061, 7.482241765626027e-26, 0.013077046092178224)\n",
      "0.998052460859\n"
     ]
    },
    {
     "data": {
      "image/png": "[encoded data removed]",
      "text/plain": [
       "<matplotlib.figure.Figure at 0x7fc378453cd0>"
      ]
     },
     "metadata": {},
     "output_type": "display_data"
    }
   ],
   "source": [
    "print len(guide_counts_counter_dict[guide_counts_counter_dict.keys()[0]])\n",
    "print guide_counts_counter_dict.keys()[0]\n",
    "print len(guide_counts_counter_dict_v1[guide_counts_counter_dict_v1.keys()[0]])\n",
    "print guide_counts_counter_dict_v1.keys()[0]\n",
    "\n",
    "tot_len = 0\n",
    "\n",
    "guide_mismatch_dict['gal_16_B'] = dict((k, v) for k, v in guide_mismatch_dict['gal_16_B'].iteritems() if v != [])\n",
    "\n",
    "for x in guide_mismatch_dict['gal_16_B'].keys():\n",
    "    \n",
    "    if guide_mismatch_dict['gal_16_B'][x] == []:\n",
    "    \n",
    "        tot_len += 1\n",
    "        \n",
    "print len(guide_mismatch_dict['gal_16_B'].keys())\n",
    "\n",
    "# missmatch dict size matches the read dict size.\n",
    "\n",
    "plt.figure(figsize=(6,6))\n",
    "\n",
    "plt.plot([sum(guide_counts_counter_dict[x].values()) for x in lib_index_tuble_dict.keys()], [sum(guide_counts_counter_dict_v1[x].values()) for x in lib_index_tuble_dict.keys()], 'ko')\n",
    "plt.xlim(25000, 142000)\n",
    "plt.ylim(25000, 142000)\n",
    "plt.plot(range(25000,142000), range(25000,142000))\n",
    "print '        slope          intercept          r_value              p_value                  std_err'\n",
    "print scipy.stats.linregress([sum(guide_counts_counter_dict[x].values()) for x in lib_index_tuble_dict.keys()], [sum(guide_counts_counter_dict_v1[x].values()) for x in lib_index_tuble_dict.keys()])\n",
    "print 0.9990257558536061**2"
   ]
  },
  {
   "cell_type": "markdown",
   "metadata": {},
   "source": [
    "## On the whole dataset"
   ]
  },
  {
   "cell_type": "code",
   "execution_count": 151,
   "metadata": {},
   "outputs": [
    {
     "name": "stdout",
     "output_type": "stream",
     "text": [
      "2018-08-13 14:35:07.434775\n",
      "2018-08-13 14:37:36.329835\n",
      "2018-08-13 14:40:28.701567\n",
      "2018-08-13 14:43:16.176889\n",
      "2018-08-13 14:46:06.447553\n",
      "2018-08-13 14:48:52.124982\n",
      "2018-08-13 14:51:42.491714\n",
      "2018-08-13 14:54:26.479659\n",
      "2018-08-13 14:57:10.930735\n",
      "2018-08-13 14:59:59.140929\n",
      "2018-08-13 15:02:39.002841\n",
      "2018-08-13 15:06:22.177764\n",
      "2018-08-13 15:09:09.821644\n",
      "2018-08-13 15:12:00.934234\n",
      "2018-08-13 15:14:53.470747\n",
      "2018-08-13 15:17:43.758208\n",
      "2018-08-13 15:20:25.138248\n",
      "2018-08-13 15:23:27.649964\n",
      "2018-08-13 15:26:16.577219\n",
      "2018-08-13 15:28:55.368717\n",
      "2018-08-13 15:31:26.553214\n",
      "2018-08-13 15:34:16.006258\n",
      "2018-08-13 15:36:59.960405\n",
      "2018-08-13 15:39:54.443431\n",
      "2018-08-13 15:42:33.601808\n",
      "2018-08-13 15:46:12.999871\n",
      "2018-08-13 15:48:54.186424\n",
      "2018-08-13 15:51:39.106483\n",
      "2018-08-13 15:54:21.263905\n",
      "2018-08-13 15:56:58.314829\n",
      "2018-08-13 15:59:52.918178\n",
      "2018-08-13 16:02:36.840788\n",
      "2018-08-13 16:10:11.738084\n",
      "2018-08-13 16:22:53.253407\n",
      "2018-08-13 16:26:19.655274\n",
      "2018-08-13 16:29:13.624433\n",
      "2018-08-13 16:32:05.048818\n",
      "2018-08-13 16:35:08.750430\n",
      "2018-08-13 16:38:01.844225\n",
      "2018-08-13 16:45:09.269840\n",
      "2018-08-13 16:49:27.600155\n"
     ]
    }
   ],
   "source": [
    "guide_counts_counter_dict = {}\n",
    "# a dict that will hold one instance of a Counter() object for each library in the experiment (20 total). Each of\n",
    "# those Counter objects will be used the count the number of reads for each guide in each library based the bowtie\n",
    "# alignment data\n",
    "\n",
    "guide_counts_counter_dict_v1 = {}\n",
    "# a dict that will hold one instance of a Counter() object for each library in the experiment (20 total). Each of\n",
    "# those Counter objects will be used the count the number of reads for each guide in each library based the bowtie\n",
    "# alignment data. This one is for the alignment with one mismatch allowed\n",
    "\n",
    "guide_mismatch_dict = {}\n",
    "\n",
    "\n",
    "\n",
    "for lib in lib_index_tuble_dict.keys():\n",
    "    # loops through the samples in the experiment\n",
    "    \n",
    "    guide_counts_counter_dict[lib] = Counter()\n",
    "    guide_counts_counter_dict_v1[lib] = Counter()\n",
    "    # creates an empty Counter() for guide count\n",
    "    \n",
    "    guide_mismatch_dict[lib] = {}\n",
    "    \n",
    "    for guide in guide_list:\n",
    "    \n",
    "        guide_mismatch_dict[lib][guide] = []\n",
    "    \n",
    "log_table = {}\n",
    "# the dict of dicts that will hold the different log entries\n",
    "\n",
    "for pack in file_list:\n",
    "    # loops through read packs\n",
    "    \n",
    "    log_table[pack] = unpack_and_count(pack)\n",
    "    # performs alignments and counts on each pack, adding the log of the operation to the log dict"
   ]
  },
  {
   "cell_type": "markdown",
   "metadata": {},
   "source": [
    "## save dict as pickle"
   ]
  },
  {
   "cell_type": "code",
   "execution_count": 152,
   "metadata": {
    "collapsed": true
   },
   "outputs": [],
   "source": [
    "import pickle\n",
    "\n",
    "guide_counts_counter_dict_save = './guide_counts_counter_dict_save.p'\n",
    "guide_counts_counter_dict_v1_save = './guide_counts_counter_dict_v1_save.p'\n",
    "guide_mismatch_dict_save = './guide_mismatch_dict_save.p'\n",
    "\n",
    "pickle.dump(guide_counts_counter_dict, open(guide_counts_counter_dict_save, 'wb'))\n",
    "pickle.dump(guide_counts_counter_dict_v1, open(guide_counts_counter_dict_v1_save, 'wb'))\n",
    "pickle.dump(guide_mismatch_dict, open(guide_mismatch_dict_save, 'wb'))\n",
    "\n",
    "\n"
   ]
  },
  {
   "cell_type": "code",
   "execution_count": 5,
   "metadata": {
    "collapsed": true
   },
   "outputs": [],
   "source": [
    "import pickle\n",
    "\n",
    "guide_counts_counter_dict_save = './guide_counts_counter_dict_save.p'\n",
    "guide_counts_counter_dict_v1_save = './guide_counts_counter_dict_v1_save.p'\n",
    "guide_mismatch_dict_save = './guide_mismatch_dict_save.p'\n",
    "\n",
    "\n",
    "guide_counts_counter_dict = pickle.load( open(guide_counts_counter_dict_save, 'rb') )\n",
    "guide_counts_counter_dict_v1 = pickle.load( open(guide_counts_counter_dict_v1_save, 'rb') )\n",
    "guide_mismatch_dict = pickle.load( open(guide_mismatch_dict_save, 'rb') )"
   ]
  },
  {
   "cell_type": "markdown",
   "metadata": {},
   "source": [
    "## Visualize log"
   ]
  },
  {
   "cell_type": "code",
   "execution_count": 23,
   "metadata": {
    "collapsed": true
   },
   "outputs": [],
   "source": [
    "log_from_out = {'30': {'v1_matches': 2030720, 'time_start': datetime.datetime(2018, 6, 28, 17, 47, 29, 338416), 'full_hits_v1': 2004229, 'full_hits_v0': 1599386, 'time_align': datetime.datetime(2018, 6, 28, 17, 49, 21, 964033), 'for_index_pos': 3377380, 'cleanup': datetime.datetime(2018, 6, 28, 17, 49, 47, 289375), 'read_match_time': datetime.datetime(2018, 6, 28, 17, 49, 46, 999910), 'time_parsing': datetime.datetime(2018, 6, 28, 17, 49, 35, 686351), 'rev_index_pos': 3395156, 'perfect_matches': 1619112, 'both_index': 3329935}, '02': {'v1_matches': 2053328, 'time_start': datetime.datetime(2018, 6, 28, 16, 47, 36, 196129), 'full_hits_v1': 2026937, 'full_hits_v0': 1619543, 'time_align': datetime.datetime(2018, 6, 28, 16, 48, 43, 209041), 'for_index_pos': 3400107, 'cleanup': datetime.datetime(2018, 6, 28, 16, 49, 8, 991611), 'read_match_time': datetime.datetime(2018, 6, 28, 16, 49, 8, 699349), 'time_parsing': datetime.datetime(2018, 6, 28, 16, 48, 57, 505179), 'rev_index_pos': 3416063, 'perfect_matches': 1639806, 'both_index': 3359372}, '03': {'v1_matches': 2045445, 'time_start': datetime.datetime(2018, 6, 28, 16, 49, 10, 607243), 'full_hits_v1': 2018590, 'full_hits_v0': 1611704, 'time_align': datetime.datetime(2018, 6, 28, 16, 50, 17, 671956), 'for_index_pos': 3392925, 'cleanup': datetime.datetime(2018, 6, 28, 16, 50, 43, 921272), 'read_match_time': datetime.datetime(2018, 6, 28, 16, 50, 43, 631630), 'time_parsing': datetime.datetime(2018, 6, 28, 16, 50, 32, 144629), 'rev_index_pos': 3410532, 'perfect_matches': 1632228, 'both_index': 3350232}, '26': {'v1_matches': 2027284, 'time_start': datetime.datetime(2018, 6, 28, 17, 38, 10, 558365), 'full_hits_v1': 2000735, 'full_hits_v0': 1567526, 'time_align': datetime.datetime(2018, 6, 28, 17, 40, 2, 602272), 'for_index_pos': 3375345, 'cleanup': datetime.datetime(2018, 6, 28, 17, 40, 29, 552761), 'read_match_time': datetime.datetime(2018, 6, 28, 17, 40, 29, 251151), 'time_parsing': datetime.datetime(2018, 6, 28, 17, 40, 17, 454708), 'rev_index_pos': 3396852, 'perfect_matches': 1587261, 'both_index': 3331667}, '01': {'v1_matches': 2056690, 'time_start': datetime.datetime(2018, 6, 28, 16, 46, 0, 110991), 'full_hits_v1': 2030864, 'full_hits_v0': 1622015, 'time_align': datetime.datetime(2018, 6, 28, 16, 47, 8, 432915), 'for_index_pos': 3403899, 'cleanup': datetime.datetime(2018, 6, 28, 16, 47, 34, 605495), 'read_match_time': datetime.datetime(2018, 6, 28, 16, 47, 34, 194521), 'time_parsing': datetime.datetime(2018, 6, 28, 16, 47, 22, 702401), 'rev_index_pos': 3420892, 'perfect_matches': 1642039, 'both_index': 3365544}, '06': {'v1_matches': 2046340, 'time_start': datetime.datetime(2018, 6, 28, 16, 53, 56, 250082), 'full_hits_v1': 2019126, 'full_hits_v0': 1612016, 'time_align': datetime.datetime(2018, 6, 28, 16, 55, 17, 761151), 'for_index_pos': 3397562, 'cleanup': datetime.datetime(2018, 6, 28, 16, 55, 43, 433054), 'read_match_time': datetime.datetime(2018, 6, 28, 16, 55, 43, 159572), 'time_parsing': datetime.datetime(2018, 6, 28, 16, 55, 32, 13405), 'rev_index_pos': 3412666, 'perfect_matches': 1632682, 'both_index': 3353669}, '07': {'v1_matches': 2043604, 'time_start': datetime.datetime(2018, 6, 28, 16, 55, 45, 46970), 'full_hits_v1': 2017098, 'full_hits_v0': 1608597, 'time_align': datetime.datetime(2018, 6, 28, 16, 57, 4, 527641), 'for_index_pos': 3391839, 'cleanup': datetime.datetime(2018, 6, 28, 16, 57, 29, 698403), 'read_match_time': datetime.datetime(2018, 6, 28, 16, 57, 29, 429121), 'time_parsing': datetime.datetime(2018, 6, 28, 16, 57, 18, 595587), 'rev_index_pos': 3405445, 'perfect_matches': 1628686, 'both_index': 3346599}, '04': {'v1_matches': 2050010, 'time_start': datetime.datetime(2018, 6, 28, 16, 50, 45, 524584), 'full_hits_v1': 2022931, 'full_hits_v0': 1614417, 'time_align': datetime.datetime(2018, 6, 28, 16, 51, 54, 68103), 'for_index_pos': 3397336, 'cleanup': datetime.datetime(2018, 6, 28, 16, 52, 19, 923439), 'read_match_time': datetime.datetime(2018, 6, 28, 16, 52, 19, 630520), 'time_parsing': datetime.datetime(2018, 6, 28, 16, 52, 8, 411750), 'rev_index_pos': 3416433, 'perfect_matches': 1634968, 'both_index': 3355536}, '05': {'v1_matches': 2044372, 'time_start': datetime.datetime(2018, 6, 28, 16, 52, 21, 550052), 'full_hits_v1': 2017963, 'full_hits_v0': 1611873, 'time_align': datetime.datetime(2018, 6, 28, 16, 53, 28, 980426), 'for_index_pos': 3393471, 'cleanup': datetime.datetime(2018, 6, 28, 16, 53, 54, 631456), 'read_match_time': datetime.datetime(2018, 6, 28, 16, 53, 54, 338111), 'time_parsing': datetime.datetime(2018, 6, 28, 16, 53, 43, 180235), 'rev_index_pos': 3409132, 'perfect_matches': 1631891, 'both_index': 3349952}, '08': {'v1_matches': 2030335, 'time_start': datetime.datetime(2018, 6, 28, 16, 57, 31, 266411), 'full_hits_v1': 2003611, 'full_hits_v0': 1596499, 'time_align': datetime.datetime(2018, 6, 28, 16, 58, 51, 37890), 'for_index_pos': 3382741, 'cleanup': datetime.datetime(2018, 6, 28, 16, 59, 16, 902786), 'read_match_time': datetime.datetime(2018, 6, 28, 16, 59, 16, 643397), 'time_parsing': datetime.datetime(2018, 6, 28, 16, 59, 5, 432346), 'rev_index_pos': 3412521, 'perfect_matches': 1616461, 'both_index': 3337498}, '09': {'v1_matches': 2041511, 'time_start': datetime.datetime(2018, 6, 28, 16, 59, 18, 450237), 'full_hits_v1': 2015597, 'full_hits_v0': 1607274, 'time_align': datetime.datetime(2018, 6, 28, 17, 0, 50, 51107), 'for_index_pos': 3398728, 'cleanup': datetime.datetime(2018, 6, 28, 17, 1, 17, 243109), 'read_match_time': datetime.datetime(2018, 6, 28, 17, 1, 16, 986994), 'time_parsing': datetime.datetime(2018, 6, 28, 17, 1, 4, 660074), 'rev_index_pos': 3408998, 'perfect_matches': 1626808, 'both_index': 3352845}, '28': {'v1_matches': 2027955, 'time_start': datetime.datetime(2018, 6, 28, 17, 42, 49, 726322), 'full_hits_v1': 2001106, 'full_hits_v0': 1597814, 'time_align': datetime.datetime(2018, 6, 28, 17, 44, 41, 664146), 'for_index_pos': 3373607, 'cleanup': datetime.datetime(2018, 6, 28, 17, 45, 7, 233095), 'read_match_time': datetime.datetime(2018, 6, 28, 17, 45, 6, 921135), 'time_parsing': datetime.datetime(2018, 6, 28, 17, 44, 55, 233184), 'rev_index_pos': 3393235, 'perfect_matches': 1617992, 'both_index': 3327324}, '29': {'v1_matches': 2036592, 'time_start': datetime.datetime(2018, 6, 28, 17, 45, 8, 866273), 'full_hits_v1': 2009224, 'full_hits_v0': 1604216, 'time_align': datetime.datetime(2018, 6, 28, 17, 47, 2, 414671), 'for_index_pos': 3381312, 'cleanup': datetime.datetime(2018, 6, 28, 17, 47, 27, 789067), 'read_match_time': datetime.datetime(2018, 6, 28, 17, 47, 27, 490176), 'time_parsing': datetime.datetime(2018, 6, 28, 17, 47, 16, 132454), 'rev_index_pos': 3400135, 'perfect_matches': 1624677, 'both_index': 3335467}, '40': {'v1_matches': 2036056, 'time_start': datetime.datetime(2018, 6, 28, 18, 10, 37, 753649), 'full_hits_v1': 2008053, 'full_hits_v0': 1603119, 'time_align': datetime.datetime(2018, 6, 28, 18, 12, 34, 55041), 'for_index_pos': 3380975, 'cleanup': datetime.datetime(2018, 6, 28, 18, 13, 0, 81376), 'read_match_time': datetime.datetime(2018, 6, 28, 18, 12, 59, 791143), 'time_parsing': datetime.datetime(2018, 6, 28, 18, 12, 47, 897800), 'rev_index_pos': 3413100, 'perfect_matches': 1623694, 'both_index': 3336487}, '41': {'v1_matches': 1911295, 'time_start': datetime.datetime(2018, 6, 28, 18, 13, 1, 715860), 'full_hits_v1': 1883918, 'full_hits_v0': 1501994, 'time_align': datetime.datetime(2018, 6, 28, 18, 14, 41, 607856), 'for_index_pos': 3182774, 'cleanup': datetime.datetime(2018, 6, 28, 18, 15, 8, 805775), 'read_match_time': datetime.datetime(2018, 6, 28, 18, 15, 8, 426196), 'time_parsing': datetime.datetime(2018, 6, 28, 18, 14, 57, 184236), 'rev_index_pos': 3215013, 'perfect_matches': 1521830, 'both_index': 3138800}, '14': {'v1_matches': 2051421, 'time_start': datetime.datetime(2018, 6, 28, 17, 9, 48, 226103), 'full_hits_v1': 2024120, 'full_hits_v0': 1616603, 'time_align': datetime.datetime(2018, 6, 28, 17, 11, 23, 136396), 'for_index_pos': 3399523, 'cleanup': datetime.datetime(2018, 6, 28, 17, 11, 48, 806216), 'read_match_time': datetime.datetime(2018, 6, 28, 17, 11, 48, 556491), 'time_parsing': datetime.datetime(2018, 6, 28, 17, 11, 36, 689943), 'rev_index_pos': 3422354, 'perfect_matches': 1637376, 'both_index': 3358062}, '24': {'v1_matches': 2021627, 'time_start': datetime.datetime(2018, 6, 28, 17, 33, 39, 457352), 'full_hits_v1': 1994507, 'full_hits_v0': 1560606, 'time_align': datetime.datetime(2018, 6, 28, 17, 35, 29, 616094), 'for_index_pos': 3381816, 'cleanup': datetime.datetime(2018, 6, 28, 17, 35, 54, 630671), 'read_match_time': datetime.datetime(2018, 6, 28, 17, 35, 54, 349940), 'time_parsing': datetime.datetime(2018, 6, 28, 17, 35, 43, 104252), 'rev_index_pos': 3406762, 'perfect_matches': 1580710, 'both_index': 3339123}, '25': {'v1_matches': 1848318, 'time_start': datetime.datetime(2018, 6, 28, 17, 35, 56, 198213), 'full_hits_v1': 1823108, 'full_hits_v0': 1247090, 'time_align': datetime.datetime(2018, 6, 28, 17, 37, 45, 999634), 'for_index_pos': 3376094, 'cleanup': datetime.datetime(2018, 6, 28, 17, 38, 9, 25080), 'read_match_time': datetime.datetime(2018, 6, 28, 17, 38, 8, 745133), 'time_parsing': datetime.datetime(2018, 6, 28, 17, 37, 58, 718033), 'rev_index_pos': 3396960, 'perfect_matches': 1263600, 'both_index': 3330984}, '39': {'v1_matches': 2030920, 'time_start': datetime.datetime(2018, 6, 28, 18, 8, 14, 538508), 'full_hits_v1': 2003212, 'full_hits_v0': 1599000, 'time_align': datetime.datetime(2018, 6, 28, 18, 10, 9, 973483), 'for_index_pos': 3371427, 'cleanup': datetime.datetime(2018, 6, 28, 18, 10, 36, 109056), 'read_match_time': datetime.datetime(2018, 6, 28, 18, 10, 35, 796609), 'time_parsing': datetime.datetime(2018, 6, 28, 18, 10, 23, 795064), 'rev_index_pos': 3402444, 'perfect_matches': 1619708, 'both_index': 3327439}, '27': {'v1_matches': 2039123, 'time_start': datetime.datetime(2018, 6, 28, 17, 40, 31, 171318), 'full_hits_v1': 2011987, 'full_hits_v0': 1606879, 'time_align': datetime.datetime(2018, 6, 28, 17, 42, 23, 320184), 'for_index_pos': 3382060, 'cleanup': datetime.datetime(2018, 6, 28, 17, 42, 48, 185740), 'read_match_time': datetime.datetime(2018, 6, 28, 17, 42, 47, 870780), 'time_parsing': datetime.datetime(2018, 6, 28, 17, 42, 36, 698556), 'rev_index_pos': 3404308, 'perfect_matches': 1627253, 'both_index': 3338784}, '20': {'v1_matches': 2047652, 'time_start': datetime.datetime(2018, 6, 28, 17, 24, 13, 603222), 'full_hits_v1': 2020797, 'full_hits_v0': 1610839, 'time_align': datetime.datetime(2018, 6, 28, 17, 25, 59, 136658), 'for_index_pos': 3409217, 'cleanup': datetime.datetime(2018, 6, 28, 17, 26, 24, 461087), 'read_match_time': datetime.datetime(2018, 6, 28, 17, 26, 24, 83444), 'time_parsing': datetime.datetime(2018, 6, 28, 17, 26, 12, 703374), 'rev_index_pos': 3423200, 'perfect_matches': 1630999, 'both_index': 3364032}, '38': {'v1_matches': 2027153, 'time_start': datetime.datetime(2018, 6, 28, 18, 5, 53, 545594), 'full_hits_v1': 1999077, 'full_hits_v0': 1573749, 'time_align': datetime.datetime(2018, 6, 28, 18, 7, 48, 35050), 'for_index_pos': 3373912, 'cleanup': datetime.datetime(2018, 6, 28, 18, 8, 12, 914430), 'read_match_time': datetime.datetime(2018, 6, 28, 18, 8, 12, 619303), 'time_parsing': datetime.datetime(2018, 6, 28, 18, 8, 1, 502219), 'rev_index_pos': 3408596, 'perfect_matches': 1594155, 'both_index': 3330026}, '21': {'v1_matches': 2048229, 'time_start': datetime.datetime(2018, 6, 28, 17, 26, 26, 12204), 'full_hits_v1': 2021005, 'full_hits_v0': 1610922, 'time_align': datetime.datetime(2018, 6, 28, 17, 28, 21, 880311), 'for_index_pos': 3405648, 'cleanup': datetime.datetime(2018, 6, 28, 17, 28, 47, 623545), 'read_match_time': datetime.datetime(2018, 6, 28, 17, 28, 47, 334869), 'time_parsing': datetime.datetime(2018, 6, 28, 17, 28, 35, 607438), 'rev_index_pos': 3426547, 'perfect_matches': 1631193, 'both_index': 3362847}, '11': {'v1_matches': 2047769, 'time_start': datetime.datetime(2018, 6, 28, 17, 3, 45, 971605), 'full_hits_v1': 2020153, 'full_hits_v0': 1613158, 'time_align': datetime.datetime(2018, 6, 28, 17, 5, 11, 911091), 'for_index_pos': 3398293, 'cleanup': datetime.datetime(2018, 6, 28, 17, 5, 38, 546724), 'read_match_time': datetime.datetime(2018, 6, 28, 17, 5, 38, 266553), 'time_parsing': datetime.datetime(2018, 6, 28, 17, 5, 26, 534528), 'rev_index_pos': 3420259, 'perfect_matches': 1634022, 'both_index': 3355345}, '10': {'v1_matches': 2045366, 'time_start': datetime.datetime(2018, 6, 28, 17, 1, 18, 807093), 'full_hits_v1': 2019105, 'full_hits_v0': 1609497, 'time_align': datetime.datetime(2018, 6, 28, 17, 3, 17, 714842), 'for_index_pos': 3410373, 'cleanup': datetime.datetime(2018, 6, 28, 17, 3, 44, 344628), 'read_match_time': datetime.datetime(2018, 6, 28, 17, 3, 43, 972501), 'time_parsing': datetime.datetime(2018, 6, 28, 17, 3, 31, 934200), 'rev_index_pos': 3422296, 'perfect_matches': 1629068, 'both_index': 3364397}, '13': {'v1_matches': 2052630, 'time_start': datetime.datetime(2018, 6, 28, 17, 7, 27, 314658), 'full_hits_v1': 2025274, 'full_hits_v0': 1617825, 'time_align': datetime.datetime(2018, 6, 28, 17, 9, 20, 360534), 'for_index_pos': 3401811, 'cleanup': datetime.datetime(2018, 6, 28, 17, 9, 46, 523816), 'read_match_time': datetime.datetime(2018, 6, 28, 17, 9, 46, 234072), 'time_parsing': datetime.datetime(2018, 6, 28, 17, 9, 34, 74053), 'rev_index_pos': 3424754, 'perfect_matches': 1638689, 'both_index': 3360560}, '12': {'v1_matches': 2060197, 'time_start': datetime.datetime(2018, 6, 28, 17, 5, 40, 119548), 'full_hits_v1': 2033796, 'full_hits_v0': 1625369, 'time_align': datetime.datetime(2018, 6, 28, 17, 6, 59, 976136), 'for_index_pos': 3408387, 'cleanup': datetime.datetime(2018, 6, 28, 17, 7, 25, 735849), 'read_match_time': datetime.datetime(2018, 6, 28, 17, 7, 25, 427410), 'time_parsing': datetime.datetime(2018, 6, 28, 17, 7, 14, 123972), 'rev_index_pos': 3431031, 'perfect_matches': 1645683, 'both_index': 3369423}, '15': {'v1_matches': 2054465, 'time_start': datetime.datetime(2018, 6, 28, 17, 11, 50, 423930), 'full_hits_v1': 2027446, 'full_hits_v0': 1619215, 'time_align': datetime.datetime(2018, 6, 28, 17, 14, 0, 282947), 'for_index_pos': 3405489, 'cleanup': datetime.datetime(2018, 6, 28, 17, 14, 24, 686932), 'read_match_time': datetime.datetime(2018, 6, 28, 17, 14, 24, 404234), 'time_parsing': datetime.datetime(2018, 6, 28, 17, 14, 13, 823001), 'rev_index_pos': 3427539, 'perfect_matches': 1639664, 'both_index': 3364674}, '22': {'v1_matches': 2046852, 'time_start': datetime.datetime(2018, 6, 28, 17, 28, 49, 271749), 'full_hits_v1': 2020568, 'full_hits_v0': 1616163, 'time_align': datetime.datetime(2018, 6, 28, 17, 30, 48, 316808), 'for_index_pos': 3386397, 'cleanup': datetime.datetime(2018, 6, 28, 17, 31, 13, 503686), 'read_match_time': datetime.datetime(2018, 6, 28, 17, 31, 13, 204437), 'time_parsing': datetime.datetime(2018, 6, 28, 17, 31, 1, 834501), 'rev_index_pos': 3407999, 'perfect_matches': 1636370, 'both_index': 3346554}, '17': {'v1_matches': 2054766, 'time_start': datetime.datetime(2018, 6, 28, 17, 17, 1, 274600), 'full_hits_v1': 2027940, 'full_hits_v0': 1618154, 'time_align': datetime.datetime(2018, 6, 28, 17, 18, 59, 827736), 'for_index_pos': 3407494, 'cleanup': datetime.datetime(2018, 6, 28, 17, 19, 25, 630998), 'read_match_time': datetime.datetime(2018, 6, 28, 17, 19, 25, 351312), 'time_parsing': datetime.datetime(2018, 6, 28, 17, 19, 13, 482286), 'rev_index_pos': 3426024, 'perfect_matches': 1638319, 'both_index': 3365206}, '16': {'v1_matches': 2050596, 'time_start': datetime.datetime(2018, 6, 28, 17, 14, 26, 242879), 'full_hits_v1': 2023520, 'full_hits_v0': 1614939, 'time_align': datetime.datetime(2018, 6, 28, 17, 16, 34, 448941), 'for_index_pos': 3400716, 'cleanup': datetime.datetime(2018, 6, 28, 17, 16, 59, 643441), 'read_match_time': datetime.datetime(2018, 6, 28, 17, 16, 59, 367260), 'time_parsing': datetime.datetime(2018, 6, 28, 17, 16, 48, 9930), 'rev_index_pos': 3420240, 'perfect_matches': 1635422, 'both_index': 3357910}, '19': {'v1_matches': 2052304, 'time_start': datetime.datetime(2018, 6, 28, 17, 21, 49, 787238), 'full_hits_v1': 2025984, 'full_hits_v0': 1615339, 'time_align': datetime.datetime(2018, 6, 28, 17, 23, 46, 199518), 'for_index_pos': 3413446, 'cleanup': datetime.datetime(2018, 6, 28, 17, 24, 11, 973267), 'read_match_time': datetime.datetime(2018, 6, 28, 17, 24, 11, 680450), 'time_parsing': datetime.datetime(2018, 6, 28, 17, 24, 0, 87494), 'rev_index_pos': 3428440, 'perfect_matches': 1635103, 'both_index': 3370322}, '18': {'v1_matches': 2041348, 'time_start': datetime.datetime(2018, 6, 28, 17, 19, 27, 255786), 'full_hits_v1': 2014182, 'full_hits_v0': 1606333, 'time_align': datetime.datetime(2018, 6, 28, 17, 21, 22, 888963), 'for_index_pos': 3394726, 'cleanup': datetime.datetime(2018, 6, 28, 17, 21, 48, 146326), 'read_match_time': datetime.datetime(2018, 6, 28, 17, 21, 47, 875409), 'time_parsing': datetime.datetime(2018, 6, 28, 17, 21, 36, 392351), 'rev_index_pos': 3416058, 'perfect_matches': 1626681, 'both_index': 3349959}, '31': {'v1_matches': 2034355, 'time_start': datetime.datetime(2018, 6, 28, 17, 49, 48, 922145), 'full_hits_v1': 2006426, 'full_hits_v0': 1600179, 'time_align': datetime.datetime(2018, 6, 28, 17, 51, 43, 716159), 'for_index_pos': 3382097, 'cleanup': datetime.datetime(2018, 6, 28, 17, 52, 9, 260397), 'read_match_time': datetime.datetime(2018, 6, 28, 17, 52, 8, 974836), 'time_parsing': datetime.datetime(2018, 6, 28, 17, 51, 57, 488854), 'rev_index_pos': 3409516, 'perfect_matches': 1620653, 'both_index': 3336602}, '23': {'v1_matches': 2040384, 'time_start': datetime.datetime(2018, 6, 28, 17, 31, 15, 145965), 'full_hits_v1': 2013163, 'full_hits_v0': 1608744, 'time_align': datetime.datetime(2018, 6, 28, 17, 33, 12, 846647), 'for_index_pos': 3381125, 'cleanup': datetime.datetime(2018, 6, 28, 17, 33, 37, 916713), 'read_match_time': datetime.datetime(2018, 6, 28, 17, 33, 37, 638410), 'time_parsing': datetime.datetime(2018, 6, 28, 17, 33, 26, 313599), 'rev_index_pos': 3403943, 'perfect_matches': 1629562, 'both_index': 3339037}, '37': {'v1_matches': 2029839, 'time_start': datetime.datetime(2018, 6, 28, 18, 3, 31, 244879), 'full_hits_v1': 1999299, 'full_hits_v0': 1594417, 'time_align': datetime.datetime(2018, 6, 28, 18, 5, 26, 436198), 'for_index_pos': 3369984, 'cleanup': datetime.datetime(2018, 6, 28, 18, 5, 51, 999189), 'read_match_time': datetime.datetime(2018, 6, 28, 18, 5, 51, 736240), 'time_parsing': datetime.datetime(2018, 6, 28, 18, 5, 40, 170027), 'rev_index_pos': 3399654, 'perfect_matches': 1616699, 'both_index': 3321765}, '36': {'v1_matches': 2039007, 'time_start': datetime.datetime(2018, 6, 28, 18, 1, 8, 341970), 'full_hits_v1': 2011325, 'full_hits_v0': 1606704, 'time_align': datetime.datetime(2018, 6, 28, 18, 3, 4, 446692), 'for_index_pos': 3375992, 'cleanup': datetime.datetime(2018, 6, 28, 18, 3, 29, 686891), 'read_match_time': datetime.datetime(2018, 6, 28, 18, 3, 29, 405335), 'time_parsing': datetime.datetime(2018, 6, 28, 18, 3, 18, 225605), 'rev_index_pos': 3414141, 'perfect_matches': 1627500, 'both_index': 3335504}, '35': {'v1_matches': 2035288, 'time_start': datetime.datetime(2018, 6, 28, 17, 58, 48, 492981), 'full_hits_v1': 2007286, 'full_hits_v0': 1604579, 'time_align': datetime.datetime(2018, 6, 28, 18, 0, 41, 359622), 'for_index_pos': 3369439, 'cleanup': datetime.datetime(2018, 6, 28, 18, 1, 6, 700334), 'read_match_time': datetime.datetime(2018, 6, 28, 18, 1, 6, 404635), 'time_parsing': datetime.datetime(2018, 6, 28, 18, 0, 54, 935862), 'rev_index_pos': 3407488, 'perfect_matches': 1625626, 'both_index': 3328307}, '34': {'v1_matches': 2036294, 'time_start': datetime.datetime(2018, 6, 28, 17, 56, 29, 101415), 'full_hits_v1': 2008472, 'full_hits_v0': 1605164, 'time_align': datetime.datetime(2018, 6, 28, 17, 58, 21, 239152), 'for_index_pos': 3371945, 'cleanup': datetime.datetime(2018, 6, 28, 17, 58, 46, 867662), 'read_match_time': datetime.datetime(2018, 6, 28, 17, 58, 46, 584796), 'time_parsing': datetime.datetime(2018, 6, 28, 17, 58, 34, 886160), 'rev_index_pos': 3410709, 'perfect_matches': 1626216, 'both_index': 3330880}, '33': {'v1_matches': 2045332, 'time_start': datetime.datetime(2018, 6, 28, 17, 54, 6, 628171), 'full_hits_v1': 2018468, 'full_hits_v0': 1613873, 'time_align': datetime.datetime(2018, 6, 28, 17, 56, 2, 196915), 'for_index_pos': 3382629, 'cleanup': datetime.datetime(2018, 6, 28, 17, 56, 27, 515665), 'read_match_time': datetime.datetime(2018, 6, 28, 17, 56, 27, 233880), 'time_parsing': datetime.datetime(2018, 6, 28, 17, 56, 15, 806739), 'rev_index_pos': 3420974, 'perfect_matches': 1634173, 'both_index': 3343746}, '32': {'v1_matches': 2044161, 'time_start': datetime.datetime(2018, 6, 28, 17, 52, 10, 825139), 'full_hits_v1': 2016965, 'full_hits_v0': 1612441, 'time_align': datetime.datetime(2018, 6, 28, 17, 53, 40, 62030), 'for_index_pos': 3379044, 'cleanup': datetime.datetime(2018, 6, 28, 17, 54, 5, 50199), 'read_match_time': datetime.datetime(2018, 6, 28, 17, 54, 4, 786606), 'time_parsing': datetime.datetime(2018, 6, 28, 17, 53, 53, 576948), 'rev_index_pos': 3416047, 'perfect_matches': 1633138, 'both_index': 3339566}}"
   ]
  },
  {
   "cell_type": "code",
   "execution_count": 24,
   "metadata": {},
   "outputs": [
    {
     "name": "stdout",
     "output_type": "stream",
     "text": [
      "65405774 82297167\n"
     ]
    },
    {
     "data": {
      "text/plain": [
       "<matplotlib.axes._subplots.AxesSubplot at 0x1380596a0>"
      ]
     },
     "execution_count": 24,
     "metadata": {},
     "output_type": "execute_result"
    },
    {
     "data": {
      "image/png": "[encoded data removed]",
      "text/plain": [
       "<Figure size 576x288 with 1 Axes>"
      ]
     },
     "metadata": {},
     "output_type": "display_data"
    }
   ],
   "source": [
    "log_table_from_out = pd.DataFrame.from_dict(log_from_out, orient ='index')\n",
    "\n",
    "plt.figure(figsize = (8,4))\n",
    "\n",
    "print log_table_from_out['full_hits_v0'].sum(), log_table_from_out['full_hits_v1'].sum()\n",
    "\n",
    "log_table_from_out.boxplot(['both_index', 'v1_matches', 'perfect_matches', 'full_hits_v1', 'full_hits_v0'])\n",
    "\n"
   ]
  },
  {
   "cell_type": "code",
   "execution_count": 25,
   "metadata": {},
   "outputs": [
    {
     "name": "stdout",
     "output_type": "stream",
     "text": [
      "34031\n",
      "gal_16_B\n",
      "35225\n",
      "gal_16_B\n",
      "        slope          intercept          r_value              p_value                  std_err\n",
      "LinregressResult(slope=1.2615685373677794, intercept=-10834.982029377017, rvalue=0.9989602715722946, pvalue=1.3433783087605763e-25, stderr=0.013570267877237745)\n",
      "0.99792162418\n"
     ]
    },
    {
     "data": {
      "image/png": "[encoded data removed]",
      "text/plain": [
       "<Figure size 432x288 with 1 Axes>"
      ]
     },
     "metadata": {},
     "output_type": "display_data"
    }
   ],
   "source": [
    "print len(guide_counts_counter_dict[guide_counts_counter_dict.keys()[0]])\n",
    "print guide_counts_counter_dict.keys()[0]\n",
    "print len(guide_counts_counter_dict_v1[guide_counts_counter_dict_v1.keys()[0]])\n",
    "print guide_counts_counter_dict_v1.keys()[0]\n",
    "\n",
    "\n",
    "plt.plot([sum(guide_counts_counter_dict[x].values()) for x in lib_index_tuble_dict.keys()], [sum(guide_counts_counter_dict_v1[x].values()) for x in lib_index_tuble_dict.keys()], 'ko')\n",
    "plt.xlim(1000000, 6000000)\n",
    "plt.ylim(1000000, 6000000)\n",
    "plt.plot(range(1000000,6000000), range(1000000,6000000))\n",
    "print '        slope          intercept          r_value              p_value                  std_err'\n",
    "print scipy.stats.linregress([sum(guide_counts_counter_dict[x].values()) for x in lib_index_tuble_dict.keys()], [sum(guide_counts_counter_dict_v1[x].values()) for x in lib_index_tuble_dict.keys()])\n",
    "print 0.9989602715722948**2"
   ]
  },
  {
   "cell_type": "code",
   "execution_count": 26,
   "metadata": {
    "collapsed": true
   },
   "outputs": [],
   "source": [
    "# Sum guides counts across libraries to make mutation frequency analysis easier\n",
    "\n",
    "guide_total_counts_v0 = {}\n",
    "guide_total_counts_v1 = {}\n",
    "\n",
    "for guide in guide_list:\n",
    "    \n",
    "    guide_total_counts_v0[guide] = 0\n",
    "    guide_total_counts_v1[guide] = 0\n",
    "    \n",
    "# create empty dicts to hold the values, and then create an entry for each guide with a count of 0\n",
    "    \n",
    "for lib in lib_index_tuble_dict.keys():\n",
    "    # loops through every library\n",
    "    \n",
    "    for guide in guide_list:\n",
    "        # loops through every guide\n",
    "        \n",
    "        guide_total_counts_v0[guide] += guide_counts_counter_dict[lib][guide]\n",
    "        guide_total_counts_v1[guide] += guide_counts_counter_dict_v1[lib][guide]\n",
    "        # adds the number of counts fot a guide in a specific library to the total across all libraries\n",
    "    \n",
    "    "
   ]
  },
  {
   "cell_type": "code",
   "execution_count": 11,
   "metadata": {},
   "outputs": [
    {
     "name": "stdout",
     "output_type": "stream",
     "text": [
      "        slope          intercept          r_value              p_value                  std_err\n",
      "(1.1763520173164752, 133.99751890926336, 0.9671565857661126, 0.0, 0.0015462668825918743)\n"
     ]
    },
    {
     "data": {
      "text/plain": [
       "[<matplotlib.lines.Line2D at 0x7fbdee64bd50>]"
      ]
     },
     "execution_count": 11,
     "metadata": {},
     "output_type": "execute_result"
    },
    {
     "data": {
      "image/png": "[encoded data removed]",
      "text/plain": [
       "<matplotlib.figure.Figure at 0x7fc066d117d0>"
      ]
     },
     "metadata": {},
     "output_type": "display_data"
    }
   ],
   "source": [
    "plt.figure(figsize=(8,8))\n",
    "\n",
    "ax = [x for x in range(0,25000)]\n",
    "ay = [((x*1.17635)+ 134) for x in range(0,25000)]\n",
    "# plot a 1:1 relation, and then the regression\n",
    "\n",
    "\n",
    "plt.plot([x for x in guide_total_counts_v0.values()], [x for x in guide_total_counts_v1.values()], 'ko', ms =1)\n",
    "plt.xlabel('number of reads with 0 mismatch')\n",
    "plt.ylabel('number of reads with 1 mismatch')\n",
    "plt.xlim(0,23500)\n",
    "plt.ylim(0,23500)\n",
    "\n",
    "plt.plot(range(0,25000), range(0,25000))\n",
    "print '        slope          intercept          r_value              p_value                  std_err'\n",
    "print scipy.stats.linregress([x for x in guide_total_counts_v0.values()], [x for x in guide_total_counts_v1.values()])\n",
    "\n",
    "plt.plot(ax,ay,'r--')"
   ]
  },
  {
   "cell_type": "markdown",
   "metadata": {},
   "source": [
    "A lots of outliers, removing then will probably bring down the slope of the regression but will also both increase the r-values and reduce the std error"
   ]
  },
  {
   "cell_type": "markdown",
   "metadata": {},
   "source": [
    "## Make a Dataframe from the data"
   ]
  },
  {
   "cell_type": "code",
   "execution_count": null,
   "metadata": {
    "scrolled": true
   },
   "outputs": [],
   "source": [
    "######## DEPRECATED WAS USED BEFORE ERROR CORRECTED DATA WAS AVAILABLE\n",
    "\n",
    "df_counts_including_0_counts_v0 = {}\n",
    "df_proportion_including_0_counts_v0 = {}\n",
    "\n",
    "df_counts_including_0_counts_v1 = {}\n",
    "df_proportion_including_0_counts_v1 = {}\n",
    "\n",
    "\n",
    "for lib in guide_counts_counter_dict:\n",
    "    \n",
    "    lib_counts = {}\n",
    "    \n",
    "    lib_props = {}\n",
    "    \n",
    "    lib_counts_v1 = {}\n",
    "    \n",
    "    lib_props_v1 = {}\n",
    "    \n",
    "    for guide in guide_list:\n",
    "        \n",
    "        lib_counts[guide] = guide_counts_counter_dict[lib][guide]\n",
    "        lib_counts_v1[guide] = guide_counts_counter_dict_v1[lib][guide]\n",
    "        \n",
    "        # counts per guide for library\n",
    "        \n",
    "        \n",
    "    lib_total_reads = sum(guide_counts_counter_dict[lib].values())\n",
    "    lib_total_reads_v1 = sum(guide_counts_counter_dict_v1[lib].values())\n",
    "    # sum counts so proportions can be calculated\n",
    "\n",
    " \n",
    "    for guide in guide_list:\n",
    "        \n",
    "        prop_guide = float((guide_counts_counter_dict[lib][guide])+1.0)/lib_total_reads\n",
    "        lib_props[guide] = prop_guide\n",
    "        \n",
    "        prop_guide_v1 = float((guide_counts_counter_dict_v1[lib][guide])+1.0)/lib_total_reads_v1\n",
    "        lib_props_v1[guide] = prop_guide_v1\n",
    "        \n",
    "        # add one to counts so log conversion is always possible in downstream analysis\n",
    "        \n",
    "    df_counts_including_0_counts_v0[lib] = lib_counts\n",
    "    df_proportion_including_0_counts_v0[lib] = lib_props\n",
    "    \n",
    "    df_counts_including_0_counts_v1[lib] = lib_counts_v1\n",
    "    df_proportion_including_0_counts_v1[lib] = lib_props_v1\n",
    "    # add lib dicts to the overarching super dict\n",
    "\n",
    "        \n",
    "\n",
    "counts_df = pd.DataFrame.from_dict(df_counts_including_0_counts_v0, orient = 'columns')\n",
    "props_df = pd.DataFrame.from_dict(df_proportion_including_0_counts_v0, orient ='columns')\n",
    "\n",
    "counts_df_v1 = pd.DataFrame.from_dict(df_counts_including_0_counts_v1, orient = 'columns')\n",
    "props_df_v1 = pd.DataFrame.from_dict(df_proportion_including_0_counts_v1, orient ='columns')\n",
    "# convert superdicts to dataframes\n",
    "\n",
    "\n",
    "#print counts_df.head(10)\n",
    "#print props_df.head(10)\n",
    "\n",
    "#print counts_df_v1.head(10)\n",
    "#print props_df_v1.head(10)\n",
    "\n",
    "#counts_df.to_csv('./full_guide_counts.csv')\n",
    "#props_df.to_csv('./full_guide_props.csv')\n",
    "\n",
    "counts_df_v1.to_csv('./full_guide_counts_v1.csv')\n",
    "props_df_v1.to_csv('./full_guide_props_v1.csv')"
   ]
  },
  {
   "cell_type": "code",
   "execution_count": 13,
   "metadata": {},
   "outputs": [
    {
     "data": {
      "text/plain": [
       "(0, 0.0006)"
      ]
     },
     "execution_count": 13,
     "metadata": {},
     "output_type": "execute_result"
    },
    {
     "data": {
      "image/png": "[encoded data removed]",
      "text/plain": [
       "<matplotlib.figure.Figure at 0x7fbfa2a6ba50>"
      ]
     },
     "metadata": {},
     "output_type": "display_data"
    }
   ],
   "source": [
    "count_sum_v0 = [sum(counts_df.loc[x]) for x in counts_df.index]\n",
    "count_sum_v1 = [sum(counts_df_v1.loc[x]) for x in counts_df_v1.index if sum(counts_df_v1.loc[x]) > 0]\n",
    "\n",
    "\n",
    "plt.figure(figsize=(10,8))\n",
    "plt.subplot(211)\n",
    "plt.hist(count_sum_v0, bins = 50, density=True)\n",
    "plt.xlim(0,20000)\n",
    "plt.ylim(0,0.0006)\n",
    "\n",
    "plt.subplot(212)\n",
    "plt.hist(count_sum_v1, bins = 50, density=True)\n",
    "plt.xlim(0,20000)\n",
    "plt.ylim(0,0.0006)\n",
    "\n"
   ]
  },
  {
   "cell_type": "code",
   "execution_count": 14,
   "metadata": {},
   "outputs": [
    {
     "name": "stdout",
     "output_type": "stream",
     "text": [
      "2450.0 1.1003504147814513 0.0\n"
     ]
    },
    {
     "data": {
      "text/plain": [
       "(0, 3)"
      ]
     },
     "execution_count": 14,
     "metadata": {},
     "output_type": "execute_result"
    },
    {
     "data": {
      "image/png": "[encoded data removed]",
      "text/plain": [
       "<matplotlib.figure.Figure at 0x7fbfaf3518d0>"
      ]
     },
     "metadata": {},
     "output_type": "display_data"
    }
   ],
   "source": [
    "both_v0_and_v1 = set(counts_df.index) & set(counts_df_v1.index)\n",
    "\n",
    "diff_v1_v0 = [((sum(counts_df_v1.loc[x]))/(sum(counts_df.loc[x])+1.0)) for x in both_v0_and_v1]\n",
    "\n",
    "print max(diff_v1_v0), np.median(diff_v1_v0), min(diff_v1_v0)\n",
    "\n",
    "plt.boxplot(diff_v1_v0)\n",
    "plt.ylim(0,3)"
   ]
  },
  {
   "cell_type": "code",
   "execution_count": 15,
   "metadata": {},
   "outputs": [
    {
     "name": "stdout",
     "output_type": "stream",
     "text": [
      "7635\n",
      "591\n",
      "['chrIII_110248r', 'chrIII_131077r', 'chrIII_137929', 'chrIII_210916', 'chrIII_210940r', 'chrIII_215700r', 'chrIII_219487', 'chrIII_221146', 'chrIII_222399', 'chrIII_23346r']\n"
     ]
    },
    {
     "data": {
      "image/png": "[encoded data removed]",
      "text/plain": [
       "<matplotlib.figure.Figure at 0x7fc028c11ed0>"
      ]
     },
     "metadata": {},
     "output_type": "display_data"
    }
   ],
   "source": [
    "from_near_0 = [x for x in counts_df.index if sum(counts_df.loc[x]) < 200]\n",
    "print len(from_near_0)\n",
    "\n",
    "plt.hist([sum(counts_df_v1.loc[x]) for x in from_near_0 if x in both_v0_and_v1])\n",
    "\n",
    "to_over_1000 = [x for x in from_near_0 if sum(counts_df_v1.loc[x]) >= 500]\n",
    "print len(to_over_1000)\n",
    "\n",
    "print to_over_1000[0:10]\n"
   ]
  },
  {
   "cell_type": "markdown",
   "metadata": {},
   "source": [
    "## Get a summary of mismatches across all libraries"
   ]
  },
  {
   "cell_type": "code",
   "execution_count": 7,
   "metadata": {
    "collapsed": true
   },
   "outputs": [],
   "source": [
    "def count_error_types(guide):\n",
    "    # build a Counter object for each guide that summarizes the distribution of errors in alignment across all \n",
    "    # different timepoints. Takes a guides name (ex.: 'chrIII_110248r') that serves as an index in the chip table \n",
    "    # as input\n",
    "    \n",
    "    \n",
    "    guide_mismatch_counter = Counter()\n",
    "    # the Counter object for the guide\n",
    "    \n",
    "    for lib in lib_index_tuble_dict.keys():\n",
    "        # loops through all the timepoints\n",
    "    \n",
    "            mismatch_pattern = guide_mismatch_dict[lib][guide]\n",
    "            # gets the list of mismatch patterns for that guide a at a specific timepoint\n",
    "            #print lib, mismatch_pattern\n",
    "            # deprecated (for debug)\n",
    "\n",
    "            for x in mismatch_pattern:\n",
    "                # loops through the mismatch patterns stored as list\n",
    "\n",
    "                if x == []:                   \n",
    "                    guide_mismatch_counter['ok'] += 1\n",
    "                    # if the object is an empty list, the alignment was perfect. Add one to the perfect alignment \n",
    "                    # count, which will have 'ok' as a key.\n",
    "\n",
    "                else:\n",
    "                    guide_mismatch_counter[x] += 1\n",
    "                    # else add one to the count of that specific mismatch. The mismatch as outputed by bowtie will\n",
    "                    # serve as key\n",
    "\n",
    "\n",
    "    return guide_mismatch_counter\n",
    "    # returns the mismatch counter for the guide\n",
    "\n",
    "#print sorted(count_error_types('chrIII_110248r').values(), reverse=True)\n",
    "\n"
   ]
  },
  {
   "cell_type": "code",
   "execution_count": 8,
   "metadata": {},
   "outputs": [
    {
     "name": "stdout",
     "output_type": "stream",
     "text": [
      "Counter({'ok': 3566, '3:T>C': 518, '15:T>C': 115, '2:T>C': 17, '7:C>A': 6, '1:C>A': 5, '16:C>A': 5, '4:C>A': 5, '22:G>T': 4, '1:C>T': 4, '14:T>C': 4, '5:T>G': 4, '9:G>T': 4, '0:T>A': 3, '18:C>T': 3, '14:A>T': 3, '6:A>T': 3, '2:A>T': 2, '22:G>A': 2, '16:C>G': 2, '12:A>C': 2, '6:A>C': 2, '19:C>T': 2, '17:T>C': 2, '12:A>T': 2, '18:C>G': 2, '18:C>A': 2, '11:A>T': 2, '9:G>C': 2, '5:T>A': 2, '5:T>C': 2, '7:C>G': 2, '19:C>A': 2, '23:T>G': 2, '7:C>T': 2, '20:T>A': 1, '20:T>C': 1, '16:C>T': 1, '0:T>G': 1, '2:A>C': 1, '12:A>G': 1, '23:T>A': 1, '6:A>G': 1, '14:A>G': 1, '1:T>C': 1, '11:A>G': 1, '4:C>G': 1, '10:A>C': 1, '4:C>T': 1, '3:T>G': 1, '10:A>G': 1, '3:T>A': 1, '23:T>C': 1, '0:T>C': 1, '13:T>C': 1})\n"
     ]
    }
   ],
   "source": [
    "all_guides_error_counter_dict = {}\n",
    "\n",
    "for guide in guide_list:\n",
    "    \n",
    "    all_guides_error_counter_dict[guide] = count_error_types(guide)\n",
    "    \n",
    "print all_guides_error_counter_dict['chrIV_1020983']"
   ]
  },
  {
   "cell_type": "markdown",
   "metadata": {},
   "source": [
    "# evaluate biases in errors"
   ]
  },
  {
   "cell_type": "code",
   "execution_count": 9,
   "metadata": {
    "collapsed": true
   },
   "outputs": [],
   "source": [
    "mut_pos_heat_dict_for_df = {}\n",
    "# super dict that will be used to store rows\n",
    "\n",
    "mut_pos = range(0,24)\n",
    "# the number of nt in the sequence selected for alignment\n",
    "\n",
    "for x in mut_pos:\n",
    "    \n",
    "    mut_pos_heat_dict_for_df[x] = Counter()\n",
    "    # loop through error position and create a counter for each position\n",
    "    \n",
    "for x in guide_mismatch_dict.keys():\n",
    "       \n",
    "    for y in guide_mismatch_dict[x]:\n",
    "        # loops trhough all guides in all libs\n",
    "        \n",
    "        for z in guide_mismatch_dict[x][y]:\n",
    "        \n",
    "            if z != []:\n",
    "                # loops trhough error entries and skip empty ones\n",
    "\n",
    "                info = z.split(':')\n",
    "                error_pos = int(info[0])\n",
    "                error_type = info[1]\n",
    "                # split error info in two and extract both the error positions ans the error itself\n",
    "\n",
    "                mut_pos_heat_dict_for_df[error_pos][error_type] += 1\n",
    "                # increase the count for a specifi error at a specific position in the guide by one\n"
   ]
  },
  {
   "cell_type": "code",
   "execution_count": 10,
   "metadata": {},
   "outputs": [
    {
     "data": {
      "image/png": "[encoded data removed]",
      "text/plain": [
       "<Figure size 648x360 with 2 Axes>"
      ]
     },
     "metadata": {},
     "output_type": "display_data"
    }
   ],
   "source": [
    "mut_pos_heat_df = pd.DataFrame.from_dict(mut_pos_heat_dict_for_df).apply(np.log10)\n",
    "\n",
    "plt.figure(figsize = (9,5))\n",
    "\n",
    "with sns.axes_style('dark'):\n",
    "    sns.heatmap(mut_pos_heat_df, cmap = 'viridis', mask=mut_pos_heat_df.isnull())"
   ]
  },
  {
   "cell_type": "code",
   "execution_count": 29,
   "metadata": {},
   "outputs": [
    {
     "name": "stdout",
     "output_type": "stream",
     "text": [
      "['3:T>C']\n",
      "[['12:T>C'], [], [], [], [], [], [], [], [], ['16:A>T'], [], ['2:A>C', '5:T>C'], ['16:T>C', '3:T>C'], [], []]\n",
      "1032\n"
     ]
    }
   ],
   "source": [
    "\n",
    "patterns_over_threshold = {}\n",
    "# a dict that will hold the mismatch patterns over the relative abundance threshold vs the 0 mismatch read for all guides\n",
    "\n",
    "all_guides_error_counter_dict = {}\n",
    "# a dict that will hold the ouput of the count_error_type function applied to all the guides\n",
    "\n",
    "for guide in guide_list:\n",
    "    \n",
    "    all_guides_error_counter_dict[guide] = count_error_types(guide)\n",
    "    # loops through every count and sums the error and 0-mismatch counts across all libraries.\n",
    "    \n",
    "invalid_guides = []\n",
    "# guides with no 0-mismatch alignments\n",
    "\n",
    "patterns_as_ref = {}\n",
    "# guide: pattern dict that holds the mismatch patterns abundant enough to be used as neutral in the abundance analysis\n",
    "\n",
    "candidates = 0\n",
    "# number of erroneous mismatches that fit the criteria\n",
    "\n",
    "\n",
    "######## this part calculates error rates based on mutation patterns of guides across the whole library\n",
    "for guide, counter in all_guides_error_counter_dict.iteritems():\n",
    "    \n",
    "    #if guide == 'chrIV_1020983':\n",
    "        # deprecated, used for qc\n",
    "\n",
    "    ok_count = counter['ok']\n",
    "\n",
    "    patterns_over_threshold_list = []\n",
    "    \n",
    "    patterns_as_ref_list = []\n",
    "\n",
    "    if ok_count != 0:\n",
    "\n",
    "        for pattern, count in counter.iteritems():\n",
    "\n",
    "            if pattern != 'ok':\n",
    "\n",
    "                if count*1.0/ok_count > 0.075:\n",
    "\n",
    "                    patterns_over_threshold_list.append(pattern)\n",
    "                    \n",
    "                    if count >= 1000:\n",
    "                        \n",
    "                        pattern_info = pattern.split(':')\n",
    "                        \n",
    "                        if int(pattern_info[0]) in [14,15,16,17,18,19,20]:\n",
    "\n",
    "                            candidates += 1\n",
    "                            patterns_as_ref_list.append(pattern)\n",
    "\n",
    "                    \n",
    "    if ok_count == 0:\n",
    "        \n",
    "        invalid_guides.append(guide)\n",
    "        \n",
    "        for pattern, count in counter.iteritems():\n",
    "        \n",
    "            if count >= 1000:\n",
    "                        \n",
    "                pattern_info = pattern.split(':')\n",
    "\n",
    "                if int(pattern_info[0]) in [14,15,16,17,18,19,20]:\n",
    "\n",
    "                    candidates += 1\n",
    "                    patterns_as_ref_list.append(pattern)\n",
    "\n",
    "        \n",
    "    patterns_as_ref[guide] = patterns_as_ref_list\n",
    "    patterns_over_threshold[guide] = patterns_over_threshold_list\n",
    "\n",
    "        \n",
    "print patterns_over_threshold['chrIV_1020983']\n",
    "print patterns_over_threshold.values()[0:15]\n",
    "print candidates"
   ]
  },
  {
   "cell_type": "code",
   "execution_count": 30,
   "metadata": {},
   "outputs": [
    {
     "name": "stdout",
     "output_type": "stream",
     "text": [
      "[('chrII_230082', []), ('chrVII_321800', []), ('chrXV_565000r', []), ('chrIII_222226r', []), ('chrIV_609529r', []), ('chrXIV_701982r', []), ('chrIV_490093', []), ('chrIV_129169', []), ('chrXIV_199720r', []), ('chrVII_514873r', [])]\n"
     ]
    }
   ],
   "source": [
    "print patterns_as_ref.items()[0:10]"
   ]
  },
  {
   "cell_type": "code",
   "execution_count": 31,
   "metadata": {},
   "outputs": [
    {
     "name": "stdout",
     "output_type": "stream",
     "text": [
      "140\n",
      "Counter({'[]': 117, '3:T>C': 17, '15:T>C': 3, '20:T>A': 1, '2:T>C': 1, '9:G>T': 1})\n"
     ]
    }
   ],
   "source": [
    "print len(guide_mismatch_dict['gal_16_B']['chrIV_1020983'])\n",
    "\n",
    "\n",
    "cnt = Counter()\n",
    "\n",
    "for x in guide_mismatch_dict['gal_16_B']['chrIV_1020983']:\n",
    "    \n",
    "    \n",
    "    cnt[str(x)] += 1\n",
    "    \n",
    "print cnt\n",
    "\n",
    "\n"
   ]
  },
  {
   "cell_type": "code",
   "execution_count": null,
   "metadata": {
    "collapsed": true
   },
   "outputs": [],
   "source": []
  },
  {
   "cell_type": "code",
   "execution_count": null,
   "metadata": {},
   "outputs": [],
   "source": [
    "guide_count_copy = {}\n",
    "\n",
    "\n",
    "for x in lib_index_tuble_dict.keys():\n",
    "    \n",
    "    guide_count_copy[x] = {}\n",
    "    \n",
    "\n",
    "    \n",
    "print guide_count_copy.keys()\n",
    "\n",
    "guide_counts_removed = []\n",
    "\n",
    "for lib in guide_count_copy.keys():\n",
    "    \n",
    "    for guide in guide_list:\n",
    "    \n",
    "\n",
    "        original_count = guide_counts_counter_dict_v1[lib][guide]\n",
    "\n",
    "       \n",
    "        number_of_counts_to_to_be_removed = 0\n",
    "        pattern_count = 0\n",
    "        \n",
    "        if patterns_over_threshold[guide] != []:\n",
    "            \n",
    "            if patterns_as_ref[guide] != []:\n",
    "                \n",
    "                abundant_patterns = patterns_as_ref[guide]\n",
    "                \n",
    "                for mutation in abundant_patterns:\n",
    "                    \n",
    "                    new_guide_name = guide+'|'+mutation\n",
    "                    \n",
    "                    guide_count_copy[lib][new_guide_name] = guide_mismatch_dict[lib][guide].count(mutation)\n",
    "                \n",
    "            \n",
    "            for pattern in patterns_over_threshold[guide]:\n",
    "                \n",
    "                pattern_count = guide_mismatch_dict[lib][guide].count(pattern)\n",
    "\n",
    "                number_of_counts_to_to_be_removed = number_of_counts_to_to_be_removed + pattern_count\n",
    "\n",
    "\n",
    "            guide_count_copy[lib][guide] = original_count - number_of_counts_to_to_be_removed\n",
    "            \n",
    "            \n",
    "        elif guide in invalid_guides:\n",
    "            guide_count_copy[lib][guide] = 0\n",
    "            \n",
    "            if patterns_as_ref[guide] != []:\n",
    "                \n",
    "                abundant_patterns = patterns_as_ref[guide]\n",
    "                \n",
    "                for mutation in abundant_patterns:\n",
    "                    \n",
    "                    new_guide_name = guide+'|'+mutation\n",
    "                    \n",
    "                    guide_count_copy[lib][new_guide_name] = guide_mismatch_dict[lib][guide].count(mutation)\n",
    "\n",
    "        else:\n",
    "            guide_count_copy[lib][guide] = original_count\n",
    "            \n",
    "\n",
    "        guide_counts_removed.append(number_of_counts_to_to_be_removed)\n",
    "\n",
    "        if len(guide_counts_removed) % 200000 == 0:\n",
    "\n",
    "            print len(guide_counts_removed)\n",
    "            print time.now()\n",
    "\n",
    "\n",
    "\n",
    "print guide_count_copy['gal_16_B']['chrIV_1020983']\n",
    "print guide_counts_counter_dict_v1['gal_16_B']['chrIV_1020983']\n",
    "print guide_counts_counter_dict['gal_16_B']['chrIV_1020983']"
   ]
  },
  {
   "cell_type": "code",
   "execution_count": 33,
   "metadata": {
    "scrolled": true
   },
   "outputs": [
    {
     "name": "stdout",
     "output_type": "stream",
     "text": [
      "41010\n"
     ]
    }
   ],
   "source": [
    "print len(guide_count_copy['gal_16_B'].keys())"
   ]
  },
  {
   "cell_type": "code",
   "execution_count": 34,
   "metadata": {},
   "outputs": [
    {
     "data": {
      "text/plain": [
       "5"
      ]
     },
     "execution_count": 34,
     "metadata": {},
     "output_type": "execute_result"
    }
   ],
   "source": [
    "a = [1,1,1,1,1,2,3,3,3]\n",
    "a.count(1)"
   ]
  },
  {
   "cell_type": "code",
   "execution_count": 35,
   "metadata": {},
   "outputs": [
    {
     "data": {
      "text/plain": [
       "11914239"
      ]
     },
     "execution_count": 35,
     "metadata": {},
     "output_type": "execute_result"
    }
   ],
   "source": [
    "sum(guide_counts_removed)"
   ]
  },
  {
   "cell_type": "code",
   "execution_count": 36,
   "metadata": {},
   "outputs": [
    {
     "data": {
      "text/plain": [
       "(array([7.81231e+05, 1.58620e+04, 1.98300e+03, 3.64000e+02, 7.20000e+01,\n",
       "        2.70000e+01, 1.20000e+01, 6.00000e+00, 2.00000e+00, 1.00000e+00]),\n",
       " array([   0.,  123.,  246.,  369.,  492.,  615.,  738.,  861.,  984.,\n",
       "        1107., 1230.]),\n",
       " <a list of 10 Patch objects>)"
      ]
     },
     "execution_count": 36,
     "metadata": {},
     "output_type": "execute_result"
    },
    {
     "data": {
      "image/png": "[encoded data removed]",
      "text/plain": [
       "<Figure size 432x288 with 1 Axes>"
      ]
     },
     "metadata": {},
     "output_type": "display_data"
    }
   ],
   "source": [
    "plt.hist(guide_counts_removed, log=True)"
   ]
  },
  {
   "cell_type": "code",
   "execution_count": 37,
   "metadata": {},
   "outputs": [
    {
     "data": {
      "text/plain": [
       "(array([2.8819e+04, 7.5160e+03, 2.3700e+03, 7.8400e+02, 3.2400e+02,\n",
       "        9.2000e+01, 5.0000e+01, 1.7000e+01, 5.0000e+00, 1.0000e+00]),\n",
       " array([    0. ,  2238.9,  4477.8,  6716.7,  8955.6, 11194.5, 13433.4,\n",
       "        15672.3, 17911.2, 20150.1, 22389. ]),\n",
       " <a list of 10 Patch objects>)"
      ]
     },
     "execution_count": 37,
     "metadata": {},
     "output_type": "execute_result"
    },
    {
     "data": {
      "image/png": "[encoded data removed]",
      "text/plain": [
       "<Figure size 432x288 with 1 Axes>"
      ]
     },
     "metadata": {},
     "output_type": "display_data"
    }
   ],
   "source": [
    "improved_v1_counts = Counter()\n",
    "\n",
    "for lib in guide_count_copy.keys():\n",
    "    \n",
    "    for guide in guide_list:\n",
    "        improved_v1_counts[guide] += guide_count_copy[lib][guide]\n",
    "        \n",
    "len(improved_v1_counts)\n",
    "len(guide_total_counts_v1.values())\n",
    "\n",
    "plt.hist(improved_v1_counts.values(), log=True)"
   ]
  },
  {
   "cell_type": "code",
   "execution_count": 38,
   "metadata": {},
   "outputs": [
    {
     "name": "stdout",
     "output_type": "stream",
     "text": [
      "LinregressResult(slope=1.097398431316117, intercept=-38.14750079084661, rvalue=0.9980669051929331, pvalue=0.0, stderr=0.0003417720961754421)\n"
     ]
    },
    {
     "data": {
      "text/plain": [
       "[<matplotlib.lines.Line2D at 0x51fde550>]"
      ]
     },
     "execution_count": 38,
     "metadata": {},
     "output_type": "execute_result"
    },
    {
     "data": {
      "text/plain": [
       "<Figure size 576x576 with 0 Axes>"
      ]
     },
     "metadata": {},
     "output_type": "display_data"
    },
    {
     "data": {
      "image/png": "[encoded data removed]",
      "text/plain": [
       "<Figure size 504x504 with 1 Axes>"
      ]
     },
     "metadata": {},
     "output_type": "display_data"
    }
   ],
   "source": [
    "plt.figure(figsize = (8,8))\n",
    "\n",
    "ax = [x for x in range(0,25000)]\n",
    "ay = [((x*1.1138094) -39) for x in range(0,25000)]\n",
    "\n",
    "plt.figure(figsize = (7,7))\n",
    "\n",
    "\n",
    "plt.plot([x for x in guide_total_counts_v0.values()], [x for x in improved_v1_counts.values()], 'ko', ms =1)\n",
    "plt.xlabel('number of reads with 0 mismatch')\n",
    "plt.ylabel('number of reads with 1 mismatch')\n",
    "plt.xlim(0,23500)\n",
    "plt.ylim(0,23500)\n",
    "\n",
    "plt.plot(range(0,25000), range(0,25000))\n",
    "#print '        slope          intercept          r_value              p_value                  std_err'\n",
    "print scipy.stats.linregress([x for x in guide_total_counts_v0.values()], [x for x in improved_v1_counts.values()])\n",
    "\n",
    "plt.plot(ax,ay,'r--')"
   ]
  },
  {
   "cell_type": "code",
   "execution_count": null,
   "metadata": {
    "collapsed": true
   },
   "outputs": [],
   "source": [
    "# regression stats based on diff thresholds:\n",
    "# 0.25  (1.1713450856519316, -44.941691634421204, 0.9905388223794764, 0.0, 0.0008116552722715116)\n",
    "# 0.20  (1.1585136255972484, -49.040881778334324, 0.9927578364849166, 0.0, 0.0007011639513566459)\n",
    "# 0.15  (1.1408957656081873, -49.83820108374789, 0.9948688229896478, 0.0, 0.0005802914192094174)\n",
    "# 0.10  (1.1154147843434998, -45.320058557949096, 0.9969554145303963, 0.0, 0.0004363241601926746)\n",
    "# 0.075 (1.0973984313160996, -38.14750079081841, 0.9980669051929439, 0.0, 0.00034177209617447025)\n",
    "# 0.05  (1.0773149385749812, -28.70347189101767, 0.9989784645879147, 0.0, 0.00024373486579271818)\n",
    "# 0.025 (1.0520480474341376, -12.720867167404322, 0.9997194920196643, 0.0, 0.00012465649087051216)"
   ]
  },
  {
   "cell_type": "code",
   "execution_count": null,
   "metadata": {
    "collapsed": true
   },
   "outputs": [],
   "source": [
    "df_counts_v1_corr = {}\n",
    "df_proportion_v1_corr = {}\n",
    "\n",
    "\n",
    "for lib in lib_index_tuble_dict.keys():\n",
    "\n",
    "    lib_counts_v1_corr = {}\n",
    "    \n",
    "    lib_props_v1_corr = {}\n",
    "    \n",
    "    for guide in guide_count_copy[lib].keys():\n",
    "        \n",
    "        lib_counts_v1_corr[guide] = guide_count_copy[lib][guide]\n",
    "        \n",
    "        \n",
    "        \n",
    "    lib_total_reads = sum(guide_count_copy[lib].values())\n",
    " \n",
    "    for guide in guide_count_copy[lib].keys():\n",
    "        \n",
    "        prop_guide = float((guide_count_copy[lib][guide])+1.0)/lib_total_reads\n",
    "        lib_props_v1_corr[guide] = prop_guide\n",
    "        \n",
    "        \n",
    "    df_counts_v1_corr[lib] = lib_counts_v1_corr\n",
    "    df_proportion_v1_corr[lib] = lib_props_v1_corr\n",
    "\n",
    "\n",
    "counts_v1_corr = pd.DataFrame.from_dict(df_counts_v1_corr, orient = 'columns')\n",
    "proportion_v1_corr = pd.DataFrame.from_dict(df_proportion_v1_corr, orient ='columns')"
   ]
  },
  {
   "cell_type": "code",
   "execution_count": null,
   "metadata": {
    "collapsed": true
   },
   "outputs": [],
   "source": [
    "counts_v1_corr.loc['chrIII_110248r|20:C>T']\n"
   ]
  },
  {
   "cell_type": "code",
   "execution_count": null,
   "metadata": {
    "collapsed": true
   },
   "outputs": [],
   "source": [
    "counts_v1_corr.to_csv('./full_guide_counts_v1_corr.csv')\n",
    "proportion_v1_corr.to_csv('./full_guide_props_v1_corr.csv')"
   ]
  }
 ],
 "metadata": {
  "kernelspec": {
   "display_name": "Python 2",
   "language": "python",
   "name": "python2"
  },
  "language_info": {
   "codemirror_mode": {
    "name": "ipython",
    "version": 2
   },
   "file_extension": ".py",
   "mimetype": "text/x-python",
   "name": "python",
   "nbconvert_exporter": "python",
   "pygments_lexer": "ipython2",
   "version": "2.7.6"
  }
 },
 "nbformat": 4,
 "nbformat_minor": 2
}
