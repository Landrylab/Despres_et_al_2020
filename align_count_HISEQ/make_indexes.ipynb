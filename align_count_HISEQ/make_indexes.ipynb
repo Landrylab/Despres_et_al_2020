{
 "cells": [
  {
   "cell_type": "markdown",
   "metadata": {},
   "source": [
    "## Import modules and relevant files"
   ]
  },
  {
   "cell_type": "code",
   "execution_count": 1,
   "metadata": {},
   "outputs": [
    {
     "name": "stdout",
     "output_type": "stream",
     "text": [
      "importing modules  \n"
     ]
    }
   ],
   "source": [
    "print 'importing modules  '\n",
    "import os\n",
    "import subprocess\n",
    "from datetime import datetime as time\n",
    "import pandas as pd\n",
    "import matplotlib.pyplot as plt\n",
    "from collections import Counter\n",
    "import numpy as np\n",
    "import scipy.stats as stats\n",
    "\n",
    "\n",
    "from Bio.Seq import Seq\n",
    "\n",
    "%matplotlib inline\n",
    "\n",
    "\n"
   ]
  },
  {
   "cell_type": "markdown",
   "metadata": {},
   "source": [
    "## Extracting universal sequences and barcodes from the reference files"
   ]
  },
  {
   "cell_type": "code",
   "execution_count": null,
   "metadata": {},
   "outputs": [],
   "source": [
    "\n",
    "        "
   ]
  },
  {
   "cell_type": "markdown",
   "metadata": {},
   "source": [
    "## Creating a super contig"
   ]
  },
  {
   "cell_type": "markdown",
   "metadata": {},
   "source": [
    "## Generate a FastQC report based on the fastq.gz file"
   ]
  },
  {
   "cell_type": "code",
   "execution_count": null,
   "metadata": {},
   "outputs": [],
   "source": []
  },
  {
   "cell_type": "markdown",
   "metadata": {
    "collapsed": true
   },
   "source": [
    "Ran Fastqc using command line, everything looks fine. Note to myself: illumina gives the shitty reads first in the fastq file so it's ok if the first few 100s reads are mostly N. The fastqc report is on point. Now to align my barcodes!\n",
    "\n",
    "HTML reports for both end reads in their respective folders"
   ]
  },
  {
   "cell_type": "markdown",
   "metadata": {
    "collapsed": true
   },
   "source": [
    "## Index sequences"
   ]
  },
  {
   "cell_type": "code",
   "execution_count": 2,
   "metadata": {},
   "outputs": [
    {
     "name": "stdout",
     "output_type": "stream",
     "text": [
      "{'24': 'TAGTGGCCA', '20': 'TATCGTGCC', '21': 'TCCTGGTAT', '22': 'GGCAGAGGA', '23': 'ACAATGGAG', '1': 'CAAGTGTTC', '3': 'CACTAATGG', '2': 'AGGACATTC', '5': 'TTACGCTAA', '4': 'AGCCTGATG', '7': 'GTCGATGCA', '6': 'ACTCTCCGT', '9': 'CGCGCCCAG', '8': 'ACGGGAATT', '11': 'AGTATTACA', '10': 'ACTAGTTTG', '13': 'GTGAACCGA', '12': 'AGGTTGGGT', '15': 'CTGTCTTCG', '14': 'GCACAAAAC', '17': 'CAGCCCATA', '16': 'GACGCGACT', '19': 'AATACGCAC', '18': 'AGATATCTG'}\n"
     ]
    }
   ],
   "source": [
    "yachie_lib_indexes = './yachie_lab_indexes.csv'\n",
    "\n",
    "index_seq_dict = {}\n",
    "\n",
    "with open(yachie_lib_indexes, 'r') as source:\n",
    "    \n",
    "    for line in source:\n",
    "        \n",
    "        line = line.strip('\\n').strip('Index_')\n",
    "        line = line.split(',')\n",
    "        \n",
    "        index_number = line[0]\n",
    "        index_seq = line[1]\n",
    "        \n",
    "        index_seq_dict[index_number] = index_seq\n",
    "       \n",
    "        \n",
    "print index_seq_dict"
   ]
  },
  {
   "cell_type": "markdown",
   "metadata": {},
   "source": [
    "## Library index dispatch"
   ]
  },
  {
   "cell_type": "code",
   "execution_count": 4,
   "metadata": {},
   "outputs": [
    {
     "name": "stdout",
     "output_type": "stream",
     "text": [
      "{'gal_16_B': ('16', '8'), 'gal_16_A': ('15', '8'), 'DSUR2_16_A': ('15', '14'), 'mock_16_A': ('15', '9'), 'mock_16_B': ('16', '9'), 'DSUR1_16_A': ('15', '12'), 'DSUR1_16_B': ('16', '12'), 'DS_16_A': ('15', '10'), 'DS_16_B': ('16', '10'), 'glu_16_A': ('15', '6'), 'glu_16_B': ('16', '6'), 'gly_16_A': ('15', '7'), 'DSUR2_16_B': ('16', '14'), 'gly_16_B': ('16', '7')}\n"
     ]
    }
   ],
   "source": [
    "index_to_library_mapping = './run_library_indexes_revised.csv'\n",
    "\n",
    "lib_index_tuble_dict = {}\n",
    "lib_index_by_tuple = {}\n",
    "\n",
    "\n",
    "with open(index_to_library_mapping, 'r') as source:\n",
    "    \n",
    "    next(source)\n",
    "    \n",
    "    for line in source:\n",
    "        \n",
    "        line = line.strip('\\n').strip('\\r')\n",
    "        line = line.split(',')\n",
    "        \n",
    "        lib_name = line[0]\n",
    "        \n",
    "        P1 = line[1]\n",
    "        P2 = line[2]\n",
    "        \n",
    "        lib_tuple = tuple((P1,P2))\n",
    "        \n",
    "        lib_index_tuble_dict[lib_name] = lib_tuple\n",
    "        lib_index_by_tuple[lib_tuple] = lib_name\n",
    "        \n",
    "print lib_index_tuble_dict\n",
    " \n",
    "\n"
   ]
  },
  {
   "cell_type": "markdown",
   "metadata": {},
   "source": [
    "# sequences for indexes and guide alignment"
   ]
  },
  {
   "cell_type": "code",
   "execution_count": 5,
   "metadata": {},
   "outputs": [],
   "source": [
    "# amplicon\n",
    "# NNNNN CAAGTGTTC TAACTTACGGAGTCGCTCTACG ATGTTTCGGCGTTCGAAACTTCTCCGCAGTGAAAGATAAATGATC NNNNNNNNNNNNNNNNNNNN GTTTTAGAGCTAGAAATAGCAAGTTAAAATAAGGCTAGTCCGTTATCAACTTGAAAAAGTGGCACCGAGTCGGTGGTGCTTTTTTTGTTTTTTATGTCTTCGAGGCAAATTAAAGCCTTCGCAGGACCTAAAGAATCCCATCC GAACACTTG NNNNN\n",
    "# degen index BC          PS1.0                            SNR52for                           guide                                    Sup4 term                                                                                                             P2 index   degen\n",
    "\n",
    "\n",
    "for_adapter_end = 'GCTCTTCCGATCT'\n",
    "# few nts before degen\n",
    "\n",
    "degen_seq = 'AAAAA'\n",
    "#bowtie1 cannot handle Ns, so I convert them to As\n",
    "\n",
    "# P1 index seq\n",
    "\n",
    "PS1_snr52for = 'TAACTTACGGAGTCGCTCTACGATGTTTCGGCGTTCGAAACTTCTCCGCAGTGAAAGATAAATGATC'\n",
    "\n",
    "# guide\n",
    "\n",
    "Sup4_termPS2 = 'GTTTTAGAGCTAGAAATAGCAAGTTAAAATAAGGCTAGTCCGTTATCAACTTGAAAAAGTGGCACCGAGTCGGTGGTGCTTTTTTTGTTTTTTATGTCTTCGAGGCAAATTAAAGCCTTCGCAGGACCTAAAGAATCCCATCC'\n",
    "\n",
    "# P2 index (RC)\n",
    "\n",
    "# degen seq\n",
    "\n",
    "rev_adapter_start = 'AGATCGGAAGAG'\n",
    "\n",
    "\n",
    "guide_sequences = './chip_table_with_muts.tsv' \n",
    "\n",
    "\n",
    "all_by_all_fasta_file = './all_by_all_amplicon.fasta'\n",
    "\n",
    "name = 'noDS_16_A'\n",
    "\n",
    "     \n"
   ]
  },
  {
   "cell_type": "markdown",
   "metadata": {},
   "source": [
    "# Fasta files for indexes"
   ]
  },
  {
   "cell_type": "code",
   "execution_count": 6,
   "metadata": {},
   "outputs": [],
   "source": [
    "for_indexes = './for_indexes.fa'\n",
    "rev_indexes = './rev_indexes.fa'\n",
    "\n",
    "\n",
    "for_wseq = []\n",
    "\n",
    "with open(for_indexes, 'w') as output:\n",
    "    \n",
    "    for library in lib_index_tuble_dict.keys():\n",
    "\n",
    "        indexes = lib_index_tuble_dict[library]\n",
    "\n",
    "        P1 = index_seq_dict[indexes[0]]\n",
    "        \n",
    "        if P1 not in for_wseq:\n",
    "        \n",
    "            fasta_header = '>'+ str(indexes[0]) + '\\n'\n",
    "            fasta_seq =  degen_seq + P1 + PS1_snr52for[:30] + '\\n'\n",
    "\n",
    "            output.write(fasta_header)\n",
    "            output.write(fasta_seq)\n",
    "            \n",
    "            for_wseq.append(P1)\n",
    "\n",
    "rev_wseq = []\n",
    "\n",
    "with open(rev_indexes, 'w') as output:\n",
    "    \n",
    "    for library in lib_index_tuble_dict.keys():\n",
    "\n",
    "        indexes = lib_index_tuble_dict[library]\n",
    "\n",
    "        P2 = str(Seq(index_seq_dict[indexes[1]]).reverse_complement())\n",
    "        \n",
    "        if P2 not in rev_wseq:\n",
    "        \n",
    "            fasta_header = '>'+ str(indexes[1]) + '\\n'\n",
    "            fasta_seq = 'ACCTAAAGAATCCCATCC' + P2 + degen_seq + '\\n'\n",
    "\n",
    "            output.write(fasta_header)\n",
    "            output.write(fasta_seq)\n",
    "            \n",
    "            rev_wseq.append(P2)\n",
    "        \n",
    "        \n",
    "        "
   ]
  },
  {
   "cell_type": "markdown",
   "metadata": {},
   "source": [
    "# Fasta file for guides"
   ]
  },
  {
   "cell_type": "code",
   "execution_count": 7,
   "metadata": {},
   "outputs": [],
   "source": [
    "guides_fasta = './guides_only.fa'\n",
    "\n",
    "with open(guides_fasta, 'w') as output:\n",
    "    \n",
    "    with open(guide_sequences, 'r') as source:\n",
    "\n",
    "                next(source)\n",
    "\n",
    "                for line in source:\n",
    "\n",
    "                    line_data = line.split('\\t')\n",
    "\n",
    "                    guide_name = line_data[1]\n",
    "                    guide_seq = line_data[6]\n",
    "                    guide_target_type = line_data[2]\n",
    "\n",
    "                    fasta_header = '>'+ guide_name + '\\n'\n",
    "                    fasta_seq = PS1_snr52for[30:] + guide_seq + Sup4_termPS2[0:30] +'\\n'\n",
    "\n",
    "                    output.write(fasta_header)\n",
    "                    output.write(fasta_seq)"
   ]
  },
  {
   "cell_type": "code",
   "execution_count": 14,
   "metadata": {},
   "outputs": [
    {
     "ename": "SyntaxError",
     "evalue": "invalid syntax (<ipython-input-14-ae6044348ec0>, line 4)",
     "output_type": "error",
     "traceback": [
      "\u001b[1;36m  File \u001b[1;32m\"<ipython-input-14-ae6044348ec0>\"\u001b[1;36m, line \u001b[1;32m4\u001b[0m\n\u001b[1;33m    bowtie-build -f -r -o 4 for_indexes.fa hiseq_june2018_for_indexes\u001b[0m\n\u001b[1;37m                          ^\u001b[0m\n\u001b[1;31mSyntaxError\u001b[0m\u001b[1;31m:\u001b[0m invalid syntax\n"
     ]
    }
   ],
   "source": [
    "# command line calls (to be done in bash)\n",
    "\n",
    "# for indexes\n",
    "bowtie-build -f -r -o 4 for_indexes.fa hiseq_june2018_for_indexes\n",
    "\n",
    "# rev indexes\n",
    "bowtie-build -f -r -o 4 rev_indexes.fa hiseq_june2018_rev_indexes\n",
    "\n",
    "# guides\n",
    "bowtie-build -f -r -o 4 guides_only.fa hiseq_june2018_guides_only\n"
   ]
  }
 ],
 "metadata": {
  "kernelspec": {
   "display_name": "Python 2",
   "language": "python",
   "name": "python2"
  },
  "language_info": {
   "codemirror_mode": {
    "name": "ipython",
    "version": 2
   },
   "file_extension": ".py",
   "mimetype": "text/x-python",
   "name": "python",
   "nbconvert_exporter": "python",
   "pygments_lexer": "ipython2",
   "version": "2.7.6"
  }
 },
 "nbformat": 4,
 "nbformat_minor": 1
}
