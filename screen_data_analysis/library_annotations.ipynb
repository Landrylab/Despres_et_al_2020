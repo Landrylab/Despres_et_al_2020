{
 "cells": [
  {
   "cell_type": "markdown",
   "metadata": {},
   "source": [
    "## Imports"
   ]
  },
  {
   "cell_type": "code",
   "execution_count": 1,
   "metadata": {},
   "outputs": [
    {
     "name": "stdout",
     "output_type": "stream",
     "text": [
      "importing modules  \n",
      "0.23.4\n",
      "2.2.3\n",
      "1.15.4\n",
      "0.9.0\n",
      "1.1.0\n"
     ]
    }
   ],
   "source": [
    "print 'importing modules  '\n",
    "import os\n",
    "\n",
    "import subprocess\n",
    "\n",
    "import datetime\n",
    "from datetime import datetime as time\n",
    "\n",
    "import pandas as pd\n",
    "print pd.__version__\n",
    "\n",
    "\n",
    "import matplotlib\n",
    "import matplotlib.pyplot as plt\n",
    "print matplotlib.__version__\n",
    "\n",
    "from collections import Counter\n",
    "\n",
    "import numpy as np\n",
    "print np.__version__\n",
    "\n",
    "import seaborn as sns\n",
    "print sns.__version__\n",
    "\n",
    "import scipy\n",
    "import scipy.stats as stats\n",
    "print scipy.__version__\n",
    "\n",
    "\n",
    "\n",
    "%matplotlib inline\n",
    "# magic command for matplotlib figures in the jupyter notebook"
   ]
  },
  {
   "cell_type": "code",
   "execution_count": 2,
   "metadata": {},
   "outputs": [],
   "source": [
    "from tqdm import tqdm_notebook\n",
    "from tqdm import tqdm\n",
    "# this package provides an integrated progress bar for the notebook"
   ]
  },
  {
   "cell_type": "markdown",
   "metadata": {},
   "source": [
    "## Get chip data"
   ]
  },
  {
   "cell_type": "code",
   "execution_count": 3,
   "metadata": {},
   "outputs": [
    {
     "name": "stdout",
     "output_type": "stream",
     "text": [
      "39978\n"
     ]
    }
   ],
   "source": [
    "chip_table = pd.read_csv('./chip_table_with_muts.tsv', sep = '\\t', index_col = 'guide_name')\n",
    "chip_table.head(10)\n",
    "print len(chip_table)"
   ]
  },
  {
   "cell_type": "markdown",
   "metadata": {},
   "source": [
    "## import data from YAAM"
   ]
  },
  {
   "cell_type": "code",
   "execution_count": 4,
   "metadata": {},
   "outputs": [
    {
     "name": "stderr",
     "output_type": "stream",
     "text": [
      "75it [00:00, 743.28it/s]"
     ]
    },
    {
     "name": "stdout",
     "output_type": "stream",
     "text": [
      "Empty DataFrame\n",
      "Columns: [ORF, residue, position, modification]\n",
      "Index: []\n",
      "'Phosphorylation'\n"
     ]
    },
    {
     "name": "stderr",
     "output_type": "stream",
     "text": [
      "87777it [04:10, 218.05it/s]"
     ]
    },
    {
     "name": "stdout",
     "output_type": "stream",
     "text": [
      "'Methylation'\n"
     ]
    },
    {
     "name": "stderr",
     "output_type": "stream",
     "text": [
      "88053it [04:12, 231.73it/s]"
     ]
    },
    {
     "name": "stdout",
     "output_type": "stream",
     "text": [
      "'Acetylation'\n"
     ]
    },
    {
     "name": "stderr",
     "output_type": "stream",
     "text": [
      "98098it [05:01, 181.09it/s]"
     ]
    },
    {
     "name": "stdout",
     "output_type": "stream",
     "text": [
      "'Ubiquitination'\n"
     ]
    },
    {
     "name": "stderr",
     "output_type": "stream",
     "text": [
      "112985it [06:30, 163.66it/s]"
     ]
    },
    {
     "name": "stdout",
     "output_type": "stream",
     "text": [
      "'Succinylation'\n"
     ]
    },
    {
     "name": "stderr",
     "output_type": "stream",
     "text": [
      "114729it [06:41, 140.77it/s]"
     ]
    },
    {
     "name": "stdout",
     "output_type": "stream",
     "text": [
      "'Oxidation'\n"
     ]
    },
    {
     "name": "stderr",
     "output_type": "stream",
     "text": [
      "115604it [06:47, 151.36it/s]"
     ]
    },
    {
     "name": "stdout",
     "output_type": "stream",
     "text": [
      "'Nitration'\n",
      "'NtAcetylation'\n"
     ]
    },
    {
     "name": "stderr",
     "output_type": "stream",
     "text": [
      "116387it [06:52, 167.36it/s]"
     ]
    },
    {
     "name": "stdout",
     "output_type": "stream",
     "text": [
      "'Glycosylation'\n"
     ]
    },
    {
     "name": "stderr",
     "output_type": "stream",
     "text": [
      "118357it [07:04, 163.89it/s]"
     ]
    },
    {
     "name": "stdout",
     "output_type": "stream",
     "text": [
      "'Ca'\n",
      "'Disulfide'\n"
     ]
    },
    {
     "name": "stderr",
     "output_type": "stream",
     "text": [
      "118640it [07:06, 160.35it/s]"
     ]
    },
    {
     "name": "stdout",
     "output_type": "stream",
     "text": [
      "'Lipidation'\n"
     ]
    },
    {
     "name": "stderr",
     "output_type": "stream",
     "text": [
      "118827it [07:07, 160.83it/s]"
     ]
    },
    {
     "name": "stdout",
     "output_type": "stream",
     "text": [
      "'ActiveSite'\n"
     ]
    },
    {
     "name": "stderr",
     "output_type": "stream",
     "text": [
      "119936it [07:14, 162.91it/s]"
     ]
    },
    {
     "name": "stdout",
     "output_type": "stream",
     "text": [
      "'Sumoylation'\n"
     ]
    },
    {
     "name": "stderr",
     "output_type": "stream",
     "text": [
      "120072it [07:15, 160.36it/s]"
     ]
    },
    {
     "name": "stdout",
     "output_type": "stream",
     "text": [
      "'Metal'\n"
     ]
    },
    {
     "name": "stderr",
     "output_type": "stream",
     "text": [
      "121992it [07:28, 272.08it/s]\n"
     ]
    }
   ],
   "source": [
    "YAAM_data_file = './YAAM_15_07_2018.txt'\n",
    "# data file downloaded from the Yeast Amino Acid Modification database (YAAM) 15-07-2018\n",
    "# http://yaam.ifc.unam.mx/index.php\n",
    "\n",
    "\n",
    "PTM_df = pd.DataFrame(columns = ['ORF', 'residue', 'position','modification'])\n",
    "\n",
    "print PTM_df.head()\n",
    "\n",
    "spe_format =['Glycosylation', 'Ca', 'Disulfide','Lipidation','ActiveSite','Sumoylation']\n",
    "#scheme is line[1]=name,[3]=residue,[4]=pos: phos, meth, acet, ubiq, succ, oxi, nitr, ntAce, metal\n",
    "#scheme is line[1]=name,[2]=residue,[3]=pos: glycos, Ca, Disulfide, lipidation, activeSite, sumoyl\n",
    "\n",
    "i_count = 0\n",
    "\n",
    "with open(YAAM_data_file, 'r') as source:\n",
    "    \n",
    "    next(source)\n",
    "    next(source)\n",
    "    # skips the header\n",
    "    \n",
    "    for line in tqdm(source):\n",
    "        # loops through the lines in the file\n",
    "        \n",
    "        if line[0].isdigit() == False and line.startswith('id') == False:\n",
    "            # detects lines that mark the beginning of a next PTM section in the database\n",
    "            \n",
    "            PTM_type = line.strip('\\n').strip('\\r')\n",
    "            print repr(PTM_type)\n",
    "            # extract PTM section name and quality control for future use\n",
    "                     \n",
    "            next(source)\n",
    "            # skips the header of the section in the database\n",
    "            \n",
    "        elif line[0].isdigit() == True:\n",
    "            line_info = line.split('\\t')\n",
    "            # detects PTM entries, prepare for info extraction\n",
    "            \n",
    "            \n",
    "            \n",
    "            if PTM_type not in spe_format:\n",
    "                # check for format of the section of the db\n",
    "            \n",
    "                \n",
    "                entry = {'ORF': line_info[1],\n",
    "                         'residue': line_info[3], \n",
    "                         'position': line_info[4],\n",
    "                         'modification': PTM_type} \n",
    "                \n",
    "                entry_indexed = {i_count: entry}\n",
    "                \n",
    "                to_df = pd.DataFrame.from_dict(entry_indexed, orient ='index')\n",
    "                \n",
    "                add_entry = pd.concat([PTM_df, to_df], ignore_index=True, sort=True)\n",
    "                # sort = True required on my laptop\n",
    "                PTM_df = add_entry\n",
    "                \n",
    "                i_count += 1\n",
    "                \n",
    "                \n",
    "                \n",
    "                \n",
    "            else:\n",
    "                PTM_site = line_info[1] + '|' + line_info[2] + '|' + str(line_info[3])\n",
    "                #print PTM_site\n",
    "                # deprecated quality control\n",
    "                \n",
    "                entry = {'ORF': line_info[1],\n",
    "                         'residue': line_info[2], \n",
    "                         'position': line_info[3],\n",
    "                         'modification': PTM_type}\n",
    "                \n",
    "                entry_indexed = {i_count: entry}\n",
    "                \n",
    "                to_df = pd.DataFrame.from_dict(entry_indexed, orient ='index')\n",
    "                add_entry = pd.concat([PTM_df, to_df], ignore_index=True, sort =True)\n",
    "                \n",
    "                PTM_df = add_entry\n",
    "                \n",
    "                i_count += 1\n",
    "                \n",
    "                \n",
    "\n",
    "            \n"
   ]
  },
  {
   "cell_type": "code",
   "execution_count": 5,
   "metadata": {},
   "outputs": [
    {
     "name": "stdout",
     "output_type": "stream",
     "text": [
      "           ORF     modification position residue\n",
      "6085   YHR016C  Phosphorylation      373       Y\n",
      "26427  YHR016C  Phosphorylation      306       Y\n",
      "26429  YHR016C  Phosphorylation      373       Y\n",
      "42437  YHR016C  Phosphorylation      306       Y\n",
      "42438  YHR016C  Phosphorylation      373       Y\n",
      "61349  YHR016C  Phosphorylation      308       Y\n",
      "61351  YHR016C  Phosphorylation      373       Y\n",
      "['YLR113W', 'YBL016W', 'YHR030C', 'YJL106W', 'YGR040W', 'YML074C', 'YBR160W', 'YMR139W', 'YJL141C', 'YJR094C', 'YPL061W', 'YNL225C', 'YGR200C', 'YBL002W', 'YDR028C', 'YJR009C', 'YGR192C', 'YNR016C', 'YOR175C', 'YOL130W', 'YJL020C', 'YNL166C', 'YDL117W', 'YPL049C', 'YKL060C', 'YCL027W', 'YMR232W', 'YGL195W', 'YBR086C', 'YNL308C', 'YLR260W', 'YGL009C', 'YDR060W', 'YNL307C', 'YNL074C', 'YKL129C', 'YMR109W', 'YLR138W', 'YDL089W', 'YCR077C', 'YER178W', 'YOL061W', 'YOL054W', 'YKR093W', 'YDL007W', 'YPL085W', 'YHR098C', 'YDR312W', 'YDR310C', 'YOL006C', 'YDR050C', 'YDR074W', 'YAR009C', 'YBL100W-A', 'YBR235W', 'YNL154C', 'YCR023C', 'YDR352W', 'YFR039C', 'YLR257W', 'YFR003C', 'YHR016C', 'YMR243C', 'YNL241C', 'YLR212C', 'YAR002W', 'YHR047C', 'YCR088W', 'YBR108W', 'YLR127C', 'YKL135C', 'YDL029W', 'YPL217C', 'YMR014W', 'YCL014W', 'YGR140W', 'YKR066C', 'YAL038W', 'YGL116W', 'YLR418C', 'YER026C', 'YER166W', 'YNL084C', 'YIL151C', 'YDR236C', 'YLR454W', 'YOR324C', 'YGR196C', 'YMR186W', 'YDR017C', 'YLR303W', 'YOR231W', 'YKR095W', 'YGL075C', 'YPR112C', 'YKL062W', 'YDL002C', 'YKL171W', 'YHR073W', 'YER059W', 'YGL248W', 'YMR205C', 'YBL051C', 'YEL055C', 'YHR165C', 'YJR052W', 'YOR340C', 'YGL070C', 'YJL177W', 'YDL140C', 'YMR229C', 'YOR001W', 'YBL103C', 'YHR205W', 'YER008C', 'YOR254C', 'YKL105C', 'YOR140W', 'YJR134C', 'YDL042C', 'YLL021W', 'YDL229W', 'YDR293C', 'YPL105C', 'YBR198C', 'YMR227C', 'YCR053W', 'YIL078W', 'YGL145W', 'YER175C', 'YDL122W', 'YPL020C', 'YNL229C', 'YNL212W', 'YDL199C', 'YDR239C', 'YDR338C', 'YDR381C-A', 'YOL128C', 'YGR125W', 'YNL031C', 'YLR403W', 'YAL041W', 'YEL052W', 'YOR034C', 'YKL185W', 'YNL101W', 'YBR038W', 'YDR440W', 'YDR365C', 'YBR179C', 'YOL049W', 'YBL008W', 'YHR082C', 'YGR244C', 'YLR106C', 'YNL076W', 'YNL137C', 'YOR193W', 'YLR273C', 'YIL148W', 'YML091C', 'YPR161C', 'YBL058W', 'YBR069C', 'YBL054W', 'YLR240W', 'YBR216C', 'YOL086C', 'YMR303C', 'YDR216W', 'YGL021W', 'YDR127W', 'YDL197C', 'YPR185W', 'YNL223W', 'YOR113W', 'YJL095W', 'YER167W', 'YJL058C', 'YNL233W', 'YER172C', 'YNR069C', 'YPR171W', 'YAR014C', 'YFL023W', 'YMR280C', 'YDR364C', 'YGL019W', 'YOL016C', 'YPR030W', 'YJL005W', 'YGR092W', 'YNR038W', 'YLR270W', 'YMR173W', 'YDR093W', 'YDR141C', 'YKR054C', 'YMR128W', 'YHL039W', 'YMR212C', 'YGR254W', 'YDL161W', 'YNL080C', 'YMR219W', 'YOR317W', 'YFR019W', 'YNL068C', 'YGR267C', 'YNR047W', 'YBR020W', 'YPL248C', 'YLR343W', 'YDR211W', 'YDR507C', 'YMR311C', 'YKL152C', 'YGL181W', 'YDR454C', 'YOR070C', 'YDL223C', 'YOL095C', 'YGL077C', 'YKL101W', 'YFL014W', 'YHR096C', 'YBR157C', 'YJL082W', 'YBR140C', 'YBR245C', 'YKL217W', 'YDR122W', 'YOR233W', 'YKL168C', 'YPR159W', 'YKR061W', 'YJL134W', 'YOR322C', 'YOR123C', 'YOL060C', 'YKL093W', 'YLR332W', 'YFL034C-B', 'YJR002W', 'YLR116W', 'YBR255W', 'YGR023W', 'YNL078W', 'YLR328W', 'YHR170W', 'YPL093W', 'YDR432W', 'YNL183C', 'YDR001C', 'YBR001C', 'YDR150W', 'YOR098C', 'YBL079W', 'YLR335W', 'YOR153W', 'YLR324W', 'YOL001W', 'YGR086C', 'YER132C', 'YNL102W', 'YML016C', 'YOR361C', 'YBL046W', 'YBR125C', 'YLL013C', 'YGL014W', 'YIL121W', 'YDR217C', 'YNL312W', 'YBR275C', 'YGL045W', 'YPR018W', 'YFR022W', 'YJL148W', 'YDR471W', 'YBR189W', 'YOR117W', 'YJR127C', 'YOL137W', 'YGL244W', 'YOR138C', 'YBR280C', 'YDR170C', 'YGL066W', 'YIR001C', 'YDL225W', 'YDR422C', 'YNL032W', 'YBR172C', 'YDR104C', 'YNL222W', 'YMR039C', 'YAR042W', 'YJL176C', 'YDR146C', 'YIL047C', 'YML072C', 'YGR005C', 'YKL140W', 'YMR313C', 'YKR089C', 'YNL088W', 'YLL028W', 'YOR273C', 'YMR261C', 'YDL112W', 'YLR024C', 'YKL035W', 'YIL135C', 'YBR127C', 'YOR132W', 'YNR006W', 'YER024W', 'YNL064C', 'YDR333C', 'YLR249W', 'YER079W', 'YER134C', 'YGL140C', 'YGR250C', 'YIL161W', 'YJL055W', 'YJL206C', 'YOL019W', 'YOL036W', 'YOR352W', 'YKL126W', 'YOR291W', 'YPL150W', 'YNR039C', 'YGL255W', 'YLR130C', 'YNL077W', 'YDR421W', 'YNL315C', 'YFL007W', 'YLR015W', 'YMR213W', 'YMR012W', 'YDL209C', 'YEL071W', 'YMR126C', 'YDR385W', 'YJR125C', 'YMR049C', 'YHR132W-A', 'YER110C', 'YOR108W', 'YOR241W', 'YJL183W', 'YDR162C', 'YFR034C', 'YDR466W', 'YGL059W', 'YOR018W', 'YDL147W', 'YHR149C', 'YDL123W', 'YDR086C', 'YDR103W', 'YJR007W', 'YKR062W', 'YER007C-A', 'YML076C', 'YGL082W', 'YNL160W', 'YGR012W', 'YGR017W', 'YGR130C', 'YOL075C', 'YPL067C', 'YGR252W', 'YKL015W', 'YDR490C', 'YDR247W', 'YGR097W', 'YDR299W', 'YGL139W', 'YDR508C', 'YHR094C', 'YDL019C', 'YKR028W', 'YGR251W', 'YDR052C', 'YGL113W', 'YPR029C', 'YGL202W', 'YPR122W', 'YDL070W', 'YFR047C', 'YEL061C', 'YPR105C', 'YGL027C', 'YJR106W', 'YER176W', 'YFR027W', 'YBR177C', 'YPL231W', 'YLL051C', 'YPL091W', 'YPR160W', 'YPR179C', 'YDL205C', 'YOR227W', 'YNL215W', 'YIL002C', 'YOL081W', 'YBR213W', 'YPL169C', 'YEL019C', 'YPL043W', 'YDR113C', 'YBR087W', 'YGR180C', 'YOL121C', 'YDR412W', 'YOR077W', 'YHR079C-A', 'YMR079W', 'YOR184W', 'YDL133W', 'YPL106C', 'YIL030C', 'YPL016W', 'YNL253W', 'YML028W', 'YBL039C', 'YOR068C', 'YJL154C', 'YLL012W', 'YDL072C', 'YHR112C', 'YFL056C', 'YMR041C', 'YPR026W', 'YDR361C', 'YBL085W', 'YDL074C', 'YKL088W', 'YKL208W', 'YPL256C', 'YOR005C', 'YER088C', 'YBR252W', 'YGR145W', 'YLR206W', 'YIL065C', 'YCL011C', 'YMR281W', 'YGL084C', 'YKL109W', 'YER052C', 'YMR288W', 'YNL157W', 'YPL263C', 'YLR096W', 'YER038C', 'YIL150C', 'YML062C', 'YOL090W', 'YKL057C', 'YDR348C', 'YEL058W', 'YBL005W', 'YJL053W', 'YOR386W', 'YGR170W', 'YMR061W', 'YDR279W', 'YJL136C', 'YOL138C', 'YGR161C', 'YDL153C', 'YDR351W', 'YLL003W', 'YOR195W', 'YLR086W', 'YOR308C', 'YCR081W', 'YPL243W', 'YML064C', 'YLL040C', 'YBL005W-B', 'YBR238C', 'YKL075C', 'YMR265C', 'YNR014W', 'YDR057W', 'YPL245W', 'YPR084W', 'YFR024C-A', 'YDL203C', 'YGR204W', 'YCR011C', 'YER080W', 'YFL050C', 'YJL084C', 'YGL156W', 'YNL172W', 'YJR005W', 'YPL195W', 'YPL259C', 'YLR085C', 'YGR177C', 'YFR021W', 'YNL242W', 'YNR007C', 'YDR350C', 'YML116W', 'YOL078W', 'YKL146W', 'YBR068C', 'YIL033C', 'YBR200W', 'YER155C', 'YBR141C', 'YKL092C', 'YJR092W', 'YKL005C', 'YNL278W', 'YGR134W', 'YER048C', 'YLR175W', 'YNL161W', 'YLR215C', 'YHR107C', 'YFR028C', 'YBL084C', 'YLR314C', 'YPL228W', 'YGL206C', 'YOR028C', 'YOR356W', 'YLR133W', 'YGR108W', 'YFR046C', 'YNL051W', 'YLR216C', 'YDR223W', 'YLR087C', 'YLR381W', 'YLR411W', 'YBR112C', 'YHR028C', 'YPL119C', 'YNL112W', 'YOR173W', 'YOR030W', 'YPL265W', 'YKL213C', 'YKR071C', 'YMR287C', 'YDL101C', 'YMR031C', 'YPL086C', 'YLR080W', 'YHR174W', 'YDR153C', 'YIL005W', 'YGR175C', 'YPL028W', 'YML008C', 'YBR239C', 'YLR318W', 'YER015W', 'YDL166C', 'YMR052W', 'YKL182W', 'YMR319C', 'YMR221C', 'YNL256W', 'YKR009C', 'YLL043W', 'YLR060W', 'YHR128W', 'YOR178C', 'YBR019C', 'YLR081W', 'YMR307W', 'YMR136W', 'YLR291C', 'YOR168W', 'YER122C', 'YEL046C', 'YDR434W', 'YDR331W', 'YDL035C', 'YKR067W', 'YGR154C', 'YOL089C', 'YER014W', 'YJR140C', 'YBR248C', 'YDR158W', 'YPL240C', 'YDR224C', 'YFR053C', 'YDR342C', 'YNL164C', 'YER065C', 'YFR017C', 'YBL076C', 'YJR016C', 'YJR138W', 'YIL026C', 'YNL265C', 'YDR497C', 'YJL034W', 'YHR158C', 'YGR238C', 'YDR148C', 'YDL240W', 'YAL024C', 'YDL087C', 'YER142C', 'YPR051W', 'YBR142W', 'YER106W', 'YEL032W', 'YNL173C', 'YFL016C', 'YGL197W', 'YNL103W', 'YJR137C', 'YKL195W', 'YKL089W', 'YJR077C', 'YGL106W', 'YIL149C', 'YIL051C', 'YPL082C', 'YJL019W', 'YCL061C', 'YDL079C', 'YBR268W', 'YML009C', 'YDR337W', 'YOL033W', 'YFL003C', 'YDL154W', 'YDR097C', 'YOR326W', 'YJL076W', 'YMR309C', 'YHR077C', 'YCR026C', 'YOR209C', 'YPL233W', 'YBR188C', 'YML059C', 'YJL208C', 'YGL092W', 'YER105C', 'YDL116W', 'YHR118C', 'YKR003W', 'YMR165C', 'YOL115W', 'YCL052C', 'YJL128C', 'YBR094W', 'YNL289W', 'YOR328W', 'YBR035C', 'YBL017C', 'YMR231W', 'YLR067C', 'YKL127W', 'YJR153W', 'YDL236W', 'YBL105C', 'YPL268W', 'YAL023C', 'YBL035C', 'YMR129W', 'YPR103W', 'YLL036C', 'YNR011C', 'YKL116C', 'YKL181W', 'YMR137C', 'YLR019W', 'YAL043C', 'YKL188C', 'YKR090W', 'YGR258C', 'YJR035W', 'YDR419W', 'YJR033C', 'YOR285W', 'YOR207C', 'YPL010W', 'YOL080C', 'YOL094C', 'YLR176C', 'YOR127W', 'YDR379W', 'YPR115W', 'YIL053W', 'YBR192W', 'YNL207W', 'YIL066C', 'YLR371W', 'YOR151C', 'YPR190C', 'YIL119C', 'YLR325C', 'YKR057W', 'YNL178W', 'YLR357W', 'YCR052W', 'YMR266W', 'YER125W', 'YBR147W', 'YPL235W', 'YKL212W', 'YFR040W', 'YMR127C', 'YDR180W', 'YJL080C', 'YIL113W', 'YIR022W', 'YLR268W', 'YIL068C', 'YGR009C', 'YBL066C', 'YOR057W', 'YBR130C', 'YLR398C', 'YGR143W', 'YGR271W', 'YOL034W', 'YDR525W-A', 'YDL194W', 'YIL061C', 'YJR104C', 'YHR172W', 'YKL184W', 'YMR017W', 'YOL091W', 'YLL005C', 'YDR218C', 'YGR116W', 'YPR032W', 'YLR006C', 'YNR031C', 'YLR452C', 'YPL092W', 'YMR053C', 'YOR047C', 'YCL032W', 'YDR463W', 'YBR143C', 'YAL011W', 'YLR251W', 'YGR046W', 'YOL020W', 'YPR157W', 'YKL081W', 'YAL001C', 'YIL144W', 'YMR260C', 'YPR074C', 'YDR117C', 'YNL273W', 'YMR156C', 'YDR120C', 'YDR353W', 'YER093C', 'YCR084C', 'YBR012W-A', 'YDR098C-A', 'YDR210C-C', 'YDR261C-C', 'YGR027W-A', 'YGR038C-A', 'YHR214C-C', 'YJR028W', 'YLR256W-A', 'YML045W-A', 'YML040W', 'YMR051C', 'YNL054W-A', 'YOL103W-A', 'YPL257W-A', 'YPR137C-A', 'YPR158W-A', 'YPR158C-C', 'YBR012W-B', 'YDR098C-B', 'YDR210C-D', 'YDR316W-B', 'YDR365W-B', 'YER160C', 'YGR038C-B', 'YHR214C-B', 'YML045W', 'YMR050C', 'YOR142W-B', 'YPR137C-B', 'YPR158W-B', 'YKR098C', 'YKL010C', 'YGR019W', 'YJR103W', 'YKL014C', 'YNR012W', 'YML029W', 'YDL058W', 'YPL230W', 'YML093W', 'YBL004W', 'YGR094W', 'YJR126C', 'YAL002W', 'YIL173W', 'YOR083W', 'YNL283C', 'YHR134W', 'YEL006W', 'YBL060W', 'YDR451C', 'YMR152W', 'YBR104W', 'YBR028C', 'YGL164C', 'YHR155W', 'YGR270W', 'YIR026C', 'YAL044W-A', 'YBL071C-B', 'YBL086C', 'YBR139W', 'YCR061W', 'YCR087C-A', 'YDL176W', 'YDR018C', 'YDR089W', 'YDR524W-C', 'YEL043W', 'YER076C', 'YER158C', 'YFR016C', 'YFR018C', 'YHR007C-A', 'YJR030C', 'YLR241W', 'YLR419W', 'YMR018W', 'YMR087W', 'YMR124W', 'YMR315W', 'YNL155W', 'YNL181W', 'YNR040W', 'YOL114C', 'YOR093C', 'YPR117W', 'YBR059C', 'YDR186C', 'YDR436W', 'YDR477W', 'YER060W', 'YFR031C-A', 'YGL056C', 'YGL103W', 'YGR124W', 'YHR097C', 'YIL091C', 'YJL042W', 'YKR021W', 'YLR167W', 'YLR219W', 'YML111W', 'YOR267C', 'YPL079W', 'YAL017W', 'YBL047C', 'YBL104C', 'YBR085C-A', 'YDL012C', 'YDR326C', 'YDR398W', 'YDR464W', 'YEL034W', 'YEL062W', 'YFL026W', 'YFL039C', 'YGL151W', 'YGL179C', 'YGR284C', 'YHR164C', 'YHR178W', 'YIL105C', 'YIL130W', 'YIL147C', 'YIR006C', 'YJL167W', 'YJL187C', 'YJR001W', 'YKL121W', 'YKL124W', 'YKR055W', 'YLR187W', 'YLR421C', 'YLR450W', 'YLR457C', 'YMR120C', 'YMR216C', 'YNL029C', 'YNL197C', 'YNR052C', 'YOL070C', 'YOL149W', 'YOR101W', 'YOR212W', 'YPL012W', 'YPL111W', 'YPL260W', 'YPR091C', 'YPR145W', 'YDL201W', 'YML038C', 'YMR257C', 'YHR081W', 'YER036C', 'YBR286W', 'YER111C', 'YIL106W', 'YBR114W', 'YOL067C', 'YDL113C', 'YMR115W', 'YGR090W', 'YGR065C', 'YDR220C', 'YJR146W']\n"
     ]
    }
   ],
   "source": [
    "pYtest = (PTM_df['ORF'] == 'YHR016C')&(PTM_df['residue'] == 'Y')\n",
    "\n",
    "print PTM_df[pYtest]\n",
    "\n",
    "pY = (PTM_df['residue'] == 'Y')&(PTM_df['modification'] == 'Phosphorylation')\n",
    "\n",
    "\n",
    "print list(PTM_df[pY]['ORF'].unique())"
   ]
  },
  {
   "cell_type": "markdown",
   "metadata": {},
   "source": [
    "Rest of annotation on chip table requires mutation prediction part of script\n",
    "    \n",
    "    "
   ]
  },
  {
   "cell_type": "code",
   "execution_count": 6,
   "metadata": {},
   "outputs": [
    {
     "data": {
      "image/png": "[encoded data removed]",
      "text/plain": [
       "<Figure size 432x288 with 1 Axes>"
      ]
     },
     "metadata": {
      "needs_background": "light"
     },
     "output_type": "display_data"
    }
   ],
   "source": [
    "plt.hist([len(PTM_df[PTM_df['ORF'] == x]['position'].unique()) for x in PTM_df['ORF'].unique()], density = True)\n",
    "plt.yscale('log')"
   ]
  },
  {
   "cell_type": "markdown",
   "metadata": {},
   "source": [
    "4896 orfs with annotations in YAAM. 1081 genes in chip table have at least one annotation in YAAM. I need to modify the format of the table so its easier to work with."
   ]
  },
  {
   "cell_type": "markdown",
   "metadata": {},
   "source": [
    "## modify and reannotate the chip table for better mutation predictions and formating."
   ]
  },
  {
   "cell_type": "code",
   "execution_count": 7,
   "metadata": {},
   "outputs": [],
   "source": [
    "from itertools import permutations\n",
    "# useful to test multiple possibilities\n",
    "\n",
    "def reverse_complement(dna):\n",
    "    \"\"\" function that reverse complements DNA\n",
    "    dna: input dna sequence\n",
    "    \"\"\"\n",
    "    complement = {'A': 'T', 'C': 'G', 'G': 'C', 'T': 'A'}\n",
    "    return ''.join([complement[base] for base in dna[::-1]])\n",
    "    \n",
    "codontable = {\n",
    "    'ATA':'I', 'ATC':'I', 'ATT':'I', 'ATG':'M',\n",
    "    'ACA':'T', 'ACC':'T', 'ACG':'T', 'ACT':'T',\n",
    "    'AAC':'N', 'AAT':'N', 'AAA':'K', 'AAG':'K',\n",
    "    'AGC':'S', 'AGT':'S', 'AGA':'R', 'AGG':'R',\n",
    "    'CTA':'L', 'CTC':'L', 'CTG':'L', 'CTT':'L',\n",
    "    'CCA':'P', 'CCC':'P', 'CCG':'P', 'CCT':'P',\n",
    "    'CAC':'H', 'CAT':'H', 'CAA':'Q', 'CAG':'Q',\n",
    "    'CGA':'R', 'CGC':'R', 'CGG':'R', 'CGT':'R',\n",
    "    'GTA':'V', 'GTC':'V', 'GTG':'V', 'GTT':'V',\n",
    "    'GCA':'A', 'GCC':'A', 'GCG':'A', 'GCT':'A',\n",
    "    'GAC':'D', 'GAT':'D', 'GAA':'E', 'GAG':'E',\n",
    "    'GGA':'G', 'GGC':'G', 'GGG':'G', 'GGT':'G',\n",
    "    'TCA':'S', 'TCC':'S', 'TCG':'S', 'TCT':'S',\n",
    "    'TTC':'F', 'TTT':'F', 'TTA':'L', 'TTG':'L',\n",
    "    'TAC':'Y', 'TAT':'Y', 'TAA':'*', 'TAG':'*',\n",
    "    'TGC':'C', 'TGT':'C', 'TGA':'*', 'TGG':'W',\n",
    "    }\n",
    "\n",
    "def translate(codon):\n",
    "    \"\"\" function that a DNA codon to anino acid\n",
    "    codon: the input codon\n",
    "    \"\"\"\n",
    "    return codontable[codon]\n",
    "\n",
    "def prot_translation(cds):\n",
    "    \"\"\" a function that translates a CDS\n",
    "    cds: the coding DNA sequence\n",
    "    \"\"\"\n",
    "   \n",
    "    seq_len = len(cds)\n",
    "    prot_seq = ''\n",
    "    \n",
    "    for x in range(0, ((seq_len/3))):\n",
    "        codon = cds[(x*3):((x*3)+3)]      \n",
    "        aa_res = translate(codon)\n",
    "        prot_seq += aa_res\n",
    "        # loop through cds and translate each codon\n",
    "        \n",
    "    return prot_seq                    "
   ]
  },
  {
   "cell_type": "code",
   "execution_count": 8,
   "metadata": {},
   "outputs": [
    {
     "name": "stdout",
     "output_type": "stream",
     "text": [
      "5327\n",
      "5281\n",
      "ATGACTATTTCTGATCATCCAGAAACAGAACCAAAGTGGTGGAAAGAGGCCACAATCTATCAAATTTACCCAGCAAGTTTTAAAGACTCCAATAACGATGGCTGGGGTGATTTAAAAGGTATCACTTCCAAGTTGCAGTATATTAAAGATCTTGGCGTTGATGCTATTTGGGTTTGTCCGTTTTATGACTCTCCTCAACAAGATATGGGGTATGATATATCCAACTACGAAAAGGTCTGGCCCACATATGGTACCAATGAGGACTGTTTTGAGCTAATTGACAAGACTCATAAGCTGGGTATGAAATTCATCACCGATTTGGTTATCAACCACTGTTCTACAGAACACGAATGGTTCAAAGAGAGCAGATCCTCGAAGACCAATCCGAAGCGTGACTGGTTCTTCTGGAGACCTCCTAAAGGTTATGACGCCGAAGGCAAGCCAATTCCTCCAAACAATTGGAAATCTTTCTTTGGTGGTTCAGCTTGGACTTTTGATGAAACTACAAATGAATTTTACCTCCGTTTGTTTGCGAGTCGTCAAGTTGACTTGAATTGGGAGAATGAAGACTGCAGAAGGGCAATCTTTGAAAGTGCTGTTGGATTTTGGCTGGACCATGGTGTAGATGGTTTTAGAATCGATACCGCTGGTTTGTATTCGAAACGTCCTGGTTTACCAGATTCCCCAATTTTTGACAAAACCTCGAAATTACAACATCCAAATTGGGGGTCTCACAATGGTCCTAGGATTCATGAATATCATCAAGAACTACACAGATTTATGAAAAACAGGGTGAAAGATGGTAGAGAAATAATGACAGTCGGTGAAGTTGCCCATGGAAGTGATAATGCTTTATACACCAGTGCAGCTAGATACGAAGTCAGCGAAGTTTTCTCCTTCACGCACGTTGAAGTTGGTACCTCGCCATTTTTCCGTTATAACATAGTGCCCTTCACCTTGAAACAATGGAAAGAAGCCATTGCATCGAACTTTTTGTTCATTAACGGTACTGATAGTTGGGCTACCACCTACATCGAGAATCACGATCAAGCCCGGTCAATTACGAGATTTGCTGACGATTCGCCAAAGTACCGTAAAATATCTGGTAAGCTGTTAACATTGCTAGAATGTTCATTGACAGGTACGTTGTATGTCTATCAAGGTCAGGAGATAGGCCAGATCAATTTCAAGGAATGGCCTATTGAAAAGTATGAGGACGTTGATGTGAAAAACAACTACGAGATTATCAAAAAAAGTTTTGGTAAAAACTCGAAGGAAATGAAGGATTTTTTTAAAGGAATCGCCCTACTTTCTAGAGATCATTCGAGAACTCCCATGCCATGGACGAAAGATAAGCCCAATGCTGGATTTACTGGCCCAGATGTTAAACCTTGGTTTCTCTTGAATGAATCTTTCGAGCAAGGAATCAATGTTGAGCAGGAATCCAGAGATGATGACTCAGTTCTCAATTTTTGGAAAAGGGCCTTGCAAGCCAGAAAGAAATATAAGGAACTTATGATTTATGGTTACGATTTCCAATTCATTGATTTAGACAGTGACCAGATCTTTAGCTTCACTAAAGAGTACGAAGACAAGACGCTGTTTGCTGCTTTAAATTTCAGTGGCGAAGAAATTGAATTCAGCCTCCCAAGAGAAGGTGCTTCTTTATCTTTTATTCTTGGAAATTATGATGATACTGACGTTTCCTCCAGAGTTTTGAAACCATGGGAAGGTAGAATCTACCTCGTCAAATAA\n"
     ]
    }
   ],
   "source": [
    "BY4741_orfs = './BY4741_all_CDS.fasta'\n",
    "# import a file containing BY4741 cds sequences, retrieved from SGD\n",
    "\n",
    "orf_dict ={}\n",
    "# a dictionnary for orf sequences\n",
    "\n",
    "with open(BY4741_orfs, 'r') as orf_fasta:\n",
    "    \n",
    "    for line in orf_fasta:\n",
    "        \n",
    "        if line.startswith('>') == True:\n",
    "            \n",
    "            orf_info = line.split(' ')\n",
    "            orf_name = orf_info[0].strip('_BY4741').strip('>')\n",
    "\n",
    "            \n",
    "            orf_dict[orf_name] = ''\n",
    "            \n",
    "        else:\n",
    "        \n",
    "            orf_dict[orf_name] += line.strip('\\n')\n",
    "# loops through the fasta file and store sequence info\n",
    "            \n",
    "print len(orf_dict.keys())\n",
    "            \n",
    "for seq_name, seq in orf_dict.items():\n",
    "    \n",
    "    if 'N' in seq:\n",
    "        \n",
    "        del orf_dict[seq_name]\n",
    "# remove all sequences with Ns\n",
    "        \n",
    "print len(orf_dict.keys())\n",
    "print orf_dict['YGR292W']\n",
    "# test function"
   ]
  },
  {
   "cell_type": "code",
   "execution_count": 9,
   "metadata": {},
   "outputs": [
    {
     "name": "stdout",
     "output_type": "stream",
     "text": [
      "chrI_55603r\n"
     ]
    },
    {
     "data": {
      "text/plain": [
       "['GGAGAGCTACATCAATGACT',\n",
       " 'GGATAGCTACATCAATGACT',\n",
       " 'GGACAGGTACATCAATGACT',\n",
       " 'GGACAGTTACATCAATGACT']"
      ]
     },
     "execution_count": 9,
     "metadata": {},
     "output_type": "execute_result"
    }
   ],
   "source": [
    "#mutations are C>G and C>T (+ strand) and G>A and G>C (- strand)\n",
    "\n",
    "mutation_priority = [2,3,1,4,0,5,6]\n",
    "# encode target-AID activity as a ranking (position 18>17>19>16>20>15>14)\n",
    "# modified 21-10-2019 to include position 20 which was left out in the previous model\n",
    "\n",
    "def mutate_guide(guide):\n",
    "    \"\"\" predict possible mutations created by a gRNA\n",
    "    guide: gRNA id in table\n",
    "    \"\"\"\n",
    "   \n",
    "    mutant_list = []\n",
    "    # list of mutants\n",
    "    \n",
    "    guide_line = chip_table.loc[guide]\n",
    "    \n",
    "    for pos_in_guide in mutation_priority:\n",
    "        guide_seq = [x for x in guide_line['sequence']]\n",
    "        \n",
    "        # loops through nucleotides in guide sequence following Target-AID activity ranking\n",
    "              \n",
    "        if len(mutant_list) < 4:\n",
    "            # only look at the 2 most probable mutated positions\n",
    "        \n",
    "            if guide_seq[pos_in_guide] == 'C':\n",
    "\n",
    "                guide_seq[pos_in_guide] = 'G'\n",
    "\n",
    "                mutant_list.append(''.join(guide_seq))\n",
    "\n",
    "                guide_seq[pos_in_guide] = 'T'\n",
    "\n",
    "                mutant_list.append(''.join(guide_seq))\n",
    "                \n",
    "                # create C to G and C to T mutants of the guide sequence\n",
    "    \n",
    "    return mutant_list\n",
    "    # return a list of mutant guide sequences\n",
    "\n",
    "print chip_table.index[1]\n",
    "\n",
    "mutate_guide('chrI_55603r')\n",
    "# test function"
   ]
  },
  {
   "cell_type": "code",
   "execution_count": 10,
   "metadata": {},
   "outputs": [],
   "source": [
    "mutation_in_guides_dict = {}\n",
    "\n",
    "for guide in chip_table.index:\n",
    "    \n",
    "    mutation_in_guides_dict[guide] = mutate_guide(guide)\n",
    "# loop through all gRNAs and get mutant guide seuqence, stored in a dict"
   ]
  },
  {
   "cell_type": "code",
   "execution_count": 11,
   "metadata": {
    "scrolled": true
   },
   "outputs": [
    {
     "data": {
      "text/plain": [
       "(array([14336.,     0.,     0.,     0.,     0.,     0.,     0.,     0.,\n",
       "            0., 25642.]),\n",
       " array([2. , 2.2, 2.4, 2.6, 2.8, 3. , 3.2, 3.4, 3.6, 3.8, 4. ]),\n",
       " <a list of 10 Patch objects>)"
      ]
     },
     "execution_count": 11,
     "metadata": {},
     "output_type": "execute_result"
    },
    {
     "data": {
      "image/png": "[encoded data removed]",
      "text/plain": [
       "<Figure size 432x288 with 1 Axes>"
      ]
     },
     "metadata": {
      "needs_background": "light"
     },
     "output_type": "display_data"
    }
   ],
   "source": [
    "plt.hist([len(x) for x in mutation_in_guides_dict.values()])\n",
    "# more guides with multiple possible sites"
   ]
  },
  {
   "cell_type": "code",
   "execution_count": 12,
   "metadata": {},
   "outputs": [
    {
     "data": {
      "text/plain": [
       "{0: 'D|412|E',\n",
       " 1: 'silent|GAC>GAT|D|412',\n",
       " 2: 'S|413|R',\n",
       " 3: 'silent|AGC>AGT|S|413'}"
      ]
     },
     "execution_count": 12,
     "metadata": {},
     "output_type": "execute_result"
    }
   ],
   "source": [
    "def mutation_in_prot(guide):\n",
    "    \"\"\" Function that will predict possible mutations in the protein sequence of an ORF that will be induced by\n",
    "    Target-AID mutagenesis\n",
    "    \"\"\"\n",
    "    \n",
    "    mutations_in_prot_dict = {0: np.NaN,\n",
    "                              1: np.NaN,\n",
    "                              2: np.NaN,\n",
    "                              3: np.NaN}\n",
    "    # empty containers\n",
    "    \n",
    "    orf = chip_table.loc[guide]['target']\n",
    "    strand = chip_table.loc[guide]['strand']\n",
    "    guide_seq = chip_table.loc[guide]['sequence']\n",
    "    # get guide params\n",
    "    \n",
    "    if strand == '-':\n",
    "        guide_seq = reverse_complement(guide_seq)\n",
    "        # check strand, rc if necessary\n",
    "    \n",
    "    if orf in orf_dict.keys():\n",
    "        \n",
    "        mutated_guides = mutation_in_guides_dict[guide]\n",
    "        \n",
    "        cds = orf_dict[orf]\n",
    "        \n",
    "        \n",
    "        mut_index = 0\n",
    "        \n",
    "        for guide_mut in mutated_guides:\n",
    "            \n",
    "            if strand == '-':\n",
    "                \n",
    "                guide_mut = reverse_complement(guide_mut)\n",
    "                \n",
    "            mut_orf = cds.replace(guide_seq, guide_mut)\n",
    "            \n",
    "            wt_prot = prot_translation(cds)\n",
    "            \n",
    "            mut_prot = prot_translation(mut_orf)\n",
    "            \n",
    "            mut_aa_pos = [i for i in xrange(len(wt_prot)) if wt_prot[i] != mut_prot[i]]\n",
    "\n",
    "\n",
    "            if mut_aa_pos == []:\n",
    "                \n",
    "                if guide_seq not in cds:\n",
    "                    \n",
    "                    out = 'error'\n",
    "                    # if the guide sequence cannot be found in the cds, return an error\n",
    "                    \n",
    "                else:\n",
    "                \n",
    "                    guide_pos = cds.index(guide_seq)\n",
    "\n",
    "                    #print guide_pos\n",
    "\n",
    "                    mut_nt_pos = 0\n",
    "\n",
    "                    for nt in range(0,20):\n",
    "\n",
    "                        if guide_seq[nt] != guide_mut[nt]:\n",
    "\n",
    "                            mut_nt_pos = nt\n",
    "\n",
    "\n",
    "                    mut_dna_pos = guide_pos + mut_nt_pos\n",
    "\n",
    "                    codon_in_prot = mut_dna_pos/3\n",
    "\n",
    "\n",
    "                    mut_orf = cds.replace(guide_seq, guide_mut)\n",
    "\n",
    "                    orignal_codon = cds[(codon_in_prot*3):((codon_in_prot*3)+3)]\n",
    "\n",
    "\n",
    "                    mut_codon = mut_orf[(codon_in_prot*3):((codon_in_prot*3)+3)]\n",
    "\n",
    "\n",
    "                    out = 'silent' + '|'+ orignal_codon + '>' + mut_codon +'|' + wt_prot[codon_in_prot] + '|' + str(codon_in_prot+1)\n",
    "                    # output for silent mutations\n",
    "                \n",
    "            else:\n",
    "                wt_res = wt_prot[mut_aa_pos[0]]\n",
    "                mut_res = mut_prot[mut_aa_pos[0]]\n",
    "                \n",
    "                out = wt_res + '|' + str(mut_aa_pos[0]+1) + '|' + mut_res\n",
    "                # output for non-synonymous or non-sense mutations\n",
    "                \n",
    "            mutations_in_prot_dict[mut_index] = out\n",
    "            \n",
    "            mut_index += 1\n",
    "            \n",
    "            \n",
    "            #####\n",
    "            \n",
    "    else:\n",
    "        \n",
    "        mutations_in_prot_dict = {0: 'invalid seq',\n",
    "                                  1: 'invalid seq',\n",
    "                                  2: 'invalid seq',\n",
    "                                  3: 'invalid seq'}\n",
    "        # if sequence not present in orf dicts or contains errors, return error in annotation\n",
    "        \n",
    "    return mutations_in_prot_dict\n",
    "\n",
    "mutation_in_prot('chrI_55603r')\n",
    "# output example"
   ]
  },
  {
   "cell_type": "code",
   "execution_count": 13,
   "metadata": {},
   "outputs": [],
   "source": [
    "chip_table['mut1_C>G'] = np.nan\n",
    "chip_table['mut1_C>G'] = chip_table['mut1_C>G'].astype('str')\n",
    "\n",
    "\n",
    "chip_table['mut1_C>T'] = np.nan\n",
    "chip_table['mut1_C>T'] = chip_table['mut1_C>T'].astype('str')\n",
    "\n",
    "chip_table['mut2_C>G'] = np.nan\n",
    "chip_table['mut2_C>G'] = chip_table['mut2_C>G'].astype('str')\n",
    "\n",
    "\n",
    "chip_table['mut2_C>T'] = np.nan\n",
    "chip_table['mut2_C>T'] = chip_table['mut2_C>T'].astype('str')\n",
    "\n",
    "\n",
    "\n",
    "\n",
    "for guide in chip_table.index:\n",
    "    \n",
    "    mutate = mutation_in_prot(guide)\n",
    "    \n",
    "    chip_table.at[guide, ('mut1_C>G')] = mutate[0]\n",
    "    chip_table.at[guide, ('mut1_C>T')] = mutate[1]\n",
    "    chip_table.at[guide, ('mut2_C>G')] = mutate[2]\n",
    "    chip_table.at[guide, ('mut2_C>T')] = mutate[3]\n",
    "    \n",
    "# make columns and update table with the predicted mutations"
   ]
  },
  {
   "cell_type": "code",
   "execution_count": 14,
   "metadata": {
    "scrolled": true
   },
   "outputs": [
    {
     "data": {
      "text/html": [
       "<div>\n",
       "<style scoped>\n",
       "    .dataframe tbody tr th:only-of-type {\n",
       "        vertical-align: middle;\n",
       "    }\n",
       "\n",
       "    .dataframe tbody tr th {\n",
       "        vertical-align: top;\n",
       "    }\n",
       "\n",
       "    .dataframe thead th {\n",
       "        text-align: right;\n",
       "    }\n",
       "</style>\n",
       "<table border=\"1\" class=\"dataframe\">\n",
       "  <thead>\n",
       "    <tr style=\"text-align: right;\">\n",
       "      <th></th>\n",
       "      <th>number</th>\n",
       "      <th>orf_type</th>\n",
       "      <th>target</th>\n",
       "      <th>position</th>\n",
       "      <th>strand</th>\n",
       "      <th>sequence</th>\n",
       "      <th>mut1_C&gt;G</th>\n",
       "      <th>mut1_C&gt;T</th>\n",
       "      <th>mut2_C&gt;G</th>\n",
       "      <th>mut2_C&gt;T</th>\n",
       "    </tr>\n",
       "    <tr>\n",
       "      <th>guide_name</th>\n",
       "      <th></th>\n",
       "      <th></th>\n",
       "      <th></th>\n",
       "      <th></th>\n",
       "      <th></th>\n",
       "      <th></th>\n",
       "      <th></th>\n",
       "      <th></th>\n",
       "      <th></th>\n",
       "      <th></th>\n",
       "    </tr>\n",
       "  </thead>\n",
       "  <tbody>\n",
       "    <tr>\n",
       "      <th>chrI_55522r</th>\n",
       "      <td>0</td>\n",
       "      <td>high_effect</td>\n",
       "      <td>YAL047C</td>\n",
       "      <td>1313</td>\n",
       "      <td>+</td>\n",
       "      <td>TCAGTTAGACAAATTAGACT</td>\n",
       "      <td>Q|439|E</td>\n",
       "      <td>Q|439|*</td>\n",
       "      <td>NaN</td>\n",
       "      <td>NaN</td>\n",
       "    </tr>\n",
       "    <tr>\n",
       "      <th>chrI_55603r</th>\n",
       "      <td>1</td>\n",
       "      <td>high_effect</td>\n",
       "      <td>YAL047C</td>\n",
       "      <td>1232</td>\n",
       "      <td>+</td>\n",
       "      <td>GGACAGCTACATCAATGACT</td>\n",
       "      <td>D|412|E</td>\n",
       "      <td>silent|GAC&gt;GAT|D|412</td>\n",
       "      <td>S|413|R</td>\n",
       "      <td>silent|AGC&gt;AGT|S|413</td>\n",
       "    </tr>\n",
       "    <tr>\n",
       "      <th>chrI_55655</th>\n",
       "      <td>2</td>\n",
       "      <td>high_effect</td>\n",
       "      <td>YAL047C</td>\n",
       "      <td>1183</td>\n",
       "      <td>-</td>\n",
       "      <td>GGTCTGAGTTTCCAGTTCTT</td>\n",
       "      <td>Q|400|H</td>\n",
       "      <td>silent|CAG&gt;CAA|Q|400</td>\n",
       "      <td>NaN</td>\n",
       "      <td>NaN</td>\n",
       "    </tr>\n",
       "    <tr>\n",
       "      <th>chrI_55964</th>\n",
       "      <td>3</td>\n",
       "      <td>high_effect</td>\n",
       "      <td>YAL047C</td>\n",
       "      <td>874</td>\n",
       "      <td>-</td>\n",
       "      <td>AATCTCTAATTGAGTGTCTA</td>\n",
       "      <td>E|297|D</td>\n",
       "      <td>silent|GAG&gt;GAA|E|297</td>\n",
       "      <td>E|297|Q</td>\n",
       "      <td>E|297|K</td>\n",
       "    </tr>\n",
       "    <tr>\n",
       "      <th>chrI_55988</th>\n",
       "      <td>4</td>\n",
       "      <td>high_effect</td>\n",
       "      <td>YAL047C</td>\n",
       "      <td>850</td>\n",
       "      <td>-</td>\n",
       "      <td>TTTCTCAAAACGAGACTCGA</td>\n",
       "      <td>E|289|D</td>\n",
       "      <td>silent|GAG&gt;GAA|E|289</td>\n",
       "      <td>E|289|Q</td>\n",
       "      <td>E|289|K</td>\n",
       "    </tr>\n",
       "    <tr>\n",
       "      <th>chrI_56003</th>\n",
       "      <td>5</td>\n",
       "      <td>high_effect</td>\n",
       "      <td>YAL047C</td>\n",
       "      <td>835</td>\n",
       "      <td>-</td>\n",
       "      <td>CTCGACGGCTGAAATTGGTA</td>\n",
       "      <td>E|285|Q</td>\n",
       "      <td>E|285|K</td>\n",
       "      <td>E|285|D</td>\n",
       "      <td>silent|GAG&gt;GAA|E|285</td>\n",
       "    </tr>\n",
       "    <tr>\n",
       "      <th>chrI_56041</th>\n",
       "      <td>6</td>\n",
       "      <td>high_effect</td>\n",
       "      <td>YAL047C</td>\n",
       "      <td>797</td>\n",
       "      <td>-</td>\n",
       "      <td>TTACATTTTCTGTATCAATG</td>\n",
       "      <td>V|272|L</td>\n",
       "      <td>V|272|I</td>\n",
       "      <td>NaN</td>\n",
       "      <td>NaN</td>\n",
       "    </tr>\n",
       "    <tr>\n",
       "      <th>chrI_56071</th>\n",
       "      <td>7</td>\n",
       "      <td>high_effect</td>\n",
       "      <td>YAL047C</td>\n",
       "      <td>767</td>\n",
       "      <td>-</td>\n",
       "      <td>TGTCATGAATTTCGTCATTC</td>\n",
       "      <td>D|262|H</td>\n",
       "      <td>D|262|N</td>\n",
       "      <td>NaN</td>\n",
       "      <td>NaN</td>\n",
       "    </tr>\n",
       "    <tr>\n",
       "      <th>chrI_56113r</th>\n",
       "      <td>8</td>\n",
       "      <td>high_effect</td>\n",
       "      <td>YAL047C</td>\n",
       "      <td>722</td>\n",
       "      <td>+</td>\n",
       "      <td>GGACTCACCATCAAGTAAAG</td>\n",
       "      <td>D|242|E</td>\n",
       "      <td>silent|GAC&gt;GAT|D|242</td>\n",
       "      <td>S|243|*</td>\n",
       "      <td>S|243|L</td>\n",
       "    </tr>\n",
       "    <tr>\n",
       "      <th>chrI_56144</th>\n",
       "      <td>9</td>\n",
       "      <td>high_effect</td>\n",
       "      <td>YAL047C</td>\n",
       "      <td>694</td>\n",
       "      <td>-</td>\n",
       "      <td>TAACTGTGATCCTGCTGGTG</td>\n",
       "      <td>Q|237|H</td>\n",
       "      <td>silent|CAG&gt;CAA|Q|237</td>\n",
       "      <td>NaN</td>\n",
       "      <td>NaN</td>\n",
       "    </tr>\n",
       "  </tbody>\n",
       "</table>\n",
       "</div>"
      ],
      "text/plain": [
       "             number     orf_type   target  position strand  \\\n",
       "guide_name                                                   \n",
       "chrI_55522r       0  high_effect  YAL047C      1313      +   \n",
       "chrI_55603r       1  high_effect  YAL047C      1232      +   \n",
       "chrI_55655        2  high_effect  YAL047C      1183      -   \n",
       "chrI_55964        3  high_effect  YAL047C       874      -   \n",
       "chrI_55988        4  high_effect  YAL047C       850      -   \n",
       "chrI_56003        5  high_effect  YAL047C       835      -   \n",
       "chrI_56041        6  high_effect  YAL047C       797      -   \n",
       "chrI_56071        7  high_effect  YAL047C       767      -   \n",
       "chrI_56113r       8  high_effect  YAL047C       722      +   \n",
       "chrI_56144        9  high_effect  YAL047C       694      -   \n",
       "\n",
       "                         sequence mut1_C>G              mut1_C>T mut2_C>G  \\\n",
       "guide_name                                                                  \n",
       "chrI_55522r  TCAGTTAGACAAATTAGACT  Q|439|E               Q|439|*      NaN   \n",
       "chrI_55603r  GGACAGCTACATCAATGACT  D|412|E  silent|GAC>GAT|D|412  S|413|R   \n",
       "chrI_55655   GGTCTGAGTTTCCAGTTCTT  Q|400|H  silent|CAG>CAA|Q|400      NaN   \n",
       "chrI_55964   AATCTCTAATTGAGTGTCTA  E|297|D  silent|GAG>GAA|E|297  E|297|Q   \n",
       "chrI_55988   TTTCTCAAAACGAGACTCGA  E|289|D  silent|GAG>GAA|E|289  E|289|Q   \n",
       "chrI_56003   CTCGACGGCTGAAATTGGTA  E|285|Q               E|285|K  E|285|D   \n",
       "chrI_56041   TTACATTTTCTGTATCAATG  V|272|L               V|272|I      NaN   \n",
       "chrI_56071   TGTCATGAATTTCGTCATTC  D|262|H               D|262|N      NaN   \n",
       "chrI_56113r  GGACTCACCATCAAGTAAAG  D|242|E  silent|GAC>GAT|D|242  S|243|*   \n",
       "chrI_56144   TAACTGTGATCCTGCTGGTG  Q|237|H  silent|CAG>CAA|Q|237      NaN   \n",
       "\n",
       "                         mut2_C>T  \n",
       "guide_name                         \n",
       "chrI_55522r                   NaN  \n",
       "chrI_55603r  silent|AGC>AGT|S|413  \n",
       "chrI_55655                    NaN  \n",
       "chrI_55964                E|297|K  \n",
       "chrI_55988                E|289|K  \n",
       "chrI_56003   silent|GAG>GAA|E|285  \n",
       "chrI_56041                    NaN  \n",
       "chrI_56071                    NaN  \n",
       "chrI_56113r               S|243|L  \n",
       "chrI_56144                    NaN  "
      ]
     },
     "execution_count": 14,
     "metadata": {},
     "output_type": "execute_result"
    }
   ],
   "source": [
    "del chip_table['mutations']\n",
    "# remove the old annotation format from the chip design script\n",
    "chip_table.head(10)"
   ]
  },
  {
   "cell_type": "markdown",
   "metadata": {},
   "source": [
    "## Annotate with protein information from SGD"
   ]
  },
  {
   "cell_type": "code",
   "execution_count": 15,
   "metadata": {},
   "outputs": [
    {
     "name": "stdout",
     "output_type": "stream",
     "text": [
      "['hr' 'min']\n",
      "[('YBR177C', 462.0), ('YIL140W', 102.0), ('YLR268W', 600.0), ('YPL043W', 360.0), ('YJL155C', 606.0), ('YIR004W', 510.0), ('YMR111C', 432.0), ('YBR255W', 726.0), ('YJL122W', 330.0), ('YIL034C', 612.0)]\n"
     ]
    },
    {
     "data": {
      "text/html": [
       "<div>\n",
       "<style scoped>\n",
       "    .dataframe tbody tr th:only-of-type {\n",
       "        vertical-align: middle;\n",
       "    }\n",
       "\n",
       "    .dataframe tbody tr th {\n",
       "        vertical-align: top;\n",
       "    }\n",
       "\n",
       "    .dataframe thead th {\n",
       "        text-align: right;\n",
       "    }\n",
       "</style>\n",
       "<table border=\"1\" class=\"dataframe\">\n",
       "  <thead>\n",
       "    <tr style=\"text-align: right;\">\n",
       "      <th></th>\n",
       "      <th>stan_name</th>\n",
       "      <th>name</th>\n",
       "      <th>half_life_val</th>\n",
       "      <th>half_life_unit</th>\n",
       "      <th>hydropath</th>\n",
       "      <th>codon_adapt_index</th>\n",
       "      <th>codon_bias</th>\n",
       "      <th>instability_index</th>\n",
       "      <th>freq_opt_codon</th>\n",
       "      <th>length</th>\n",
       "      <th>aliphatic_index</th>\n",
       "      <th>aromaticity</th>\n",
       "      <th>mol_weigth</th>\n",
       "      <th>half_life_min</th>\n",
       "    </tr>\n",
       "  </thead>\n",
       "  <tbody>\n",
       "    <tr>\n",
       "      <th>Q0045</th>\n",
       "      <td>COX1</td>\n",
       "      <td>Cytochrome c OXidase</td>\n",
       "      <td>10000.0</td>\n",
       "      <td>hr</td>\n",
       "      <td>0.74</td>\n",
       "      <td>0.14</td>\n",
       "      <td>0.63</td>\n",
       "      <td>27.72</td>\n",
       "      <td>0.74</td>\n",
       "      <td>534</td>\n",
       "      <td>111.72</td>\n",
       "      <td>0.15</td>\n",
       "      <td>58795.3</td>\n",
       "      <td>600000</td>\n",
       "    </tr>\n",
       "    <tr>\n",
       "      <th>Q0140</th>\n",
       "      <td>VAR1</td>\n",
       "      <td>NaN</td>\n",
       "      <td>10.8</td>\n",
       "      <td>hr</td>\n",
       "      <td>-0.79</td>\n",
       "      <td>0.09</td>\n",
       "      <td>-0.17</td>\n",
       "      <td>41.68</td>\n",
       "      <td>0.30</td>\n",
       "      <td>398</td>\n",
       "      <td>81.18</td>\n",
       "      <td>0.09</td>\n",
       "      <td>47155.2</td>\n",
       "      <td>648</td>\n",
       "    </tr>\n",
       "    <tr>\n",
       "      <th>Q0250</th>\n",
       "      <td>COX2</td>\n",
       "      <td>Cytochrome c OXidase</td>\n",
       "      <td>10.1</td>\n",
       "      <td>hr</td>\n",
       "      <td>0.35</td>\n",
       "      <td>0.19</td>\n",
       "      <td>0.44</td>\n",
       "      <td>36.99</td>\n",
       "      <td>0.61</td>\n",
       "      <td>251</td>\n",
       "      <td>107.88</td>\n",
       "      <td>0.12</td>\n",
       "      <td>28550.2</td>\n",
       "      <td>606</td>\n",
       "    </tr>\n",
       "    <tr>\n",
       "      <th>R0020C</th>\n",
       "      <td>REP1</td>\n",
       "      <td>REPlication</td>\n",
       "      <td>6.4</td>\n",
       "      <td>hr</td>\n",
       "      <td>-0.46</td>\n",
       "      <td>0.10</td>\n",
       "      <td>-0.07</td>\n",
       "      <td>39.72</td>\n",
       "      <td>0.41</td>\n",
       "      <td>373</td>\n",
       "      <td>76.05</td>\n",
       "      <td>0.11</td>\n",
       "      <td>43224.5</td>\n",
       "      <td>384</td>\n",
       "    </tr>\n",
       "    <tr>\n",
       "      <th>R0040C</th>\n",
       "      <td>REP2</td>\n",
       "      <td>REPlication</td>\n",
       "      <td>3.3</td>\n",
       "      <td>hr</td>\n",
       "      <td>-0.52</td>\n",
       "      <td>0.11</td>\n",
       "      <td>0.04</td>\n",
       "      <td>55.44</td>\n",
       "      <td>0.45</td>\n",
       "      <td>296</td>\n",
       "      <td>82.06</td>\n",
       "      <td>0.04</td>\n",
       "      <td>33201.5</td>\n",
       "      <td>198</td>\n",
       "    </tr>\n",
       "    <tr>\n",
       "      <th>YAL001C</th>\n",
       "      <td>TFC3</td>\n",
       "      <td>Transcription Factor class C</td>\n",
       "      <td>6.9</td>\n",
       "      <td>hr</td>\n",
       "      <td>-0.51</td>\n",
       "      <td>0.12</td>\n",
       "      <td>-0.03</td>\n",
       "      <td>31.78</td>\n",
       "      <td>0.42</td>\n",
       "      <td>1160</td>\n",
       "      <td>83.17</td>\n",
       "      <td>0.08</td>\n",
       "      <td>132146.8</td>\n",
       "      <td>414</td>\n",
       "    </tr>\n",
       "    <tr>\n",
       "      <th>YAL003W</th>\n",
       "      <td>EFB1</td>\n",
       "      <td>Elongation Factor Beta</td>\n",
       "      <td>9.7</td>\n",
       "      <td>hr</td>\n",
       "      <td>-0.42</td>\n",
       "      <td>0.76</td>\n",
       "      <td>0.78</td>\n",
       "      <td>41.79</td>\n",
       "      <td>0.88</td>\n",
       "      <td>206</td>\n",
       "      <td>72.18</td>\n",
       "      <td>0.08</td>\n",
       "      <td>22603.0</td>\n",
       "      <td>582</td>\n",
       "    </tr>\n",
       "    <tr>\n",
       "      <th>YAL005C</th>\n",
       "      <td>SSA1</td>\n",
       "      <td>Stress-Seventy subfamily A</td>\n",
       "      <td>20.2</td>\n",
       "      <td>hr</td>\n",
       "      <td>-0.44</td>\n",
       "      <td>0.71</td>\n",
       "      <td>0.80</td>\n",
       "      <td>31.90</td>\n",
       "      <td>0.89</td>\n",
       "      <td>642</td>\n",
       "      <td>78.82</td>\n",
       "      <td>0.06</td>\n",
       "      <td>69636.8</td>\n",
       "      <td>1212</td>\n",
       "    </tr>\n",
       "    <tr>\n",
       "      <th>YAL007C</th>\n",
       "      <td>ERP2</td>\n",
       "      <td>Emp24p/Erv25p Related Protein</td>\n",
       "      <td>10.5</td>\n",
       "      <td>hr</td>\n",
       "      <td>0.15</td>\n",
       "      <td>0.23</td>\n",
       "      <td>0.25</td>\n",
       "      <td>33.28</td>\n",
       "      <td>0.59</td>\n",
       "      <td>215</td>\n",
       "      <td>104.56</td>\n",
       "      <td>0.10</td>\n",
       "      <td>24058.8</td>\n",
       "      <td>630</td>\n",
       "    </tr>\n",
       "    <tr>\n",
       "      <th>YAL009W</th>\n",
       "      <td>SPO7</td>\n",
       "      <td>SPOrulation</td>\n",
       "      <td>14.4</td>\n",
       "      <td>hr</td>\n",
       "      <td>-0.32</td>\n",
       "      <td>0.11</td>\n",
       "      <td>0.02</td>\n",
       "      <td>51.52</td>\n",
       "      <td>0.45</td>\n",
       "      <td>259</td>\n",
       "      <td>79.54</td>\n",
       "      <td>0.12</td>\n",
       "      <td>30130.0</td>\n",
       "      <td>864</td>\n",
       "    </tr>\n",
       "  </tbody>\n",
       "</table>\n",
       "</div>"
      ],
      "text/plain": [
       "        stan_name                           name  half_life_val  \\\n",
       "Q0045        COX1           Cytochrome c OXidase        10000.0   \n",
       "Q0140        VAR1                            NaN           10.8   \n",
       "Q0250        COX2           Cytochrome c OXidase           10.1   \n",
       "R0020C       REP1                    REPlication            6.4   \n",
       "R0040C       REP2                    REPlication            3.3   \n",
       "YAL001C      TFC3   Transcription Factor class C            6.9   \n",
       "YAL003W      EFB1         Elongation Factor Beta            9.7   \n",
       "YAL005C      SSA1     Stress-Seventy subfamily A           20.2   \n",
       "YAL007C      ERP2  Emp24p/Erv25p Related Protein           10.5   \n",
       "YAL009W      SPO7                    SPOrulation           14.4   \n",
       "\n",
       "        half_life_unit  hydropath  codon_adapt_index  codon_bias  \\\n",
       "Q0045               hr       0.74               0.14        0.63   \n",
       "Q0140               hr      -0.79               0.09       -0.17   \n",
       "Q0250               hr       0.35               0.19        0.44   \n",
       "R0020C              hr      -0.46               0.10       -0.07   \n",
       "R0040C              hr      -0.52               0.11        0.04   \n",
       "YAL001C             hr      -0.51               0.12       -0.03   \n",
       "YAL003W             hr      -0.42               0.76        0.78   \n",
       "YAL005C             hr      -0.44               0.71        0.80   \n",
       "YAL007C             hr       0.15               0.23        0.25   \n",
       "YAL009W             hr      -0.32               0.11        0.02   \n",
       "\n",
       "         instability_index  freq_opt_codon  length  aliphatic_index  \\\n",
       "Q0045                27.72            0.74     534           111.72   \n",
       "Q0140                41.68            0.30     398            81.18   \n",
       "Q0250                36.99            0.61     251           107.88   \n",
       "R0020C               39.72            0.41     373            76.05   \n",
       "R0040C               55.44            0.45     296            82.06   \n",
       "YAL001C              31.78            0.42    1160            83.17   \n",
       "YAL003W              41.79            0.88     206            72.18   \n",
       "YAL005C              31.90            0.89     642            78.82   \n",
       "YAL007C              33.28            0.59     215           104.56   \n",
       "YAL009W              51.52            0.45     259            79.54   \n",
       "\n",
       "         aromaticity  mol_weigth half_life_min  \n",
       "Q0045           0.15     58795.3        600000  \n",
       "Q0140           0.09     47155.2           648  \n",
       "Q0250           0.12     28550.2           606  \n",
       "R0020C          0.11     43224.5           384  \n",
       "R0040C          0.04     33201.5           198  \n",
       "YAL001C         0.08    132146.8           414  \n",
       "YAL003W         0.08     22603.0           582  \n",
       "YAL005C         0.06     69636.8          1212  \n",
       "YAL007C         0.10     24058.8           630  \n",
       "YAL009W         0.12     30130.0           864  "
      ]
     },
     "execution_count": 15,
     "metadata": {},
     "output_type": "execute_result"
    }
   ],
   "source": [
    "# Prep the data\n",
    "\n",
    "protein_prop_table = pd.read_csv('./external_databases/SGD_export2.tsv', sep = '\\t', index_col=0, header=None, \n",
    "                                 names = ['stan_name','name', 'half_life_val', 'half_life_unit', 'hydropath', \n",
    "                                          'codon_adapt_index', 'codon_bias', 'instability_index', \n",
    "                                          'freq_opt_codon', 'length', 'aliphatic_index','aromaticity', \n",
    "                                          'mol_weigth'])\n",
    "# get data from SGD, put in the table. Not all info is used in the data analysis\n",
    "\n",
    "\n",
    "protein_prop_table.head(10)\n",
    "\n",
    "orf_half_life_mins_dict = {}\n",
    "\n",
    "print protein_prop_table['half_life_unit'].unique()\n",
    "\n",
    "for orf in protein_prop_table.index:\n",
    "    \n",
    "    if protein_prop_table.loc[orf]['half_life_unit'] == 'hr':\n",
    "        \n",
    "        orf_half_life_mins_dict[orf] = protein_prop_table.loc[orf]['half_life_val']*60\n",
    "        \n",
    "    elif protein_prop_table.loc[orf]['half_life_unit'] == 'min':\n",
    "        \n",
    "        orf_half_life_mins_dict[orf] = protein_prop_table.loc[orf]['half_life_val']\n",
    "        \n",
    "    else:\n",
    "        orf_half_life_mins_dict[orf] = np.NaN\n",
    "        \n",
    "# convert half life to min if in hourse\n",
    "\n",
    "print orf_half_life_mins_dict.items()[0:10]\n",
    "\n",
    "\n",
    "protein_prop_table['half_life_min'] = np.nan\n",
    "protein_prop_table['half_life_min'] = protein_prop_table['half_life_min'].astype('object')\n",
    "\n",
    "prot_in_index = protein_prop_table.index\n",
    "\n",
    "for orf in protein_prop_table.index:\n",
    "\n",
    "    protein_prop_table.at[orf, ('half_life_min')] = orf_half_life_mins_dict[orf]\n",
    "    \n",
    "# add info to table \n",
    "    \n",
    "protein_prop_table.head(10)\n"
   ]
  },
  {
   "cell_type": "code",
   "execution_count": 16,
   "metadata": {},
   "outputs": [
    {
     "name": "stderr",
     "output_type": "stream",
     "text": [
      "100%|██████████| 14/14 [02:27<00:00, 10.53s/it]\n"
     ]
    }
   ],
   "source": [
    "var_list = ['stan_name','name', 'half_life_val', 'half_life_unit', 'half_life_min' ,'hydropath', 'codon_adapt_index',\n",
    "            'codon_bias', 'instability_index', 'freq_opt_codon', 'length', 'aliphatic_index', 'aromaticity', 'mol_weigth']\n",
    "\n",
    "for variable in tqdm(var_list):\n",
    "    chip_table[variable] = np.nan\n",
    "    chip_table[variable] = chip_table[variable].astype('object')\n",
    "    \n",
    "    for gene in chip_table.index:\n",
    "        target = chip_table.loc[gene]['target']\n",
    "\n",
    "        if target in prot_in_index:  \n",
    "            chip_table.at[gene, (variable)] = protein_prop_table.loc[target][variable]\n",
    "\n",
    "\n",
    "# annotate table with new information"
   ]
  },
  {
   "cell_type": "code",
   "execution_count": 17,
   "metadata": {},
   "outputs": [
    {
     "data": {
      "text/html": [
       "<div>\n",
       "<style scoped>\n",
       "    .dataframe tbody tr th:only-of-type {\n",
       "        vertical-align: middle;\n",
       "    }\n",
       "\n",
       "    .dataframe tbody tr th {\n",
       "        vertical-align: top;\n",
       "    }\n",
       "\n",
       "    .dataframe thead th {\n",
       "        text-align: right;\n",
       "    }\n",
       "</style>\n",
       "<table border=\"1\" class=\"dataframe\">\n",
       "  <thead>\n",
       "    <tr style=\"text-align: right;\">\n",
       "      <th></th>\n",
       "      <th>number</th>\n",
       "      <th>orf_type</th>\n",
       "      <th>target</th>\n",
       "      <th>position</th>\n",
       "      <th>strand</th>\n",
       "      <th>sequence</th>\n",
       "      <th>mut1_C&gt;G</th>\n",
       "      <th>mut1_C&gt;T</th>\n",
       "      <th>mut2_C&gt;G</th>\n",
       "      <th>mut2_C&gt;T</th>\n",
       "      <th>...</th>\n",
       "      <th>half_life_min</th>\n",
       "      <th>hydropath</th>\n",
       "      <th>codon_adapt_index</th>\n",
       "      <th>codon_bias</th>\n",
       "      <th>instability_index</th>\n",
       "      <th>freq_opt_codon</th>\n",
       "      <th>length</th>\n",
       "      <th>aliphatic_index</th>\n",
       "      <th>aromaticity</th>\n",
       "      <th>mol_weigth</th>\n",
       "    </tr>\n",
       "    <tr>\n",
       "      <th>guide_name</th>\n",
       "      <th></th>\n",
       "      <th></th>\n",
       "      <th></th>\n",
       "      <th></th>\n",
       "      <th></th>\n",
       "      <th></th>\n",
       "      <th></th>\n",
       "      <th></th>\n",
       "      <th></th>\n",
       "      <th></th>\n",
       "      <th></th>\n",
       "      <th></th>\n",
       "      <th></th>\n",
       "      <th></th>\n",
       "      <th></th>\n",
       "      <th></th>\n",
       "      <th></th>\n",
       "      <th></th>\n",
       "      <th></th>\n",
       "      <th></th>\n",
       "      <th></th>\n",
       "    </tr>\n",
       "  </thead>\n",
       "  <tbody>\n",
       "    <tr>\n",
       "      <th>chrI_55522r</th>\n",
       "      <td>0</td>\n",
       "      <td>high_effect</td>\n",
       "      <td>YAL047C</td>\n",
       "      <td>1313</td>\n",
       "      <td>+</td>\n",
       "      <td>TCAGTTAGACAAATTAGACT</td>\n",
       "      <td>Q|439|E</td>\n",
       "      <td>Q|439|*</td>\n",
       "      <td>NaN</td>\n",
       "      <td>NaN</td>\n",
       "      <td>...</td>\n",
       "      <td>318</td>\n",
       "      <td>-0.79</td>\n",
       "      <td>0.14</td>\n",
       "      <td>0.05</td>\n",
       "      <td>54.73</td>\n",
       "      <td>0.46</td>\n",
       "      <td>622</td>\n",
       "      <td>88.07</td>\n",
       "      <td>0.05</td>\n",
       "      <td>72073.2</td>\n",
       "    </tr>\n",
       "    <tr>\n",
       "      <th>chrI_55603r</th>\n",
       "      <td>1</td>\n",
       "      <td>high_effect</td>\n",
       "      <td>YAL047C</td>\n",
       "      <td>1232</td>\n",
       "      <td>+</td>\n",
       "      <td>GGACAGCTACATCAATGACT</td>\n",
       "      <td>D|412|E</td>\n",
       "      <td>silent|GAC&gt;GAT|D|412</td>\n",
       "      <td>S|413|R</td>\n",
       "      <td>silent|AGC&gt;AGT|S|413</td>\n",
       "      <td>...</td>\n",
       "      <td>318</td>\n",
       "      <td>-0.79</td>\n",
       "      <td>0.14</td>\n",
       "      <td>0.05</td>\n",
       "      <td>54.73</td>\n",
       "      <td>0.46</td>\n",
       "      <td>622</td>\n",
       "      <td>88.07</td>\n",
       "      <td>0.05</td>\n",
       "      <td>72073.2</td>\n",
       "    </tr>\n",
       "    <tr>\n",
       "      <th>chrI_55655</th>\n",
       "      <td>2</td>\n",
       "      <td>high_effect</td>\n",
       "      <td>YAL047C</td>\n",
       "      <td>1183</td>\n",
       "      <td>-</td>\n",
       "      <td>GGTCTGAGTTTCCAGTTCTT</td>\n",
       "      <td>Q|400|H</td>\n",
       "      <td>silent|CAG&gt;CAA|Q|400</td>\n",
       "      <td>NaN</td>\n",
       "      <td>NaN</td>\n",
       "      <td>...</td>\n",
       "      <td>318</td>\n",
       "      <td>-0.79</td>\n",
       "      <td>0.14</td>\n",
       "      <td>0.05</td>\n",
       "      <td>54.73</td>\n",
       "      <td>0.46</td>\n",
       "      <td>622</td>\n",
       "      <td>88.07</td>\n",
       "      <td>0.05</td>\n",
       "      <td>72073.2</td>\n",
       "    </tr>\n",
       "    <tr>\n",
       "      <th>chrI_55964</th>\n",
       "      <td>3</td>\n",
       "      <td>high_effect</td>\n",
       "      <td>YAL047C</td>\n",
       "      <td>874</td>\n",
       "      <td>-</td>\n",
       "      <td>AATCTCTAATTGAGTGTCTA</td>\n",
       "      <td>E|297|D</td>\n",
       "      <td>silent|GAG&gt;GAA|E|297</td>\n",
       "      <td>E|297|Q</td>\n",
       "      <td>E|297|K</td>\n",
       "      <td>...</td>\n",
       "      <td>318</td>\n",
       "      <td>-0.79</td>\n",
       "      <td>0.14</td>\n",
       "      <td>0.05</td>\n",
       "      <td>54.73</td>\n",
       "      <td>0.46</td>\n",
       "      <td>622</td>\n",
       "      <td>88.07</td>\n",
       "      <td>0.05</td>\n",
       "      <td>72073.2</td>\n",
       "    </tr>\n",
       "    <tr>\n",
       "      <th>chrI_55988</th>\n",
       "      <td>4</td>\n",
       "      <td>high_effect</td>\n",
       "      <td>YAL047C</td>\n",
       "      <td>850</td>\n",
       "      <td>-</td>\n",
       "      <td>TTTCTCAAAACGAGACTCGA</td>\n",
       "      <td>E|289|D</td>\n",
       "      <td>silent|GAG&gt;GAA|E|289</td>\n",
       "      <td>E|289|Q</td>\n",
       "      <td>E|289|K</td>\n",
       "      <td>...</td>\n",
       "      <td>318</td>\n",
       "      <td>-0.79</td>\n",
       "      <td>0.14</td>\n",
       "      <td>0.05</td>\n",
       "      <td>54.73</td>\n",
       "      <td>0.46</td>\n",
       "      <td>622</td>\n",
       "      <td>88.07</td>\n",
       "      <td>0.05</td>\n",
       "      <td>72073.2</td>\n",
       "    </tr>\n",
       "    <tr>\n",
       "      <th>chrI_56003</th>\n",
       "      <td>5</td>\n",
       "      <td>high_effect</td>\n",
       "      <td>YAL047C</td>\n",
       "      <td>835</td>\n",
       "      <td>-</td>\n",
       "      <td>CTCGACGGCTGAAATTGGTA</td>\n",
       "      <td>E|285|Q</td>\n",
       "      <td>E|285|K</td>\n",
       "      <td>E|285|D</td>\n",
       "      <td>silent|GAG&gt;GAA|E|285</td>\n",
       "      <td>...</td>\n",
       "      <td>318</td>\n",
       "      <td>-0.79</td>\n",
       "      <td>0.14</td>\n",
       "      <td>0.05</td>\n",
       "      <td>54.73</td>\n",
       "      <td>0.46</td>\n",
       "      <td>622</td>\n",
       "      <td>88.07</td>\n",
       "      <td>0.05</td>\n",
       "      <td>72073.2</td>\n",
       "    </tr>\n",
       "    <tr>\n",
       "      <th>chrI_56041</th>\n",
       "      <td>6</td>\n",
       "      <td>high_effect</td>\n",
       "      <td>YAL047C</td>\n",
       "      <td>797</td>\n",
       "      <td>-</td>\n",
       "      <td>TTACATTTTCTGTATCAATG</td>\n",
       "      <td>V|272|L</td>\n",
       "      <td>V|272|I</td>\n",
       "      <td>NaN</td>\n",
       "      <td>NaN</td>\n",
       "      <td>...</td>\n",
       "      <td>318</td>\n",
       "      <td>-0.79</td>\n",
       "      <td>0.14</td>\n",
       "      <td>0.05</td>\n",
       "      <td>54.73</td>\n",
       "      <td>0.46</td>\n",
       "      <td>622</td>\n",
       "      <td>88.07</td>\n",
       "      <td>0.05</td>\n",
       "      <td>72073.2</td>\n",
       "    </tr>\n",
       "    <tr>\n",
       "      <th>chrI_56071</th>\n",
       "      <td>7</td>\n",
       "      <td>high_effect</td>\n",
       "      <td>YAL047C</td>\n",
       "      <td>767</td>\n",
       "      <td>-</td>\n",
       "      <td>TGTCATGAATTTCGTCATTC</td>\n",
       "      <td>D|262|H</td>\n",
       "      <td>D|262|N</td>\n",
       "      <td>NaN</td>\n",
       "      <td>NaN</td>\n",
       "      <td>...</td>\n",
       "      <td>318</td>\n",
       "      <td>-0.79</td>\n",
       "      <td>0.14</td>\n",
       "      <td>0.05</td>\n",
       "      <td>54.73</td>\n",
       "      <td>0.46</td>\n",
       "      <td>622</td>\n",
       "      <td>88.07</td>\n",
       "      <td>0.05</td>\n",
       "      <td>72073.2</td>\n",
       "    </tr>\n",
       "    <tr>\n",
       "      <th>chrI_56113r</th>\n",
       "      <td>8</td>\n",
       "      <td>high_effect</td>\n",
       "      <td>YAL047C</td>\n",
       "      <td>722</td>\n",
       "      <td>+</td>\n",
       "      <td>GGACTCACCATCAAGTAAAG</td>\n",
       "      <td>D|242|E</td>\n",
       "      <td>silent|GAC&gt;GAT|D|242</td>\n",
       "      <td>S|243|*</td>\n",
       "      <td>S|243|L</td>\n",
       "      <td>...</td>\n",
       "      <td>318</td>\n",
       "      <td>-0.79</td>\n",
       "      <td>0.14</td>\n",
       "      <td>0.05</td>\n",
       "      <td>54.73</td>\n",
       "      <td>0.46</td>\n",
       "      <td>622</td>\n",
       "      <td>88.07</td>\n",
       "      <td>0.05</td>\n",
       "      <td>72073.2</td>\n",
       "    </tr>\n",
       "    <tr>\n",
       "      <th>chrI_56144</th>\n",
       "      <td>9</td>\n",
       "      <td>high_effect</td>\n",
       "      <td>YAL047C</td>\n",
       "      <td>694</td>\n",
       "      <td>-</td>\n",
       "      <td>TAACTGTGATCCTGCTGGTG</td>\n",
       "      <td>Q|237|H</td>\n",
       "      <td>silent|CAG&gt;CAA|Q|237</td>\n",
       "      <td>NaN</td>\n",
       "      <td>NaN</td>\n",
       "      <td>...</td>\n",
       "      <td>318</td>\n",
       "      <td>-0.79</td>\n",
       "      <td>0.14</td>\n",
       "      <td>0.05</td>\n",
       "      <td>54.73</td>\n",
       "      <td>0.46</td>\n",
       "      <td>622</td>\n",
       "      <td>88.07</td>\n",
       "      <td>0.05</td>\n",
       "      <td>72073.2</td>\n",
       "    </tr>\n",
       "  </tbody>\n",
       "</table>\n",
       "<p>10 rows × 24 columns</p>\n",
       "</div>"
      ],
      "text/plain": [
       "             number     orf_type   target  position strand  \\\n",
       "guide_name                                                   \n",
       "chrI_55522r       0  high_effect  YAL047C      1313      +   \n",
       "chrI_55603r       1  high_effect  YAL047C      1232      +   \n",
       "chrI_55655        2  high_effect  YAL047C      1183      -   \n",
       "chrI_55964        3  high_effect  YAL047C       874      -   \n",
       "chrI_55988        4  high_effect  YAL047C       850      -   \n",
       "chrI_56003        5  high_effect  YAL047C       835      -   \n",
       "chrI_56041        6  high_effect  YAL047C       797      -   \n",
       "chrI_56071        7  high_effect  YAL047C       767      -   \n",
       "chrI_56113r       8  high_effect  YAL047C       722      +   \n",
       "chrI_56144        9  high_effect  YAL047C       694      -   \n",
       "\n",
       "                         sequence mut1_C>G              mut1_C>T mut2_C>G  \\\n",
       "guide_name                                                                  \n",
       "chrI_55522r  TCAGTTAGACAAATTAGACT  Q|439|E               Q|439|*      NaN   \n",
       "chrI_55603r  GGACAGCTACATCAATGACT  D|412|E  silent|GAC>GAT|D|412  S|413|R   \n",
       "chrI_55655   GGTCTGAGTTTCCAGTTCTT  Q|400|H  silent|CAG>CAA|Q|400      NaN   \n",
       "chrI_55964   AATCTCTAATTGAGTGTCTA  E|297|D  silent|GAG>GAA|E|297  E|297|Q   \n",
       "chrI_55988   TTTCTCAAAACGAGACTCGA  E|289|D  silent|GAG>GAA|E|289  E|289|Q   \n",
       "chrI_56003   CTCGACGGCTGAAATTGGTA  E|285|Q               E|285|K  E|285|D   \n",
       "chrI_56041   TTACATTTTCTGTATCAATG  V|272|L               V|272|I      NaN   \n",
       "chrI_56071   TGTCATGAATTTCGTCATTC  D|262|H               D|262|N      NaN   \n",
       "chrI_56113r  GGACTCACCATCAAGTAAAG  D|242|E  silent|GAC>GAT|D|242  S|243|*   \n",
       "chrI_56144   TAACTGTGATCCTGCTGGTG  Q|237|H  silent|CAG>CAA|Q|237      NaN   \n",
       "\n",
       "                         mut2_C>T    ...     half_life_min hydropath  \\\n",
       "guide_name                           ...                               \n",
       "chrI_55522r                   NaN    ...               318     -0.79   \n",
       "chrI_55603r  silent|AGC>AGT|S|413    ...               318     -0.79   \n",
       "chrI_55655                    NaN    ...               318     -0.79   \n",
       "chrI_55964                E|297|K    ...               318     -0.79   \n",
       "chrI_55988                E|289|K    ...               318     -0.79   \n",
       "chrI_56003   silent|GAG>GAA|E|285    ...               318     -0.79   \n",
       "chrI_56041                    NaN    ...               318     -0.79   \n",
       "chrI_56071                    NaN    ...               318     -0.79   \n",
       "chrI_56113r               S|243|L    ...               318     -0.79   \n",
       "chrI_56144                    NaN    ...               318     -0.79   \n",
       "\n",
       "            codon_adapt_index codon_bias instability_index freq_opt_codon  \\\n",
       "guide_name                                                                  \n",
       "chrI_55522r              0.14       0.05             54.73           0.46   \n",
       "chrI_55603r              0.14       0.05             54.73           0.46   \n",
       "chrI_55655               0.14       0.05             54.73           0.46   \n",
       "chrI_55964               0.14       0.05             54.73           0.46   \n",
       "chrI_55988               0.14       0.05             54.73           0.46   \n",
       "chrI_56003               0.14       0.05             54.73           0.46   \n",
       "chrI_56041               0.14       0.05             54.73           0.46   \n",
       "chrI_56071               0.14       0.05             54.73           0.46   \n",
       "chrI_56113r              0.14       0.05             54.73           0.46   \n",
       "chrI_56144               0.14       0.05             54.73           0.46   \n",
       "\n",
       "            length aliphatic_index aromaticity mol_weigth  \n",
       "guide_name                                                 \n",
       "chrI_55522r    622           88.07        0.05    72073.2  \n",
       "chrI_55603r    622           88.07        0.05    72073.2  \n",
       "chrI_55655     622           88.07        0.05    72073.2  \n",
       "chrI_55964     622           88.07        0.05    72073.2  \n",
       "chrI_55988     622           88.07        0.05    72073.2  \n",
       "chrI_56003     622           88.07        0.05    72073.2  \n",
       "chrI_56041     622           88.07        0.05    72073.2  \n",
       "chrI_56071     622           88.07        0.05    72073.2  \n",
       "chrI_56113r    622           88.07        0.05    72073.2  \n",
       "chrI_56144     622           88.07        0.05    72073.2  \n",
       "\n",
       "[10 rows x 24 columns]"
      ]
     },
     "execution_count": 17,
     "metadata": {},
     "output_type": "execute_result"
    }
   ],
   "source": [
    "chip_table.head(10)"
   ]
  },
  {
   "cell_type": "markdown",
   "metadata": {},
   "source": [
    "## Annotate with PTM sites, proximity, diversity and rate/aa"
   ]
  },
  {
   "cell_type": "code",
   "execution_count": 18,
   "metadata": {},
   "outputs": [
    {
     "name": "stderr",
     "output_type": "stream",
     "text": [
      "  0%|          | 14/39978 [00:00<04:53, 136.23it/s]"
     ]
    },
    {
     "name": "stdout",
     "output_type": "stream",
     "text": [
      "YAL047C\n"
     ]
    },
    {
     "name": "stderr",
     "output_type": "stream",
     "text": [
      "100%|██████████| 39978/39978 [04:50<00:00, 137.43it/s]\n"
     ]
    }
   ],
   "source": [
    "var_list = ['diversity_PTM','PTM_number','PTM_rate','mut_1_effect_bin','mut_1_effect', 'mut_1_proximity',\n",
    "            'mut_2_effect_bin', 'mut_2_effect', 'mut_2_proximity']\n",
    "# the new columns to add to the dataframe\n",
    "\n",
    "\n",
    "for variable in var_list:\n",
    "    chip_table[variable] = np.nan\n",
    "    chip_table[variable] = chip_table[variable].astype('object')\n",
    "# create new, empty columns\n",
    "    \n",
    "print chip_table.loc['chrI_55522r']['target']\n",
    "\n",
    "for guide in tqdm(chip_table.index):\n",
    "    # loop through guides\n",
    "\n",
    "    orf = chip_table.loc[guide]['target']\n",
    "    select_orf_annots = (PTM_df['ORF'] == orf)\n",
    "    orf_annot = PTM_df[select_orf_annots]\n",
    "    # get YAAM PTM annotations for the gRNA target orf\n",
    "    \n",
    "    \n",
    "    if len(orf_annot) > 0:\n",
    "        # if there is one or more annotation:\n",
    "        \n",
    "        diversity_PTM = orf_annot['modification'].unique()\n",
    "        # store info on the different types of PTMs\n",
    "        \n",
    "        PTM_number = len(orf_annot['position'].unique())\n",
    "        # store info on the number of PTMs\n",
    "        \n",
    "        PTM_rate = (PTM_number*1.0)/chip_table.loc[guide]['length']\n",
    "        # store info on the PTM/residue rate\n",
    "        \n",
    "        PTM_positions = [int(x) for x in orf_annot['position'].unique()]\n",
    "        # get the positions at which PTMs have been annotated\n",
    "        \n",
    "        \n",
    "        \n",
    "        mut_1_effect_bin = 0\n",
    "        # set base value: do the most probable mutations directly affect a PTM annotated site  1=yes, 0=no\n",
    "        \n",
    "        mut_1_effect = np.NaN\n",
    "        # set base value: what PTM annotated site is affected\n",
    "        \n",
    "        mut_1_proximity = 0\n",
    "        # set base value: is the mutation within 5 aa of an annotated PTM\n",
    "        \n",
    "        mut_2_effect_bin = 0\n",
    "        # set base value: do the second most probable mutations directly affect a PTM annotated site 1=yes, 0=no\n",
    "        \n",
    "        mut_2_effect = np.NaN\n",
    "        # set base value: what PTM annotated site is affected\n",
    "        \n",
    "        mut_2_proximity = 0\n",
    "        # set base value: is the mutation within 5 aa of an annotated PTM       \n",
    "        \n",
    "        if 'silent' not in chip_table.loc[guide]['mut1_C>G'] and '|' in chip_table.loc[guide]['mut1_C>G']:\n",
    "            # filters out silent mutations and gRNAs for which no mutation prediction is available, C to G 1\n",
    "            \n",
    "            mut_1_CG_pos = int(chip_table.loc[guide]['mut1_C>G'].split('|')[1])\n",
    "            \n",
    "            \n",
    "            if mut_1_CG_pos in PTM_positions:\n",
    "                \n",
    "                mut_1_effect_bin = 1\n",
    "                \n",
    "                mut_1_effect = orf_annot[orf_annot['position'] == mut_1_CG_pos]['modification']\n",
    "                \n",
    "                \n",
    "            elif [x for x in PTM_positions if x in range((int(mut_1_CG_pos)-5), (int(mut_1_CG_pos+5)))] != []:\n",
    "                \n",
    "                mut_1_proximity = 1\n",
    "                \n",
    "        elif 'silent' not in chip_table.loc[guide]['mut1_C>T'] and '|' in chip_table.loc[guide]['mut1_C>T']:\n",
    "            # filters out silent mutations and gRNAs for which no mutation prediction is available, C to T 1\n",
    "            \n",
    "            mut_1_CT_pos = chip_table.loc[guide]['mut1_C>T'].split('|')[1]\n",
    "            \n",
    "            if mut_1_CT_pos in PTM_positions:\n",
    "                \n",
    "                mut_1_effect_bin = 1\n",
    "                \n",
    "                #print orf, mut_1_CG_pos\n",
    "                \n",
    "                mut_1_effect = orf_annot[orf_annot['position'] == mut_1_CT_pos]['modification']\n",
    "                \n",
    "            elif [x for x in PTM_positions if x in range(int((mut_1_CT_pos-5)), int((mut_1_CT_pos+5)))] != []:\n",
    "                \n",
    "                mut_1_proximity = 1\n",
    "                \n",
    "        elif chip_table.loc[guide]['mut2_C>G'] not in [np.NaN]:\n",
    "            if 'silent' not in chip_table.loc[guide]['mut2_C>G'] and '|' in chip_table.loc[guide]['mut2_C>G']:\n",
    "                # filters out silent mutations and gRNAs for which no mutation prediction is available, C to G 2\n",
    "\n",
    "                mut_2_CG_pos = int(chip_table.loc[guide]['mut2_C>G'].split('|')[1])\n",
    "\n",
    "                if mut_2_CG_pos in PTM_positions:\n",
    "\n",
    "                    mut_2_effect_bin = 1\n",
    "\n",
    "                    mut_2_effect = orf_annot[orf_annot['position'] == mut_2_CG_pos]['modification']\n",
    "\n",
    "                elif [x for x in PTM_positions if x in range(int((mut_2_CG_pos-5)), int((mut_1_CG_pos+5)))] != []:\n",
    "\n",
    "                    mut_2_proximity = 1\n",
    "                \n",
    "        elif chip_table.loc[guide]['mut2_C>T'] not in [np.NaN] and '|' in chip_table.loc[guide]['mut2_C>T']: \n",
    "            if 'silent' not in chip_table.loc[gene]['mut2_C>T']:\n",
    "                # filters out silent mutations and gRNAs for which no mutation prediction is available, C to G 1\n",
    "\n",
    "                mut_2_CT_pos = chip_table.loc[gene]['mut2_C>T'].split('|')[1]\n",
    "\n",
    "                if mut_2_CT_pos in PTM_positions:\n",
    "\n",
    "                    mut_2_effect_bin = 1\n",
    "\n",
    "                    mut_2_effect = orf_annot[orf_annot['position'] == mut_2_CT_pos]['modification']\n",
    "\n",
    "                elif [x for x in PTM_positions if x in range(int((mut_2_CT_pos-5)), int((mut_1_CT_pos+5)))] != []:\n",
    "\n",
    "                    mut_2_proximity = 1\n",
    "                \n",
    "                \n",
    "    else:\n",
    "        \n",
    "        diversity_PTM = np.NaN\n",
    "        \n",
    "        PTM_number = np.NaN\n",
    "        \n",
    "        PTM_rate = np.NaN\n",
    "        \n",
    "        PTM_positions = np.NaN\n",
    "        \n",
    "        mut_1_effect_bin = 0\n",
    "        \n",
    "        mut_1_effect = np.NaN\n",
    "        \n",
    "        mut_1_proximity = 0\n",
    "        \n",
    "        mut_2_effect_bin = 0\n",
    "        \n",
    "        mut_2_effect = np.NaN\n",
    "        \n",
    "        mut_2_proximity = 0\n",
    "        \n",
    "        # set all values as null if no annotations exist for the target orf\n",
    "                \n",
    "                \n",
    "    chip_table.at[guide, ('diversity_PTM')] = diversity_PTM\n",
    "    chip_table.at[guide, ('PTM_number')] = PTM_number\n",
    "    chip_table.at[guide, ('PTM_rate')] = PTM_rate\n",
    "    chip_table.at[guide, ('mut_1_effect_bin')] = mut_1_effect_bin\n",
    "    chip_table.at[guide, ('mut_1_effect')] = mut_1_effect\n",
    "    chip_table.at[guide, ('mut_1_proximity')] = mut_1_proximity\n",
    "    chip_table.at[guide, ('mut_2_effect_bin')] = mut_2_effect_bin\n",
    "    chip_table.at[guide, ('mut_2_effect')] = mut_2_effect\n",
    "    chip_table.at[guide, ('mut_2_proximity')] = mut_2_proximity\n",
    "    # annotate table\n",
    "\n",
    "    \n",
    "                \n",
    "var_list = ['diversity_PTM','PTM_number','PTM_rate','mut_1_effect_bin','mut_1_effect', \n",
    "            'mut_1_proximity','mut_2_effect_bin', 'mut_2_effect', 'mut_2_proximity']                \n",
    "\n",
    "\n",
    "\n",
    "         \n",
    "               \n",
    "                "
   ]
  },
  {
   "cell_type": "code",
   "execution_count": 34,
   "metadata": {},
   "outputs": [],
   "source": [
    "chip_table.to_csv('./chip_table_reannot_revised.tsv', sep = '\\t')\n",
    "# write info to file"
   ]
  },
  {
   "cell_type": "code",
   "execution_count": 35,
   "metadata": {},
   "outputs": [
    {
     "data": {
      "text/plain": [
       "guide_name\n",
       "chrI_55522r    TCAGTTAGACAAATTAGACT\n",
       "chrI_55603r    GGACAGCTACATCAATGACT\n",
       "chrI_55655     GGTCTGAGTTTCCAGTTCTT\n",
       "chrI_55964     AATCTCTAATTGAGTGTCTA\n",
       "chrI_55988     TTTCTCAAAACGAGACTCGA\n",
       "chrI_56003     CTCGACGGCTGAAATTGGTA\n",
       "chrI_56041     TTACATTTTCTGTATCAATG\n",
       "chrI_56071     TGTCATGAATTTCGTCATTC\n",
       "chrI_56113r    GGACTCACCATCAAGTAAAG\n",
       "chrI_56144     TAACTGTGATCCTGCTGGTG\n",
       "Name: sequence, dtype: object"
      ]
     },
     "execution_count": 35,
     "metadata": {},
     "output_type": "execute_result"
    }
   ],
   "source": [
    "chip_table['sequence'].head(10)"
   ]
  },
  {
   "cell_type": "code",
   "execution_count": 36,
   "metadata": {},
   "outputs": [],
   "source": [
    "chip_table = pd.read_csv('./chip_table_reannot_revised.tsv', sep='\\t', index_col = 'guide_name')"
   ]
  },
  {
   "cell_type": "code",
   "execution_count": 22,
   "metadata": {},
   "outputs": [
    {
     "name": "stdout",
     "output_type": "stream",
     "text": [
      "{'DCDCDDD': 863, 'DCDCDDC': 204, 'CCDDDCC': 57, 'CCDCCCC': 5, 'CDDCCCC': 10, 'DCDCCDC': 74, 'DCDCCDD': 312, 'DCDDCCC': 47, 'CCDCCCD': 16, 'CCCDCCC': 2, 'DDDCDDC': 1136, 'CDCDCCC': 14, 'DDDCDCD': 921, 'DDCDCDC': 204, 'CDCDCCD': 56, 'DDDCDDD': 4481, 'CCCDDCC': 14, 'CCDCDDD': 253, 'CDDCCDD': 345, 'DDCDDDC': 1015, 'DDCDDDD': 5142, 'CCDDDDD': 1186, 'CCCDDCD': 53, 'CDCDDCC': 67, 'CCCDCDD': 54, 'CDCDDCD': 267, 'DCDDCCD': 383, 'DCCDDDD': 1510, 'DCCDCCD': 135, 'DCCDCCC': 20, 'DCCDDDC': 270, 'CDDCCDC': 96, 'CCDDCDD': 274, 'CDDCCCD': 65, 'CCDCCDC': 30, 'CCDDCDC': 64, 'CCDDDDC': 272, 'DDDCCDD': 1268, 'DCDCCCC': 10, 'CCDCDDC': 76, 'CDDCDCD': 244, 'DCDCCCD': 65, 'DDDCCDC': 258, 'CCDCDCD': 52, 'DCDDDDC': 945, 'CCCDCDC': 13, 'DCDDDDD': 4713, 'DCDCDCC': 62, 'DDCDDCC': 351, 'CDCDDDD': 990, 'CDCDDDC': 236, 'DDCDDCD': 1671, 'DCDCDCD': 176, 'DCCDCDC': 53, 'DCCDDCD': 365, 'CCCDDDD': 274, 'CDCDCDC': 36, 'CDCDCDD': 210, 'CCCDDDC': 57, 'DCCDDCC': 80, 'DDCDCCC': 60, 'CCDCCDD': 88, 'CCDDDCD': 257, 'DDCDCCD': 391, 'CCDCDCC': 14, 'CDDCDCC': 87, 'DDDCDCC': 273, 'DDDCCCD': 278, 'DDCDCDD': 1069, 'CCCDCCD': 22, 'DCDDCDC': 248, 'DDDCCCC': 43, 'CCDDCCC': 18, 'DCDDCDD': 1554, 'CDDCDDC': 386, 'DCDDDCD': 1092, 'DCDDDCC': 262, 'CDDCDDD': 1230, 'DCCDCDD': 405, 'CCDDCCD': 79}\n",
      "80\n"
     ]
    }
   ],
   "source": [
    "pattern_counter = {}\n",
    "\n",
    "\n",
    "for guide_seq in list(chip_table['sequence']):\n",
    "    \n",
    "    guide_seq = guide_seq[0:7]\n",
    "    \n",
    "    guide_seq = guide_seq.replace('A', 'D').replace('T', 'D').replace('G', 'D')\n",
    "    \n",
    "    if guide_seq in pattern_counter.keys():\n",
    "        \n",
    "        pattern_counter[guide_seq] +=1\n",
    "        \n",
    "    else:\n",
    "        \n",
    "        pattern_counter[guide_seq] = 1\n",
    "    \n",
    "print pattern_counter\n",
    "print len(pattern_counter.keys())\n",
    "\n"
   ]
  },
  {
   "cell_type": "markdown",
   "metadata": {},
   "source": [
    "## Plot the number of Cs in extended activity window"
   ]
  },
  {
   "cell_type": "code",
   "execution_count": 23,
   "metadata": {},
   "outputs": [
    {
     "name": "stdout",
     "output_type": "stream",
     "text": [
      "{1: 14336, 2: 16450, 3: 7398, 4: 1606, 5: 181, 6: 7, 7: 0}\n"
     ]
    },
    {
     "data": {
      "text/plain": [
       "Text(0,0.5,'Fraction of gRNAs in library')"
      ]
     },
     "execution_count": 23,
     "metadata": {},
     "output_type": "execute_result"
    },
    {
     "data": {
      "image/png": "[encoded data removed]",
      "text/plain": [
       "<Figure size 432x288 with 1 Axes>"
      ]
     },
     "metadata": {
      "needs_background": "light"
     },
     "output_type": "display_data"
    }
   ],
   "source": [
    "# count all guides with only one of 19,18,17,16 as a C in library\n",
    "\n",
    "total = 0\n",
    "\n",
    "C_number_dict = {1:0,\n",
    "                 2:0,\n",
    "                 3:0,\n",
    "                 4:0,\n",
    "                 5:0,\n",
    "                 6:0,\n",
    "                 7:0}\n",
    "\n",
    "for pattern in list(pattern_counter.keys()):\n",
    "    \n",
    "    n_C = pattern.count('C')\n",
    "    \n",
    "    C_number_dict[n_C] += pattern_counter[pattern]\n",
    "        \n",
    "        \n",
    "print C_number_dict\n",
    "\n",
    "plt.bar([x for x in C_number_dict.keys()], [(float(C_number_dict[x])/sum(C_number_dict.values())) for x in C_number_dict.keys()], color = 'grey')\n",
    "plt.xlabel(\"Number of Cs in extended window (20-14)\")\n",
    "plt.ylabel('Fraction of gRNAs in library')"
   ]
  },
  {
   "cell_type": "markdown",
   "metadata": {},
   "source": [
    "## Plot the number of guides in each co-edit probability category"
   ]
  },
  {
   "cell_type": "code",
   "execution_count": 24,
   "metadata": {},
   "outputs": [
    {
     "name": "stdout",
     "output_type": "stream",
     "text": [
      "39978\n",
      "0.859247586172 Very low to low risk\n",
      "0.0832207714243 High risk\n"
     ]
    },
    {
     "data": {
      "text/plain": [
       "([<matplotlib.axis.XTick at 0x7f88635cc650>,\n",
       "  <matplotlib.axis.XTick at 0x7f88635cc190>,\n",
       "  <matplotlib.axis.XTick at 0x7f88635c3ad0>,\n",
       "  <matplotlib.axis.XTick at 0x7f8863582650>,\n",
       "  <matplotlib.axis.XTick at 0x7f8863582b90>],\n",
       " <a list of 5 Text xticklabel objects>)"
      ]
     },
     "execution_count": 24,
     "metadata": {},
     "output_type": "execute_result"
    },
    {
     "data": {
      "image/png": "[encoded data removed]",
      "text/plain": [
       "<Figure size 432x288 with 1 Axes>"
      ]
     },
     "metadata": {
      "needs_background": "light"
     },
     "output_type": "display_data"
    }
   ],
   "source": [
    "sub_categories = {1:0,\n",
    "                  # guides with only one C in the 19,18,17,16 window: NCDDDNN/NDCDDNN/NDDCDNN\n",
    "                  # Very low risk\n",
    "                  2:0,\n",
    "                  # guides with only one C in the 19,18,17 window: NCDDCNN/NDCDCNN/NDDCCNN\n",
    "                  # Low risk\n",
    "                  3:0,\n",
    "                  # guides with Cs at position 19 and 17: NCDCNNN\n",
    "                  # Moderate risk\n",
    "                  4:0}\n",
    "                  # guides with Cs at positions 19, 18: NCCDNNN\n",
    "                  # High risk\n",
    "\n",
    "\n",
    "\n",
    "for pattern in list(pattern_counter.keys()):\n",
    "\n",
    "    if pattern[1:5].count('C')  == 1:\n",
    "        sub_categories[1] += pattern_counter[pattern]\n",
    "        #print pattern, '1'\n",
    "        \n",
    "    elif pattern[1:4].count('C') == 1 and pattern[4] == 'C':\n",
    "        sub_categories[2] += pattern_counter[pattern]\n",
    "        #print pattern, '2'\n",
    "        \n",
    "    elif pattern[1] == 'C' and pattern[3] == 'C':\n",
    "        sub_categories[3] += pattern_counter[pattern]\n",
    "        #print pattern, '3'\n",
    "        \n",
    "    elif pattern[1] == 'C' and pattern[2] == 'C':\n",
    "        sub_categories[4] += pattern_counter[pattern]\n",
    "        #print pattern, '3'\n",
    "        \n",
    "\n",
    "\n",
    "        \n",
    "plt.bar([x for x in sub_categories.keys()], [(float(sub_categories[x])/sum(sub_categories.values())) for x in sub_categories.keys()],\n",
    "        color = 'grey')\n",
    "\n",
    "plt.bar([5], [float(sub_categories[1]+sub_categories[2])/sum(sub_categories.values())], color = 'k')\n",
    "        \n",
    "\n",
    "print sum(sub_categories.values())\n",
    "\n",
    "plt.ylim(0,1)\n",
    "plt.xlim(0.5, 5.5)\n",
    "\n",
    "print float(sub_categories[1]+sub_categories[2])/sum(sub_categories.values()), 'Very low to low risk'\n",
    "print float(sub_categories[4])/sum(sub_categories.values()), 'High risk'\n",
    "\n",
    "plt.xticks([1,2,3,4,5], ['V. Low', 'Low', 'Moderate', 'Highest', 'V. Low/Low'])\n",
    "\n",
    "\n"
   ]
  },
  {
   "cell_type": "markdown",
   "metadata": {},
   "source": [
    "## Plot the occupancy of Cs in the extended activity window"
   ]
  },
  {
   "cell_type": "code",
   "execution_count": 25,
   "metadata": {},
   "outputs": [
    {
     "name": "stdout",
     "output_type": "stream",
     "text": [
      "[14, 15, 16, 17, 18, 19, 20]\n"
     ]
    },
    {
     "data": {
      "text/plain": [
       "Text(0,0.5,'Fraction of gRNAs with editable nucleotide')"
      ]
     },
     "execution_count": 25,
     "metadata": {},
     "output_type": "execute_result"
    },
    {
     "data": {
      "image/png": "[encoded data removed]",
      "text/plain": [
       "<Figure size 432x288 with 1 Axes>"
      ]
     },
     "metadata": {
      "needs_background": "light"
     },
     "output_type": "display_data"
    }
   ],
   "source": [
    "\n",
    "n_guides  = sum(pattern_counter.values())\n",
    "\n",
    "occupancy_dict = {20:0,\n",
    "                  19:0,\n",
    "                  18:0,\n",
    "                  17:0,\n",
    "                  16:0,\n",
    "                  15:0,\n",
    "                  14:0}\n",
    "\n",
    "print list(occupancy_dict.keys())\n",
    "\n",
    "for pattern in pattern_counter.keys():\n",
    "    \n",
    "    for nt_pos in range(0,7):\n",
    "        \n",
    "        if pattern[nt_pos] == 'C':\n",
    "            \n",
    "            occupancy_dict[(20-nt_pos)] += pattern_counter[pattern]\n",
    "        \n",
    "        \n",
    "for nt in occupancy_dict.keys():\n",
    "    \n",
    "    occupancy_dict[nt] = float(occupancy_dict[nt])/n_guides\n",
    "    \n",
    "reordered_keys = sorted(occupancy_dict.keys(), reverse=True)\n",
    "        \n",
    "        \n",
    "plt.bar([x for x in reordered_keys], [occupancy_dict[x] for x in reordered_keys],\n",
    "        color = 'grey')\n",
    "\n",
    "plt.xlim(20.5,13.5)\n",
    "plt.ylim(0,0.6)\n",
    "\n",
    "plt.xlabel('Position in extended activity window')\n",
    "plt.ylabel('Fraction of gRNAs with editable nucleotide')\n",
    "    \n",
    "\n",
    "\n"
   ]
  },
  {
   "cell_type": "code",
   "execution_count": 26,
   "metadata": {},
   "outputs": [],
   "source": [
    "def get_gRNA_coedit_chance(guide_seq):\n",
    "    \n",
    "    guide_seq = guide_seq[0:7]\n",
    "    \n",
    "    guide_seq = guide_seq.replace('A', 'D').replace('T', 'D').replace('G', 'D')\n",
    "    \n",
    "    \n",
    "    if guide_seq[1:5].count('C')  == 1:\n",
    "        co_edit_risk = 1\n",
    "        #Very Low\n",
    "        \n",
    "    elif guide_seq[1:4].count('C') == 1 and guide_seq[4] == 'C':\n",
    "        co_edit_risk = 2\n",
    "        #Low\n",
    "        \n",
    "    elif guide_seq[1] == 'C' and guide_seq[3] == 'C':\n",
    "        co_edit_risk = 3\n",
    "        #Moderate\n",
    "        \n",
    "    elif guide_seq[1] == 'C' and guide_seq[2] == 'C':\n",
    "        co_edit_risk = 4\n",
    "        #High\n",
    "    return co_edit_risk\n",
    "\n",
    "chip_table['co_edit_risk'] = np.nan"
   ]
  },
  {
   "cell_type": "code",
   "execution_count": 27,
   "metadata": {},
   "outputs": [
    {
     "name": "stderr",
     "output_type": "stream",
     "text": [
      "100%|██████████| 39978/39978 [00:06<00:00, 5845.60it/s]\n"
     ]
    }
   ],
   "source": [
    "\n",
    "for gRNA in tqdm(list(chip_table.index)):\n",
    "    \n",
    "    gRNA_seq = chip_table.loc[gRNA]['sequence']\n",
    "    \n",
    "    risk_cat = get_gRNA_coedit_chance(gRNA_seq)\n",
    "    \n",
    "\n",
    "    chip_table.at[gRNA, ('co_edit_risk')] = risk_cat\n",
    "    "
   ]
  },
  {
   "cell_type": "code",
   "execution_count": 28,
   "metadata": {},
   "outputs": [
    {
     "data": {
      "text/plain": [
       "(array([27281.,     0.,     0.,  7070.,     0.,     0.,  2300.,     0.,\n",
       "            0.,  3327.]),\n",
       " array([1. , 1.3, 1.6, 1.9, 2.2, 2.5, 2.8, 3.1, 3.4, 3.7, 4. ]),\n",
       " <a list of 10 Patch objects>)"
      ]
     },
     "execution_count": 28,
     "metadata": {},
     "output_type": "execute_result"
    },
    {
     "data": {
      "image/png": "[encoded data removed]",
      "text/plain": [
       "<Figure size 432x288 with 1 Axes>"
      ]
     },
     "metadata": {
      "needs_background": "light"
     },
     "output_type": "display_data"
    }
   ],
   "source": [
    "plt.hist(chip_table['co_edit_risk'])\n",
    "# looks identical to the plot made outside the table, good"
   ]
  },
  {
   "cell_type": "code",
   "execution_count": 29,
   "metadata": {},
   "outputs": [
    {
     "data": {
      "text/plain": [
       "guide_name\n",
       "chrI_55522r                     NaN\n",
       "chrI_55603r                 S|413|R\n",
       "chrI_55655                      NaN\n",
       "chrI_55964                  E|297|Q\n",
       "chrI_55988                  E|289|Q\n",
       "chrI_56003                  E|285|D\n",
       "chrI_56041                      NaN\n",
       "chrI_56071                      NaN\n",
       "chrI_56113r                 S|243|*\n",
       "chrI_56144                      NaN\n",
       "chrI_56191r                     NaN\n",
       "chrI_56300     silent|CTG>CTC|L|186\n",
       "chrI_56299                  E|185|D\n",
       "chrI_56329                  E|176|D\n",
       "chrI_56446                      NaN\n",
       "chrI_56562r     silent|GGC>GGG|G|93\n",
       "chrI_56550                      NaN\n",
       "chrI_56563r     silent|GGC>GGG|G|93\n",
       "chrI_56572                      NaN\n",
       "chrI_56580r                  R|86|G\n",
       "Name: mut2_C>G, dtype: object"
      ]
     },
     "execution_count": 29,
     "metadata": {},
     "output_type": "execute_result"
    }
   ],
   "source": [
    "chip_table['mut2_C>G'].head(20)"
   ]
  },
  {
   "cell_type": "code",
   "execution_count": 30,
   "metadata": {},
   "outputs": [
    {
     "data": {
      "text/plain": [
       "'NA'"
      ]
     },
     "execution_count": 30,
     "metadata": {},
     "output_type": "execute_result"
    }
   ],
   "source": [
    "def get_aa_affected(mut):\n",
    "    \n",
    "    if mut == 'invalid seq' or mut == 'error':\n",
    "        \n",
    "        return 'NA'\n",
    "    \n",
    "    elif 'silent' in mut:\n",
    "        mut = mut.split('|')\n",
    "        pos = mut[3]\n",
    "        return pos\n",
    "    \n",
    "    else:\n",
    "        mut = mut.split('|')\n",
    "        pos = mut[1]\n",
    "        return pos\n",
    "    \n",
    "get_aa_affected('invalid seq')"
   ]
  },
  {
   "cell_type": "code",
   "execution_count": 31,
   "metadata": {},
   "outputs": [
    {
     "name": "stdout",
     "output_type": "stream",
     "text": [
      "1797\n",
      "{1: 15802, 2: 1931, 3: 628, 4: 2258}\n"
     ]
    }
   ],
   "source": [
    "guides_no_mut_pred = 0\n",
    "\n",
    "one_aa_affected = {1:0,\n",
    "                   2:0,\n",
    "                   3:0,\n",
    "                   4:0}\n",
    "\n",
    "two_aa_affected = {1:0,\n",
    "                   2:0,\n",
    "                   3:0,\n",
    "                   4:0}\n",
    "\n",
    "\n",
    "for gRNA in list(chip_table.index):\n",
    "    \n",
    "    mut1 = None\n",
    "    mut2 = None\n",
    "    pos1 = None\n",
    "    pos2 = None\n",
    "\n",
    "    mut1 = chip_table.loc[gRNA]['mut1_C>G']\n",
    "    \n",
    "    pos1 = get_aa_affected(mut1)\n",
    "    \n",
    "    \n",
    "    mut2 = chip_table.loc[gRNA]['mut2_C>G']\n",
    "    \n",
    "    risk_cat = int(chip_table.loc[gRNA]['co_edit_risk'])\n",
    "    \n",
    "\n",
    "    \n",
    "    if mut2 in [np.NaN]:\n",
    "        \n",
    "        pos2 = 'NA'\n",
    "        \n",
    "    \n",
    "    else:\n",
    "        \n",
    "        pos2 = get_aa_affected(mut2)\n",
    "    #print mut1, pos_1, risk_cat\n",
    "\n",
    "        \n",
    "    if pos1 == 'NA' and pos2 =='NA':\n",
    "        \n",
    "        guides_no_mut_pred += 1\n",
    "        \n",
    "    elif pos1 != 'NA' and pos2 == 'NA':\n",
    "        \n",
    "        one_aa_affected[risk_cat] += 1\n",
    "        \n",
    "    elif pos1 == pos2:\n",
    "        \n",
    "        one_aa_affected[risk_cat] += 1\n",
    "        \n",
    "    elif pos1 != pos2:\n",
    "        \n",
    "        two_aa_affected[risk_cat] += 1\n",
    "        \n",
    "    \n",
    "        \n",
    "        \n",
    "    #print aa_affected_1, aa_affected_2\n",
    "    \n",
    "print guides_no_mut_pred\n",
    "print one_aa_affected"
   ]
  },
  {
   "cell_type": "code",
   "execution_count": 32,
   "metadata": {},
   "outputs": [
    {
     "name": "stdout",
     "output_type": "stream",
     "text": [
      "39978\n",
      "\n",
      "[0.4138707734213352, 0.05057489327152249, 0.01644797150415128, 0.05913936251014903]\n"
     ]
    },
    {
     "data": {
      "text/plain": [
       "<matplotlib.legend.Legend at 0x7f886342a710>"
      ]
     },
     "execution_count": 32,
     "metadata": {},
     "output_type": "execute_result"
    },
    {
     "data": {
      "image/png": "[encoded data removed]",
      "text/plain": [
       "<Figure size 432x288 with 1 Axes>"
      ]
     },
     "metadata": {
      "needs_background": "light"
     },
     "output_type": "display_data"
    }
   ],
   "source": [
    "print sum(one_aa_affected.values()) + sum(two_aa_affected.values()) + guides_no_mut_pred\n",
    "# make sure the total number of guides is consistent\n",
    "\n",
    "predic_sum = sum(one_aa_affected.values()) + sum(two_aa_affected.values())\n",
    "\n",
    "print \n",
    "print [float(one_aa_affected[x])/predic_sum for x in range(1,5)]\n",
    "   \n",
    "plt.bar([1,4,7,10], [float(one_aa_affected[x])/predic_sum for x in range(1,5)], color = 'k')\n",
    "plt.bar([2,5,8,11], [float(two_aa_affected[x])/predic_sum for x in range(1,5)], color = 'grey')\n",
    "\n",
    "plt.bar([13], [float(sum(one_aa_affected.values()))/predic_sum], color = 'k')\n",
    "plt.bar([14], [float(sum(two_aa_affected.values()))/predic_sum], color = 'grey')\n",
    "\n",
    "\n",
    "single_aa_model_aggregate = float(sum(one_aa_affected.values()) + two_aa_affected[1] + two_aa_affected[2])/predic_sum\n",
    "two_aa_model_aggregate = float(two_aa_affected[3] + two_aa_affected[4])/predic_sum\n",
    "\n",
    "#print single_aa_model_aggregate + two_aa_model_aggregate + guides_no_mut_pred\n",
    "# make sure the total number of guides is consistent\n",
    "\n",
    "plt.bar([16], single_aa_model_aggregate, color = 'k')\n",
    "plt.bar([17], two_aa_model_aggregate, color = 'grey')\n",
    "\n",
    "plt.xticks([1.5, 4.5, 7.5, 10.5, 13.5, 16.5], ['V. Low', 'Low', 'Moderate', 'Highest', 'Aggregate', 'Model Aggregate'])\n",
    "\n",
    "plt.ylabel('Fraction of gRNAs with prediction')\n",
    "\n",
    "plt.legend(['One amino acid affected by double dit', 'Two amino acids affected by co-edit'])"
   ]
  },
  {
   "cell_type": "markdown",
   "metadata": {},
   "source": [
    "## Make figure for supp mat on library composition/ co-editing"
   ]
  },
  {
   "cell_type": "code",
   "execution_count": 33,
   "metadata": {},
   "outputs": [
    {
     "name": "stdout",
     "output_type": "stream",
     "text": [
      "{1: 14336, 2: 16450, 3: 7398, 4: 1606, 5: 181, 6: 7, 7: 0}\n",
      "39978\n",
      "0.859247586172 Very low to low risk\n",
      "0.0832207714243 High risk\n"
     ]
    },
    {
     "data": {
      "image/png": "[encoded data removed]",
      "text/plain": [
       "<Figure size 720x504 with 4 Axes>"
      ]
     },
     "metadata": {
      "needs_background": "light"
     },
     "output_type": "display_data"
    }
   ],
   "source": [
    "plt.figure(figsize =(10,7))\n",
    "\n",
    "#############################\n",
    "ax1 = plt.subplot(221)\n",
    "\n",
    "\n",
    "print C_number_dict\n",
    "\n",
    "plt.bar([x for x in C_number_dict.keys()], [(float(C_number_dict[x])/sum(C_number_dict.values())) for x in C_number_dict.keys()], color = 'grey')\n",
    "plt.xlabel(\"Number of Cs in extended window (20-14)\", fontsize = 11.5)\n",
    "plt.ylabel('Fraction of gRNAs in library', fontsize = 11.5)\n",
    "\n",
    "\n",
    "plt.text(-.17, 1.03, 'A', fontsize = 17, transform = ax1.transAxes)\n",
    "\n",
    "\n",
    "#############################\n",
    "ax2 = plt.subplot(222)\n",
    "\n",
    "plt.bar([x for x in reordered_keys], [occupancy_dict[x] for x in reordered_keys],\n",
    "        color = 'grey')\n",
    "\n",
    "plt.xlim(20.5,13.5)\n",
    "plt.ylim(0,0.6)\n",
    "\n",
    "plt.xlabel('Extended activity window', fontsize = 11.5)\n",
    "plt.ylabel('Fraction of gRNAs with C at position', fontsize = 11.5)\n",
    "    \n",
    "plt.text(-.17, 1.03, 'B', fontsize = 17, transform = ax2.transAxes)\n",
    "\n",
    "\n",
    "\n",
    "#############################\n",
    "ax3 = plt.subplot(223)\n",
    "\n",
    "plt.bar([x for x in sub_categories.keys()], [(float(sub_categories[x])/sum(sub_categories.values())) for x in sub_categories.keys()],\n",
    "        color = 'grey')\n",
    "\n",
    "plt.bar([5], [float(sub_categories[1]+sub_categories[2])/sum(sub_categories.values())], color = 'k')\n",
    "        \n",
    "\n",
    "print sum(sub_categories.values())\n",
    "\n",
    "plt.ylim(0,1)\n",
    "plt.xlim(0.5, 5.5)\n",
    "\n",
    "print float(sub_categories[1]+sub_categories[2])/sum(sub_categories.values()), 'Very low to low risk'\n",
    "print float(sub_categories[4])/sum(sub_categories.values()), 'High risk'\n",
    "\n",
    "plt.xticks([1,2,3,4,5], ['V. Low', 'Low', 'Moderate', 'Highest', 'V. Low+Low'])\n",
    "plt.yticks([0,0.2,0.4,0.6,0.8,1], ['0.00','0.20','0.40','0.60','0.80','1.00'])\n",
    "\n",
    "plt.ylabel('Fraction of gRNAs in library', fontsize = 11.5)\n",
    "\n",
    "plt.text(-.17, 1.03, 'C', fontsize = 17, transform = ax3.transAxes)\n",
    "\n",
    "\n",
    "\n",
    "#############################\n",
    "ax4 = plt.subplot(224)\n",
    "\n",
    "plt.bar([1,4,7,10], [float(one_aa_affected[x])/predic_sum for x in range(1,5)], color = 'k')\n",
    "plt.bar([2,5,8,11], [float(two_aa_affected[x])/predic_sum for x in range(1,5)], color = 'grey')\n",
    "\n",
    "plt.bar([13], [float(sum(one_aa_affected.values()))/predic_sum], color = 'k')\n",
    "plt.bar([14], [float(sum(two_aa_affected.values()))/predic_sum], color = 'grey')\n",
    "\n",
    "\n",
    "single_aa_model_aggregate = float(sum(one_aa_affected.values()) + two_aa_affected[1] + two_aa_affected[2])/predic_sum\n",
    "two_aa_model_aggregate = float(two_aa_affected[3] + two_aa_affected[4])/predic_sum\n",
    "\n",
    "#print single_aa_model_aggregate + two_aa_model_aggregate + guides_no_mut_pred\n",
    "# make sure the total number of guides is consistent\n",
    "\n",
    "plt.bar([16], single_aa_model_aggregate, color = 'k')\n",
    "plt.bar([17], two_aa_model_aggregate, color = 'grey')\n",
    "\n",
    "plt.xticks([1.5, 4.5, 7.5, 10.5, 13.5, 16.5], ['V. Low', 'Low', 'Moderate', 'Highest', 'Total', 'Total\\nwith Model'])\n",
    "\n",
    "plt.ylabel('Fraction of gRNAs with prediction', fontsize = 11.5)\n",
    "\n",
    "plt.legend(['One amino acid affected by double edit', 'Two amino acids affected by double edit'], loc = 'upper left')\n",
    "\n",
    "plt.text(-.17, 1.03, 'D', fontsize = 17, transform = ax4.transAxes)\n",
    "\n",
    "\n",
    "plt.tight_layout()\n",
    "\n",
    "\n",
    "plt.savefig('./manuscript/figures/figure_S_library_C_pos_coedit.svg', format = 'svg', dpi= 600)"
   ]
  },
  {
   "cell_type": "code",
   "execution_count": null,
   "metadata": {},
   "outputs": [],
   "source": []
  },
  {
   "cell_type": "markdown",
   "metadata": {},
   "source": [
    "## Hit rate vs risk category and stop codon position in activity window"
   ]
  },
  {
   "cell_type": "code",
   "execution_count": 37,
   "metadata": {},
   "outputs": [],
   "source": [
    "exp_data = './z_score_annot.tsv'\n",
    "experiment_df = pd.read_csv(exp_data, sep='\\t', index_col=0, low_memory=False)\n",
    "# import gRNA data and z-score table\n",
    "\n",
    "#experiment_df.head(10)"
   ]
  },
  {
   "cell_type": "code",
   "execution_count": 38,
   "metadata": {},
   "outputs": [],
   "source": [
    "guides_w_score = chip_table.loc[list(experiment_df.index)].copy(deep=True)\n",
    "\n",
    "len(guides_w_score)\n",
    "\n",
    "guides_w_score['z_score_meanSE'] = experiment_df['z_score_meanSE']\n",
    "guides_w_score['over_threshold'] = experiment_df['over_threshold']"
   ]
  },
  {
   "cell_type": "code",
   "execution_count": 39,
   "metadata": {},
   "outputs": [],
   "source": [
    "# influence of risk category for all guides"
   ]
  },
  {
   "cell_type": "code",
   "execution_count": 40,
   "metadata": {},
   "outputs": [
    {
     "name": "stdout",
     "output_type": "stream",
     "text": [
      "11252 412 10840 0.0380073800738\n",
      "3193 140 3053 0.0458565345562\n",
      "950 53 897 0.0590858416945\n",
      "1359 103 1256 0.0820063694268\n",
      "16754 708 16046 0.0441231459554\n"
     ]
    }
   ],
   "source": [
    "sum_all = 0\n",
    "sum_hits = 0\n",
    "sum_non_hit = 0\n",
    "\n",
    "for risk in [1,2,3,4]:\n",
    "    \n",
    "    select_risk_cat = guides_w_score['co_edit_risk'] == risk\n",
    "    \n",
    "    over_threshold = guides_w_score['z_score_meanSE'] <= -2.01\n",
    "    \n",
    "    total_guides = len(guides_w_score[select_risk_cat])\n",
    "    sum_all+=total_guides\n",
    "    \n",
    "    hits = len(guides_w_score[(select_risk_cat)&(over_threshold)])\n",
    "    sum_hits+=hits\n",
    "    \n",
    "    non_hits = len(guides_w_score[(select_risk_cat)&(~over_threshold)])\n",
    "    sum_non_hit+=non_hits\n",
    "    \n",
    "    print total_guides, hits, non_hits, float(hits)/float(non_hits)\n",
    "    \n",
    "print sum_all, sum_hits, sum_non_hit, float(sum_hits)/sum_non_hit\n",
    "    "
   ]
  },
  {
   "cell_type": "code",
   "execution_count": 20,
   "metadata": {},
   "outputs": [],
   "source": [
    "# influence of risk category for guides where mut1 is not a stop codon in an essential"
   ]
  },
  {
   "cell_type": "code",
   "execution_count": 41,
   "metadata": {},
   "outputs": [
    {
     "name": "stdout",
     "output_type": "stream",
     "text": [
      "480  guides with CG mut1 resulting in stop codon\n",
      "752  guides with CT mut1 resulting in stop codon\n",
      "15522  guides with both CG mut1 and CT mut1 not resulting in stop codon\n",
      "10359 339 10020 0.0338323353293\n",
      "2986 120 2866 0.0418702023726\n",
      "892 48 844 0.0568720379147\n",
      "1285 87 1198 0.0726210350584\n",
      "15522 594 14928 0.0397909967846\n"
     ]
    }
   ],
   "source": [
    "stop_codon_CG1 = (guides_w_score['mut1_C>G'].str.contains('\\*')) & (guides_w_score['orf_type'] == 'essential')\n",
    "print len(guides_w_score[stop_codon_CG1]), ' guides with CG mut1 resulting in stop codon'\n",
    "\n",
    "stop_codon_CT1 = (guides_w_score['mut1_C>T'].str.contains('\\*')) & (guides_w_score['orf_type'] == 'essential')\n",
    "print len(guides_w_score[stop_codon_CT1]), ' guides with CT mut1 resulting in stop codon'\n",
    "\n",
    "non_stop_codon = ~(stop_codon_CG1 | stop_codon_CT1)\n",
    "print len(guides_w_score[non_stop_codon]) , ' guides with both CG mut1 and CT mut1 not resulting in stop codon'\n",
    "\n",
    "sum_all = 0\n",
    "sum_hits = 0\n",
    "sum_non_hit = 0\n",
    "\n",
    "for risk in [1,2,3,4]:\n",
    "    \n",
    "    select_risk_cat = guides_w_score['co_edit_risk'] == risk\n",
    "    \n",
    "    over_threshold = guides_w_score['z_score_meanSE'] <= -2.01\n",
    "    \n",
    "    total_guides = len(guides_w_score[(select_risk_cat)&(non_stop_codon)])\n",
    "    sum_all+=total_guides\n",
    "    \n",
    "    hits = len(guides_w_score[(select_risk_cat)&(over_threshold)&(non_stop_codon)])\n",
    "    sum_hits+=hits\n",
    "    \n",
    "    non_hits = len(guides_w_score[(select_risk_cat)&(~over_threshold)&(non_stop_codon)])\n",
    "    sum_non_hit+=non_hits\n",
    "    \n",
    "    print total_guides, hits, non_hits, float(hits)/float(non_hits)\n",
    "    \n",
    "print sum_all, sum_hits, sum_non_hit, float(sum_hits)/sum_non_hit\n",
    "\n",
    "\n"
   ]
  },
  {
   "cell_type": "code",
   "execution_count": 42,
   "metadata": {},
   "outputs": [
    {
     "name": "stdout",
     "output_type": "stream",
     "text": [
      "893 73 820 0.0890243902439\n",
      "207 20 187 0.106951871658\n",
      "58 5 53 0.0943396226415\n",
      "74 16 58 0.275862068966\n",
      "1232 114 1118 0.101967799642\n"
     ]
    }
   ],
   "source": [
    "sum_all = 0\n",
    "sum_hits = 0\n",
    "sum_non_hit = 0\n",
    "\n",
    "for risk in [1,2,3,4]:\n",
    "    \n",
    "    select_risk_cat = guides_w_score['co_edit_risk'] == risk\n",
    "    \n",
    "    over_threshold = guides_w_score['z_score_meanSE'] <= -2.01\n",
    "    \n",
    "    total_guides = len(guides_w_score[(select_risk_cat)&(~non_stop_codon)])\n",
    "    sum_all+=total_guides\n",
    "    \n",
    "    hits = len(guides_w_score[(select_risk_cat)&(over_threshold)&(~non_stop_codon)])\n",
    "    sum_hits+=hits\n",
    "    \n",
    "    non_hits = len(guides_w_score[(select_risk_cat)&(~over_threshold)&(~non_stop_codon)])\n",
    "    sum_non_hit+=non_hits\n",
    "    \n",
    "    print total_guides, hits, non_hits, float(hits)/float(non_hits)\n",
    "    \n",
    "print sum_all, sum_hits, sum_non_hit, float(sum_hits)/sum_non_hit\n"
   ]
  },
  {
   "cell_type": "code",
   "execution_count": 43,
   "metadata": {},
   "outputs": [
    {
     "name": "stdout",
     "output_type": "stream",
     "text": [
      "47 8 39 0.205128205128\n",
      "68 11 57 0.19298245614\n",
      "4 2 2 1.0\n",
      "46 13 33 0.393939393939\n",
      "165 34 131 0.259541984733\n"
     ]
    }
   ],
   "source": [
    "is_TGG_to_stop = ~(non_stop_codon)&(guides_w_score['mut1_C>T'].str.contains('W'))\n",
    "is_other_to_stop = ~(non_stop_codon)&~(guides_w_score['mut1_C>T'].str.contains('W'))\n",
    "\n",
    "\n",
    "sum_all = 0\n",
    "sum_hits = 0\n",
    "sum_non_hit = 0\n",
    "\n",
    "for risk in [1,2,3,4]:\n",
    "    \n",
    "    select_risk_cat = guides_w_score['co_edit_risk'] == risk\n",
    "    \n",
    "    over_threshold = guides_w_score['z_score_meanSE'] <= -2.01\n",
    "    \n",
    "    total_guides = len(guides_w_score[(select_risk_cat)&(is_TGG_to_stop)])\n",
    "    sum_all+=total_guides\n",
    "    \n",
    "    hits = len(guides_w_score[(select_risk_cat)&(over_threshold)&(is_TGG_to_stop)])\n",
    "    sum_hits+=hits\n",
    "    \n",
    "    non_hits = len(guides_w_score[(select_risk_cat)&(~over_threshold)&(is_TGG_to_stop)])\n",
    "    sum_non_hit+=non_hits\n",
    "    \n",
    "    print total_guides, hits, non_hits, float(hits)/float(non_hits)\n",
    "    \n",
    "print sum_all, sum_hits, sum_non_hit, float(sum_hits)/sum_non_hit\n"
   ]
  },
  {
   "cell_type": "code",
   "execution_count": 44,
   "metadata": {},
   "outputs": [
    {
     "name": "stdout",
     "output_type": "stream",
     "text": [
      "846 65 781 0.0832266325224\n",
      "139 9 130 0.0692307692308\n",
      "54 3 51 0.0588235294118\n",
      "28 3 25 0.12\n",
      "1067 80 987 0.081053698075\n"
     ]
    }
   ],
   "source": [
    "sum_all = 0\n",
    "sum_hits = 0\n",
    "sum_non_hit = 0\n",
    "\n",
    "\n",
    "for risk in [1,2,3,4]:\n",
    "    \n",
    "    select_risk_cat = guides_w_score['co_edit_risk'] == risk\n",
    "    \n",
    "    over_threshold = guides_w_score['z_score_meanSE'] <= -2.01\n",
    "    \n",
    "    total_guides = len(guides_w_score[(select_risk_cat)&(is_other_to_stop)])\n",
    "    sum_all+=total_guides\n",
    "    \n",
    "    hits = len(guides_w_score[(select_risk_cat)&(over_threshold)&(is_other_to_stop)])\n",
    "    sum_hits+=hits\n",
    "    \n",
    "    non_hits = len(guides_w_score[(select_risk_cat)&(~over_threshold)&(is_other_to_stop)])\n",
    "    sum_non_hit+=non_hits\n",
    "    \n",
    "    print total_guides, hits, non_hits, float(hits)/float(non_hits)\n",
    "    \n",
    "print sum_all, sum_hits, sum_non_hit, float(sum_hits)/sum_non_hit"
   ]
  },
  {
   "cell_type": "code",
   "execution_count": 45,
   "metadata": {},
   "outputs": [
    {
     "name": "stdout",
     "output_type": "stream",
     "text": [
      "846 65 781 0.0832266325224\n",
      "139 9 130 0.0692307692308\n",
      "54 3 51 0.0588235294118\n",
      "28 3 25 0.12\n"
     ]
    },
    {
     "data": {
      "text/plain": [
       "<matplotlib.lines.Line2D at 0x7f8861492c90>"
      ]
     },
     "execution_count": 45,
     "metadata": {},
     "output_type": "execute_result"
    },
    {
     "data": {
      "image/png": "[encoded data removed]",
      "text/plain": [
       "<Figure size 432x288 with 1 Axes>"
      ]
     },
     "metadata": {
      "needs_background": "light"
     },
     "output_type": "display_data"
    }
   ],
   "source": [
    "data_list = []\n",
    "\n",
    "for risk in [1,2,3,4]:\n",
    "    \n",
    "    select_risk_cat = guides_w_score['co_edit_risk'] == risk\n",
    "    \n",
    "    over_threshold = guides_w_score['z_score_meanSE'] <= -2.01\n",
    "    \n",
    "    total_guides = len(guides_w_score[(select_risk_cat)&(is_other_to_stop)])\n",
    "    data_list.append(guides_w_score[(select_risk_cat)&(is_other_to_stop)]['z_score_meanSE'])\n",
    "    sum_all+=total_guides\n",
    "    \n",
    "        \n",
    "    non_hits = len(guides_w_score[(select_risk_cat)&(~over_threshold)&(is_other_to_stop)])\n",
    "    data_list.append(guides_w_score[(select_risk_cat)&(~over_threshold)&(is_other_to_stop)]['z_score_meanSE'])\n",
    "    sum_non_hit+=non_hits\n",
    "    \n",
    "    hits = len(guides_w_score[(select_risk_cat)&(over_threshold)&(is_other_to_stop)])\n",
    "    data_list.append(guides_w_score[(select_risk_cat)&(over_threshold)&(is_other_to_stop)]['z_score_meanSE'])\n",
    "    sum_hits+=hits\n",
    "    \n",
    "    print total_guides, hits, non_hits, float(hits)/float(non_hits)\n",
    "    \n",
    "    \n",
    "pos = [1,2,3,5,6,7,9,10,11,13,14,15]\n",
    "\n",
    "plt.boxplot(data_list, positions=pos)\n",
    "plt.xlabel('Co-edit risk category')\n",
    "plt.xticks([2,6,10,14],[1,2,3,4])\n",
    "plt.axhline(-1.57)"
   ]
  },
  {
   "cell_type": "code",
   "execution_count": 46,
   "metadata": {},
   "outputs": [
    {
     "name": "stdout",
     "output_type": "stream",
     "text": [
      "-6.70262316617\n",
      "-2.801294148916956\n",
      "-2.1572633330034487\n",
      "-2.9452738841236936\n",
      "-2.377283077439323\n"
     ]
    },
    {
     "data": {
      "text/plain": [
       "Text(0.5,0,'z-score')"
      ]
     },
     "execution_count": 46,
     "metadata": {},
     "output_type": "execute_result"
    },
    {
     "data": {
      "image/png": "[encoded data removed]",
      "text/plain": [
       "<Figure size 432x288 with 1 Axes>"
      ]
     },
     "metadata": {
      "needs_background": "light"
     },
     "output_type": "display_data"
    }
   ],
   "source": [
    "bins = [x for x in np.arange(-7, 2,0.2)]\n",
    "\n",
    "print(min(data_list[2]))\n",
    "\n",
    "plt.hist(data_list[2], histtype='step', bins=bins, density=True, linewidth=2, color = 'blue', alpha = 0.7)\n",
    "plt.axvline(np.median(data_list[2]), color = 'blue', alpha = 0.7)\n",
    "print np.median(data_list[2])\n",
    "\n",
    "#plt.hist(data_list[5], histtype='step', bins=bins, density=True, linewidth=2, color = 'red', alpha = 0.7)\n",
    "plt.axvline(np.median(data_list[5]), color = 'red', alpha = 0.7)\n",
    "print np.median(data_list[5])\n",
    "\n",
    "\n",
    "#plt.hist(data_list[8], histtype='step', bins=bins, density=True, linewidth=2, color = 'green', alpha = 0.7)\n",
    "plt.axvline(np.median(data_list[8]), color = 'green', alpha = 0.7)\n",
    "print np.median(data_list[8])\n",
    "\n",
    "\n",
    "#plt.hist(data_list[11], histtype='step', bins=bins, density=True, linewidth=2, color = 'purple', alpha = 0.7)\n",
    "plt.axvline(np.median(data_list[11]), color = 'purple', alpha = 0.7)\n",
    "print np.median(data_list[11])\n",
    "\n",
    "\n",
    "\n",
    "plt.xlabel('z-score')"
   ]
  },
  {
   "cell_type": "code",
   "execution_count": null,
   "metadata": {},
   "outputs": [],
   "source": []
  },
  {
   "cell_type": "code",
   "execution_count": 47,
   "metadata": {},
   "outputs": [
    {
     "name": "stdout",
     "output_type": "stream",
     "text": [
      "480  guides with CG mut1 resulting in stop codon\n",
      "752  guides with CT mut1 resulting in stop codon\n",
      "480  guides with CG mut2 resulting in stop codon\n",
      "752  guides with CT mut2 resulting in stop codon\n"
     ]
    }
   ],
   "source": [
    "stop_codon_CG1 = (guides_w_score['mut1_C>G'].str.contains('\\*')) & (guides_w_score['orf_type'] == 'essential')\n",
    "print len(guides_w_score[stop_codon_CG1]), ' guides with CG mut1 resulting in stop codon'\n",
    "\n",
    "stop_codon_CT1 = (guides_w_score['mut1_C>T'].str.contains('\\*')) & (guides_w_score['orf_type'] == 'essential')\n",
    "print len(guides_w_score[stop_codon_CT1]), ' guides with CT mut1 resulting in stop codon'\n",
    "\n",
    "stop_codon_CG2 = (guides_w_score['mut2_C>G'].str.contains('\\*')) & (guides_w_score['orf_type'] == 'essential')\n",
    "print len(guides_w_score[stop_codon_CG1]), ' guides with CG mut2 resulting in stop codon'\n",
    "\n",
    "stop_codon_CT2 = (guides_w_score['mut2_C>T'].str.contains('\\*')) & (guides_w_score['orf_type'] == 'essential')\n",
    "print len(guides_w_score[stop_codon_CT1]), ' guides with CT mut2 resulting in stop codon'\n",
    "\n",
    "\n",
    "pos1_stop = stop_codon_CG1|stop_codon_CT1\n",
    "pos2_stop = stop_codon_CG2|stop_codon_CT2\n",
    "\n",
    "pos1_dependent = pos1_stop & ~pos2_stop"
   ]
  },
  {
   "cell_type": "code",
   "execution_count": 48,
   "metadata": {},
   "outputs": [
    {
     "name": "stdout",
     "output_type": "stream",
     "text": [
      "     CAA_hit  CAA_total  CAG_hit  CAG_total  CGA_hit  CGA_total  TCA_hit  \\\n",
      "1 2       10        361        9        121        0         28       32   \n",
      "3 4        4         58        1         16        0          3        1   \n",
      "\n",
      "     TCA_total  TGG_hit  TGG_total  TAC_hit  TAC_total  \n",
      "1 2        269       19        115       23        206  \n",
      "3 4          5       15         50        0          0  \n"
     ]
    },
    {
     "data": {
      "text/html": [
       "<div>\n",
       "<style scoped>\n",
       "    .dataframe tbody tr th:only-of-type {\n",
       "        vertical-align: middle;\n",
       "    }\n",
       "\n",
       "    .dataframe tbody tr th {\n",
       "        vertical-align: top;\n",
       "    }\n",
       "\n",
       "    .dataframe thead th {\n",
       "        text-align: right;\n",
       "    }\n",
       "</style>\n",
       "<table border=\"1\" class=\"dataframe\">\n",
       "  <thead>\n",
       "    <tr style=\"text-align: right;\">\n",
       "      <th></th>\n",
       "      <th>CAA_hit</th>\n",
       "      <th>CAA_total</th>\n",
       "      <th>CAG_hit</th>\n",
       "      <th>CAG_total</th>\n",
       "      <th>CGA_hit</th>\n",
       "      <th>CGA_total</th>\n",
       "      <th>TCA_hit</th>\n",
       "      <th>TCA_total</th>\n",
       "      <th>TGG_hit</th>\n",
       "      <th>TGG_total</th>\n",
       "      <th>...</th>\n",
       "      <th>TAC_total</th>\n",
       "      <th>all_hit</th>\n",
       "      <th>all_total</th>\n",
       "      <th>CAG_ratio_col</th>\n",
       "      <th>CAA_ratio_col</th>\n",
       "      <th>CGA_ratio_col</th>\n",
       "      <th>TCA_ratio_col</th>\n",
       "      <th>TGG_ratio_col</th>\n",
       "      <th>TAC_ratio_col</th>\n",
       "      <th>all_ratio_col</th>\n",
       "    </tr>\n",
       "  </thead>\n",
       "  <tbody>\n",
       "    <tr>\n",
       "      <th>(1, 2)</th>\n",
       "      <td>10</td>\n",
       "      <td>361</td>\n",
       "      <td>9</td>\n",
       "      <td>121</td>\n",
       "      <td>0</td>\n",
       "      <td>28</td>\n",
       "      <td>32</td>\n",
       "      <td>269</td>\n",
       "      <td>19</td>\n",
       "      <td>115</td>\n",
       "      <td>...</td>\n",
       "      <td>206.0</td>\n",
       "      <td>93</td>\n",
       "      <td>1100</td>\n",
       "      <td>0.074380</td>\n",
       "      <td>0.027701</td>\n",
       "      <td>0.0</td>\n",
       "      <td>0.118959</td>\n",
       "      <td>0.165217</td>\n",
       "      <td>0.11165</td>\n",
       "      <td>0.084545</td>\n",
       "    </tr>\n",
       "    <tr>\n",
       "      <th>(3, 4)</th>\n",
       "      <td>4</td>\n",
       "      <td>58</td>\n",
       "      <td>1</td>\n",
       "      <td>16</td>\n",
       "      <td>0</td>\n",
       "      <td>3</td>\n",
       "      <td>1</td>\n",
       "      <td>5</td>\n",
       "      <td>15</td>\n",
       "      <td>50</td>\n",
       "      <td>...</td>\n",
       "      <td>NaN</td>\n",
       "      <td>21</td>\n",
       "      <td>132</td>\n",
       "      <td>0.062500</td>\n",
       "      <td>0.068966</td>\n",
       "      <td>0.0</td>\n",
       "      <td>0.200000</td>\n",
       "      <td>0.300000</td>\n",
       "      <td>NaN</td>\n",
       "      <td>0.159091</td>\n",
       "    </tr>\n",
       "    <tr>\n",
       "      <th>Total</th>\n",
       "      <td>14</td>\n",
       "      <td>419</td>\n",
       "      <td>10</td>\n",
       "      <td>137</td>\n",
       "      <td>0</td>\n",
       "      <td>31</td>\n",
       "      <td>33</td>\n",
       "      <td>274</td>\n",
       "      <td>34</td>\n",
       "      <td>165</td>\n",
       "      <td>...</td>\n",
       "      <td>206.0</td>\n",
       "      <td>114</td>\n",
       "      <td>1232</td>\n",
       "      <td>0.072993</td>\n",
       "      <td>0.033413</td>\n",
       "      <td>0.0</td>\n",
       "      <td>0.120438</td>\n",
       "      <td>0.206061</td>\n",
       "      <td>0.11165</td>\n",
       "      <td>0.092532</td>\n",
       "    </tr>\n",
       "  </tbody>\n",
       "</table>\n",
       "<p>3 rows × 21 columns</p>\n",
       "</div>"
      ],
      "text/plain": [
       "        CAA_hit  CAA_total  CAG_hit  CAG_total  CGA_hit  CGA_total  TCA_hit  \\\n",
       "(1, 2)       10        361        9        121        0         28       32   \n",
       "(3, 4)        4         58        1         16        0          3        1   \n",
       "Total        14        419       10        137        0         31       33   \n",
       "\n",
       "        TCA_total  TGG_hit  TGG_total      ...        TAC_total  all_hit  \\\n",
       "(1, 2)        269       19        115      ...            206.0       93   \n",
       "(3, 4)          5       15         50      ...              NaN       21   \n",
       "Total         274       34        165      ...            206.0      114   \n",
       "\n",
       "        all_total  CAG_ratio_col  CAA_ratio_col  CGA_ratio_col  TCA_ratio_col  \\\n",
       "(1, 2)       1100       0.074380       0.027701            0.0       0.118959   \n",
       "(3, 4)        132       0.062500       0.068966            0.0       0.200000   \n",
       "Total        1232       0.072993       0.033413            0.0       0.120438   \n",
       "\n",
       "        TGG_ratio_col  TAC_ratio_col  all_ratio_col  \n",
       "(1, 2)       0.165217        0.11165       0.084545  \n",
       "(3, 4)       0.300000            NaN       0.159091  \n",
       "Total        0.206061        0.11165       0.092532  \n",
       "\n",
       "[3 rows x 21 columns]"
      ]
     },
     "execution_count": 48,
     "metadata": {},
     "output_type": "execute_result"
    }
   ],
   "source": [
    "dict_of_counter = {}\n",
    "\n",
    "for risk_cat in [(1,2),(3,4)]:\n",
    "\n",
    "    risk_counter = Counter()\n",
    "    \n",
    "    for start_codon in ['CAG', 'CAA', 'CGA', 'TCA', 'TGG', 'TAC']:\n",
    "        \n",
    "        counter_name = start_codon\n",
    "        \n",
    "        for status in ['_hit', '_total']:\n",
    "        \n",
    "            entry_name = counter_name + status\n",
    "        \n",
    "            risk_counter[entry_name] = 0\n",
    "\n",
    "    select_risk_cat = guides_w_score['co_edit_risk'].isin(risk_cat)\n",
    "\n",
    "    select_guide = (select_risk_cat) & (pos1_stop)\n",
    "\n",
    "    for risk_cat_guide in list(guides_w_score[select_guide].index):\n",
    "\n",
    "        start_aa_G = guides_w_score.loc[risk_cat_guide]['mut1_C>G']\n",
    "        start_aa_T = guides_w_score.loc[risk_cat_guide]['mut1_C>T']\n",
    "        \n",
    "        sequence = guides_w_score.loc[risk_cat_guide]['sequence']\n",
    "\n",
    "        if '*' in start_aa_G:\n",
    "            mut_aa = start_aa_G[0]\n",
    "            \n",
    "            if mut_aa == 'S':\n",
    "                mut_codon = 'TCA'\n",
    "            elif mut_aa == 'Y':\n",
    "                mut_codon = 'TAC'\n",
    "\n",
    "        if '*' in start_aa_T:\n",
    "            mut_aa = start_aa_T[0]\n",
    "            \n",
    "            if mut_aa == 'R':\n",
    "                mut_codon = 'CGA'\n",
    "            elif mut_aa == 'W':\n",
    "                mut_codon = 'TGG'\n",
    "            elif mut_aa == 'Q':\n",
    "                target_site = sequence[1:6]\n",
    "                if 'CAA' in target_site:\n",
    "                    mut_codon = 'CAA'\n",
    "                elif 'CAG' in target_site:\n",
    "                    mut_codon = 'CAG'\n",
    "            \n",
    "        if guides_w_score.loc[risk_cat_guide]['z_score_meanSE'] <= -2.01:\n",
    "            \n",
    "            risk_counter[(mut_codon+'_hit')] += 1\n",
    "            risk_counter[(mut_codon+'_total')] += 1\n",
    "            \n",
    "        else:\n",
    "            risk_counter[(mut_codon+'_total')] += 1\n",
    "        \n",
    "    \n",
    "    dict_of_counter[risk_cat] = risk_counter\n",
    "        \n",
    "    #print risk_counter, sum(risk_counter.values())\n",
    "    \n",
    "stop_start_by_risk = pd.DataFrame.from_dict(dict_of_counter, orient='index', \n",
    "                                            columns = ['CAA_hit', 'CAA_total', 'CAG_hit', 'CAG_total', 'CGA_hit', \n",
    "                                                       'CGA_total', 'TCA_hit', 'TCA_total', 'TGG_hit', 'TGG_total',\n",
    "                                                       'TAC_hit', 'TAC_total'])\n",
    "print stop_start_by_risk.head(10)\n",
    "\n",
    "stop_start_by_risk['all_hit'] = stop_start_by_risk['CAA_hit'] + stop_start_by_risk['CAG_hit'] +\\\n",
    "                                stop_start_by_risk['CGA_hit']+ stop_start_by_risk['TCA_hit'] + \\\n",
    "                                stop_start_by_risk['TGG_hit']+ stop_start_by_risk['TAC_hit']\n",
    "\n",
    "stop_start_by_risk['all_total'] = stop_start_by_risk['CAA_total'] + stop_start_by_risk['CAG_total'] +\\\n",
    "                                stop_start_by_risk['CGA_total']+ stop_start_by_risk['TCA_total'] + \\\n",
    "                                stop_start_by_risk['TGG_total']+ stop_start_by_risk['TAC_total']\n",
    "\n",
    "stop_start_by_risk.loc['Total']= stop_start_by_risk.sum()\n",
    "\n",
    "for codon in ['CAG', 'CAA', 'CGA', 'TCA', 'TGG', 'TAC', 'all']:\n",
    "    \n",
    "    hit_col = codon+ '_hit'\n",
    "    total_col = codon + '_total'\n",
    "    \n",
    "    stop_start_by_risk[total_col].replace(0, np.nan, inplace=True)\n",
    "    \n",
    "    stop_start_by_risk[(codon+'_ratio_col')] = stop_start_by_risk[hit_col]/stop_start_by_risk[total_col]\n",
    "\n",
    "stop_start_by_risk.head(10)"
   ]
  },
  {
   "cell_type": "code",
   "execution_count": 49,
   "metadata": {},
   "outputs": [
    {
     "data": {
      "text/plain": [
       "['CAA_ratio_col',\n",
       " 'CGA_ratio_col',\n",
       " 'CAG_ratio_col',\n",
       " 'TAC_ratio_col',\n",
       " 'TCA_ratio_col',\n",
       " 'TGG_ratio_col',\n",
       " 'all_ratio_col']"
      ]
     },
     "execution_count": 49,
     "metadata": {},
     "output_type": "execute_result"
    }
   ],
   "source": [
    "cols = [x+'_ratio_col' for x in ['CAA', 'CGA', 'CAG', 'TAC', 'TCA', 'TGG', 'all']]\n",
    "cols"
   ]
  },
  {
   "cell_type": "code",
   "execution_count": 50,
   "metadata": {},
   "outputs": [
    {
     "data": {
      "text/html": [
       "<div>\n",
       "<style scoped>\n",
       "    .dataframe tbody tr th:only-of-type {\n",
       "        vertical-align: middle;\n",
       "    }\n",
       "\n",
       "    .dataframe tbody tr th {\n",
       "        vertical-align: top;\n",
       "    }\n",
       "\n",
       "    .dataframe thead th {\n",
       "        text-align: right;\n",
       "    }\n",
       "</style>\n",
       "<table border=\"1\" class=\"dataframe\">\n",
       "  <thead>\n",
       "    <tr style=\"text-align: right;\">\n",
       "      <th></th>\n",
       "      <th>CAA_ratio_col</th>\n",
       "      <th>CGA_ratio_col</th>\n",
       "      <th>CAG_ratio_col</th>\n",
       "      <th>TAC_ratio_col</th>\n",
       "      <th>TCA_ratio_col</th>\n",
       "      <th>TGG_ratio_col</th>\n",
       "      <th>all_ratio_col</th>\n",
       "    </tr>\n",
       "  </thead>\n",
       "  <tbody>\n",
       "    <tr>\n",
       "      <th>(1, 2)</th>\n",
       "      <td>0.027701</td>\n",
       "      <td>0.0</td>\n",
       "      <td>0.074380</td>\n",
       "      <td>0.11165</td>\n",
       "      <td>0.118959</td>\n",
       "      <td>0.165217</td>\n",
       "      <td>0.084545</td>\n",
       "    </tr>\n",
       "    <tr>\n",
       "      <th>(3, 4)</th>\n",
       "      <td>0.068966</td>\n",
       "      <td>0.0</td>\n",
       "      <td>0.062500</td>\n",
       "      <td>NaN</td>\n",
       "      <td>0.200000</td>\n",
       "      <td>0.300000</td>\n",
       "      <td>0.159091</td>\n",
       "    </tr>\n",
       "    <tr>\n",
       "      <th>Total</th>\n",
       "      <td>0.033413</td>\n",
       "      <td>0.0</td>\n",
       "      <td>0.072993</td>\n",
       "      <td>0.11165</td>\n",
       "      <td>0.120438</td>\n",
       "      <td>0.206061</td>\n",
       "      <td>0.092532</td>\n",
       "    </tr>\n",
       "  </tbody>\n",
       "</table>\n",
       "</div>"
      ],
      "text/plain": [
       "        CAA_ratio_col  CGA_ratio_col  CAG_ratio_col  TAC_ratio_col  \\\n",
       "(1, 2)       0.027701            0.0       0.074380        0.11165   \n",
       "(3, 4)       0.068966            0.0       0.062500            NaN   \n",
       "Total        0.033413            0.0       0.072993        0.11165   \n",
       "\n",
       "        TCA_ratio_col  TGG_ratio_col  all_ratio_col  \n",
       "(1, 2)       0.118959       0.165217       0.084545  \n",
       "(3, 4)       0.200000       0.300000       0.159091  \n",
       "Total        0.120438       0.206061       0.092532  "
      ]
     },
     "execution_count": 50,
     "metadata": {},
     "output_type": "execute_result"
    }
   ],
   "source": [
    "stop_start_by_risk[cols]"
   ]
  },
  {
   "cell_type": "code",
   "execution_count": 52,
   "metadata": {},
   "outputs": [
    {
     "data": {
      "image/png": "[encoded data removed]",
      "text/plain": [
       "<Figure size 432x288 with 2 Axes>"
      ]
     },
     "metadata": {
      "needs_background": "light"
     },
     "output_type": "display_data"
    }
   ],
   "source": [
    "\n",
    "\n",
    "ax = sns.heatmap(stop_start_by_risk[cols], cmap='viridis', vmin=0, square=True,\n",
    "                 cbar_kws = dict(use_gridspec=False,location=\"bottom\",pad=0.03, label = 'GNE rate',\n",
    "                                aspect =30))\n",
    "plt.yticks([0.5,1.5,2.5], ['Risk \\n1 or 2', 'Risk \\n3 or 4', 'Total'], rotation = 0, fontsize=14)\n",
    "plt.xticks([0.5,1.5,2.5,3.5,4.5,5.5,6.5], [' Q \\nCAA', ' R \\nCGA', ' Q \\nCAG', ' Y \\nTAC', \n",
    "                                           ' S \\nTCA', ' W \\nTGG', 'Total'],\n",
    "           fontsize=14)\n",
    "ax.xaxis.tick_top()\n",
    "plt.axvline(6, color='white', linewidth = 3)\n",
    "\n",
    "ax.figure.axes[-1].set_xlabel('Essential gene GNE ratio', size=14)\n",
    "plt.savefig('./figures_revised/heatmap_stop_codons_revisedv2.svg', format='svg', dpi=600)\n",
    "stop_start_by_risk[cols].to_csv('./figures_revised/stop_codon_efficiency_source_data_revisedv2.csv', \n",
    "                                na_rep = 'nan')"
   ]
  },
  {
   "cell_type": "code",
   "execution_count": 66,
   "metadata": {},
   "outputs": [],
   "source": [
    "guides_w_score.to_csv('./screen_guides_wscoreannot_revisedv2.tsv', sep='\\t')"
   ]
  }
 ],
 "metadata": {
  "kernelspec": {
   "display_name": "Python 2",
   "language": "python",
   "name": "python2"
  },
  "language_info": {
   "codemirror_mode": {
    "name": "ipython",
    "version": 2
   },
   "file_extension": ".py",
   "mimetype": "text/x-python",
   "name": "python",
   "nbconvert_exporter": "python",
   "pygments_lexer": "ipython2",
   "version": "2.7.6"
  }
 },
 "nbformat": 4,
 "nbformat_minor": 2
}
